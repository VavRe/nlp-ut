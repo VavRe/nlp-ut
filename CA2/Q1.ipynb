{
 "cells": [
  {
   "cell_type": "code",
   "execution_count": 6,
   "metadata": {},
   "outputs": [],
   "source": [
    "import pickle\n",
    "import pandas as pd"
   ]
  },
  {
   "cell_type": "code",
   "execution_count": 7,
   "metadata": {},
   "outputs": [],
   "source": [
    "dataset = pd.read_pickle('./datasets/preprocessed.pkl')"
   ]
  },
  {
   "cell_type": "code",
   "execution_count": 8,
   "metadata": {},
   "outputs": [
    {
     "name": "stdout",
     "output_type": "stream",
     "text": [
      "Dataset size:  14000\n",
      "Test Data size:  1400\n",
      "Train Data size:  12600\n"
     ]
    }
   ],
   "source": [
    "dataset = dataset.sample(frac=1, random_state=4)\n",
    "train_data = dataset[:int(len(dataset)*0.9)]\n",
    "test_data = dataset[int(len(dataset)*0.9):]\n",
    "print(\"Dataset size: \", len(dataset))\n",
    "print(\"Test Data size: \", len(test_data))\n",
    "print(\"Train Data size: \", len(train_data))"
   ]
  },
  {
   "cell_type": "code",
   "execution_count": 9,
   "metadata": {},
   "outputs": [
    {
     "data": {
      "text/plain": [
       "8756     [بسیار, بسیار, زود, رسید, زودتر, از, زمان, انت...\n",
       "5474                  [پیشنهاد, میدم, غذاهاشون, تست, کنید]\n",
       "11242    [یه, برگر, ۱, ساعت, و, نیم, طول, کشید, بجای, غ...\n",
       "7820     [غذا, بیشتر, از, یکساعت, طول, کشید, تا, برسه, ...\n",
       "7909     [نونش, واقعا, نا, مناسبه, با, این, قسمت, دورچی...\n",
       "                               ...                        \n",
       "6017     [کیفیت, و, حجم, مواد, مناسب, بود, و, طعم, خوبی...\n",
       "709      [با, تشکر, ؛, سفارش, بسیار, سریع, رسید, ., اما...\n",
       "10679                 [موهیتو, یخ, زده_بود, و, تازه, نبود]\n",
       "8366     [باسلام‌با, منت, کد, تخفیف, میفرستید, درحالیکه...\n",
       "1146     [جوجه, خوب, بود, فقط, نکته, راجع‌به, مخلفات, ه...\n",
       "Name: comment, Length: 14000, dtype: object"
      ]
     },
     "execution_count": 9,
     "metadata": {},
     "output_type": "execute_result"
    }
   ],
   "source": []
  }
 ],
 "metadata": {
  "kernelspec": {
   "display_name": "hazm-venv",
   "language": "python",
   "name": "python3"
  },
  "language_info": {
   "codemirror_mode": {
    "name": "ipython",
    "version": 3
   },
   "file_extension": ".py",
   "mimetype": "text/x-python",
   "name": "python",
   "nbconvert_exporter": "python",
   "pygments_lexer": "ipython3",
   "version": "3.10.6"
  },
  "orig_nbformat": 4
 },
 "nbformat": 4,
 "nbformat_minor": 2
}
