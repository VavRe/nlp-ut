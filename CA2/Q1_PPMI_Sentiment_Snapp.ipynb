{
  "cells": [
    {
      "cell_type": "markdown",
      "metadata": {
        "colab_type": "text",
        "id": "view-in-github"
      },
      "source": [
        "<a href=\"https://colab.research.google.com/github/VavRe/nlp-ut/blob/main/CA2/PPMI_Sentiment_Snapp.ipynb\" target=\"_parent\"><img src=\"https://colab.research.google.com/assets/colab-badge.svg\" alt=\"Open In Colab\"/></a>"
      ]
    },
    {
      "cell_type": "code",
      "execution_count": 3,
      "metadata": {
        "colab": {
          "base_uri": "https://localhost:8080/"
        },
        "id": "Zlha7bhGnUZc",
        "outputId": "9e43af31-ba38-4f76-ba65-2b72e9de3869"
      },
      "outputs": [
        {
          "name": "stdout",
          "output_type": "stream",
          "text": [
            "Looking in indexes: https://pypi.org/simple, https://us-python.pkg.dev/colab-wheels/public/simple/\n",
            "Collecting hazm\n",
            "  Downloading hazm-0.7.0-py3-none-any.whl (316 kB)\n",
            "\u001b[2K     \u001b[90m━━━━━━━━━━━━━━━━━━━━━━━━━━━━━━━━━━━━━━━\u001b[0m \u001b[32m316.7/316.7 kB\u001b[0m \u001b[31m6.3 MB/s\u001b[0m eta \u001b[36m0:00:00\u001b[0m\n",
            "\u001b[?25hCollecting nltk==3.3\n",
            "  Downloading nltk-3.3.0.zip (1.4 MB)\n",
            "\u001b[2K     \u001b[90m━━━━━━━━━━━━━━━━━━━━━━━━━━━━━━━━━━━━━━━━\u001b[0m \u001b[32m1.4/1.4 MB\u001b[0m \u001b[31m35.8 MB/s\u001b[0m eta \u001b[36m0:00:00\u001b[0m\n",
            "\u001b[?25h  Preparing metadata (setup.py) ... \u001b[?25l\u001b[?25hdone\n",
            "Collecting libwapiti>=0.2.1\n",
            "  Downloading libwapiti-0.2.1.tar.gz (233 kB)\n",
            "\u001b[2K     \u001b[90m━━━━━━━━━━━━━━━━━━━━━━━━━━━━━━━━━━━━━━\u001b[0m \u001b[32m233.6/233.6 kB\u001b[0m \u001b[31m19.1 MB/s\u001b[0m eta \u001b[36m0:00:00\u001b[0m\n",
            "\u001b[?25h  Preparing metadata (setup.py) ... \u001b[?25l\u001b[?25hdone\n",
            "Requirement already satisfied: six in /usr/local/lib/python3.10/dist-packages (from nltk==3.3->hazm) (1.16.0)\n",
            "Building wheels for collected packages: nltk, libwapiti\n",
            "  Building wheel for nltk (setup.py) ... \u001b[?25l\u001b[?25hdone\n",
            "  Created wheel for nltk: filename=nltk-3.3-py3-none-any.whl size=1394491 sha256=23cf00e4beeda363186dd7bf26e962e7231e995b9003c686c228a25cd8d9bd48\n",
            "  Stored in directory: /root/.cache/pip/wheels/6b/6d/14/3defa4cd7013faeddf715150696f4a96d7725c87700eb8a68e\n",
            "  Building wheel for libwapiti (setup.py) ... \u001b[?25l\u001b[?25hdone\n",
            "  Created wheel for libwapiti: filename=libwapiti-0.2.1-cp310-cp310-linux_x86_64.whl size=180332 sha256=78b11a980baf7d1db4233af4a5e9350386d823c56db3975e426ac663439c785e\n",
            "  Stored in directory: /root/.cache/pip/wheels/9f/cb/30/fef48ecac051e433987eccdb5682900b4c00d44a4bcd4d4ec8\n",
            "Successfully built nltk libwapiti\n",
            "Installing collected packages: nltk, libwapiti, hazm\n",
            "  Attempting uninstall: nltk\n",
            "    Found existing installation: nltk 3.8.1\n",
            "    Uninstalling nltk-3.8.1:\n",
            "      Successfully uninstalled nltk-3.8.1\n",
            "Successfully installed hazm-0.7.0 libwapiti-0.2.1 nltk-3.3\n"
          ]
        }
      ],
      "source": [
        "!pip install hazm"
      ]
    },
    {
      "cell_type": "code",
      "execution_count": 4,
      "metadata": {
        "id": "M0X7Wxn9g5Ew"
      },
      "outputs": [],
      "source": [
        "import pickle\n",
        "import pandas as pd\n",
        "import numpy as np\n",
        "import string\n",
        "import hazm\n",
        "from tqdm import tqdm"
      ]
    },
    {
      "cell_type": "code",
      "execution_count": 5,
      "metadata": {
        "colab": {
          "base_uri": "https://localhost:8080/"
        },
        "id": "O6PUvkuMg8d5",
        "outputId": "9b5cfbb4-717f-45cd-cb40-57cbf8fdcbdb"
      },
      "outputs": [
        {
          "name": "stdout",
          "output_type": "stream",
          "text": [
            "Mounted at /content/drive\n"
          ]
        }
      ],
      "source": [
        "from google.colab import drive\n",
        "drive.mount('/content/drive')"
      ]
    },
    {
      "cell_type": "code",
      "execution_count": 6,
      "metadata": {
        "id": "ehH2Icv2g-AG"
      },
      "outputs": [],
      "source": [
        "COLAB_DATASET_PATH = \"/content/drive/MyDrive/NLP/CA2/preprocessed.pkl\"\n",
        "LOCAL_DATASET_PATH = './datasets/preprocessed.pkl'\n",
        "dataset = pd.read_pickle(COLAB_DATASET_PATH)"
      ]
    },
    {
      "cell_type": "code",
      "execution_count": 7,
      "metadata": {
        "colab": {
          "base_uri": "https://localhost:8080/"
        },
        "id": "PiiGAdODg_a_",
        "outputId": "a562c1d4-4225-4865-807d-c2e1b6e2c3ba"
      },
      "outputs": [
        {
          "name": "stdout",
          "output_type": "stream",
          "text": [
            "Dataset size:  14000\n",
            "Test Data size:  1400\n",
            "Train Data size:  12600\n"
          ]
        }
      ],
      "source": [
        "dataset = dataset.sample(frac=1, random_state=4)\n",
        "train_data = dataset[:int(len(dataset)*0.9)]\n",
        "test_data = dataset[int(len(dataset)*0.9):]\n",
        "print(\"Dataset size: \", len(dataset))\n",
        "print(\"Test Data size: \", len(test_data))\n",
        "print(\"Train Data size: \", len(train_data))"
      ]
    },
    {
      "cell_type": "code",
      "execution_count": 8,
      "metadata": {
        "colab": {
          "base_uri": "https://localhost:8080/"
        },
        "id": "Ih4-MS3ChDZw",
        "outputId": "e6f7ee8b-bc80-451c-9c1f-1f4d6180a068"
      },
      "outputs": [
        {
          "data": {
            "text/plain": [
              "8756     None\n",
              "5474     None\n",
              "11242    None\n",
              "7820     None\n",
              "7909     None\n",
              "         ... \n",
              "10142    None\n",
              "8828     None\n",
              "11554    None\n",
              "11609    None\n",
              "904      None\n",
              "Name: comment, Length: 12600, dtype: object"
            ]
          },
          "execution_count": 8,
          "metadata": {},
          "output_type": "execute_result"
        }
      ],
      "source": [
        "\n",
        "vocabulary = set()\n",
        "tf = dict()\n",
        "\n",
        "\n",
        "def make_vocab(sentence):\n",
        "\n",
        "    for word in sentence:\n",
        "         vocabulary.add(word)\n",
        "\n",
        "\n",
        "train_data[\"comment\"].apply(make_vocab)\n"
      ]
    },
    {
      "cell_type": "code",
      "execution_count": 9,
      "metadata": {
        "id": "rCNkDg2lhFfI"
      },
      "outputs": [],
      "source": [
        "word_index = dict()\n",
        "def map_word_index(vocabulary):\n",
        "    for index,word in enumerate(vocabulary):\n",
        "        word_index[word] = index\n",
        "        \n",
        "map_word_index(vocabulary)"
      ]
    },
    {
      "cell_type": "code",
      "execution_count": 10,
      "metadata": {
        "colab": {
          "base_uri": "https://localhost:8080/"
        },
        "id": "J_30Q07shbQ3",
        "outputId": "00b2d0ee-3735-4ed9-c482-95cf93b978d0"
      },
      "outputs": [
        {
          "name": "stderr",
          "output_type": "stream",
          "text": [
            "Comment Loop: 100%|██████████| 12600/12600 [00:45<00:00, 274.71it/s]\n"
          ]
        }
      ],
      "source": [
        "co_occurance_matrix = np.zeros([len(vocabulary),len(vocabulary)])\n",
        "stopwords = hazm.stopwords_list()\n",
        "for comment in tqdm(train_data[\"comment\"], desc=\"Comment Loop\"):\n",
        "    for word in comment:\n",
        "        for other_words in comment:\n",
        "            if other_words != word and other_words not in string.punctuation and other_words not in stopwords:\n",
        "                co_occurance_matrix[word_index[word]][word_index[other_words]] += 1"
      ]
    },
    {
      "cell_type": "code",
      "execution_count": 11,
      "metadata": {
        "colab": {
          "base_uri": "https://localhost:8080/"
        },
        "id": "YsvIy1Ojhlbb",
        "outputId": "b528bfc9-6c20-4140-fdbf-c355b8f04ca3"
      },
      "outputs": [
        {
          "name": "stdout",
          "output_type": "stream",
          "text": [
            "گرم\n",
            "،\n",
            "ارسال\n",
            "غذا\n",
            "سفارش\n"
          ]
        }
      ],
      "source": [
        "def check_most_cooc(word):\n",
        "  largest_indices = np.argpartition(co_occurance_matrix[word_index[word]], -5)[-5:]\n",
        "  for i in largest_indices:\n",
        "    print(list(vocabulary)[i])\n",
        "\n",
        "check_most_cooc(\"نوشابه\")"
      ]
    },
    {
      "cell_type": "code",
      "execution_count": 12,
      "metadata": {
        "colab": {
          "base_uri": "https://localhost:8080/"
        },
        "id": "qTQEBl4YiL8g",
        "outputId": "6ae3e34b-02be-4c04-e655-258e607ee2d7"
      },
      "outputs": [
        {
          "name": "stderr",
          "output_type": "stream",
          "text": [
            "<ipython-input-12-d6ae4b2c1ab1>:12: RuntimeWarning: divide by zero encountered in true_divide\n",
            "  ppmi_matrix = np.where(outer != 0, np.maximum(np.log(probability_matrix/outer), 0), 0)\n",
            "<ipython-input-12-d6ae4b2c1ab1>:12: RuntimeWarning: invalid value encountered in true_divide\n",
            "  ppmi_matrix = np.where(outer != 0, np.maximum(np.log(probability_matrix/outer), 0), 0)\n",
            "<ipython-input-12-d6ae4b2c1ab1>:12: RuntimeWarning: divide by zero encountered in log\n",
            "  ppmi_matrix = np.where(outer != 0, np.maximum(np.log(probability_matrix/outer), 0), 0)\n"
          ]
        }
      ],
      "source": [
        "probability_matrix = co_occurance_matrix/np.sum(co_occurance_matrix)\n",
        "word_probability = np.sum(probability_matrix,1)\n",
        "\n",
        "# Vectorized, Efficient Way\n",
        "ppmi_matrix = np.zeros([len(vocabulary),len(vocabulary)])\n",
        "outer = np.outer(word_probability, word_probability)\n",
        "ppmi_matrix = np.where(outer != 0, np.maximum(np.log(probability_matrix/outer), 0), 0)\n",
        "np.fill_diagonal(ppmi_matrix, 0)\n",
        "\n",
        "# Not Efficient Way\n",
        "# ppmi_matrix = np.zeros([len(vocabulary),len(vocabulary)])\n",
        "# for i in tqdm(range(len(vocabulary)), desc=\"PPMI Matrix\"):\n",
        "#     for j in range(len(vocabulary)):\n",
        "#         if i != j:\n",
        "#             ppmi_matrix[i][j] = max(np.log(probability_matrix[i][j]/(word_probability[i]*word_probability[j])),0)"
      ]
    },
    {
      "cell_type": "code",
      "execution_count": 13,
      "metadata": {
        "id": "2Uv_Fy4mhpWu"
      },
      "outputs": [],
      "source": [
        "def fit_ppmi(comment):\n",
        "    vectors = np.zeros(len(comment),len(vocabulary))\n",
        "    for idx,word in enumerate(comment):\n",
        "        if word in vocabulary:\n",
        "          vectors[idx] = ppmi_matrix[word_index[word]]\n",
        "    return np.mean(vectors,0)\n",
        "\n",
        "fit_ppmi = lambda comment: np.mean([ppmi_matrix[word_index[word]]  for word in comment if word in vocabulary],0)"
      ]
    },
    {
      "cell_type": "code",
      "execution_count": 14,
      "metadata": {
        "colab": {
          "base_uri": "https://localhost:8080/"
        },
        "id": "DmxHFBDohsUJ",
        "outputId": "1e1ac454-c867-44f3-82e4-60cbcbe1eaef"
      },
      "outputs": [
        {
          "name": "stderr",
          "output_type": "stream",
          "text": [
            "<ipython-input-14-40e46d49c36e>:1: SettingWithCopyWarning: \n",
            "A value is trying to be set on a copy of a slice from a DataFrame.\n",
            "Try using .loc[row_indexer,col_indexer] = value instead\n",
            "\n",
            "See the caveats in the documentation: https://pandas.pydata.org/pandas-docs/stable/user_guide/indexing.html#returning-a-view-versus-a-copy\n",
            "  train_data[\"ppmi_vectorized\"] = train_data[\"comment\"].apply(fit_ppmi)\n",
            "/usr/local/lib/python3.10/dist-packages/numpy/core/fromnumeric.py:3474: RuntimeWarning: Mean of empty slice.\n",
            "  return _methods._mean(a, axis=axis, dtype=dtype,\n",
            "<ipython-input-14-40e46d49c36e>:2: SettingWithCopyWarning: \n",
            "A value is trying to be set on a copy of a slice from a DataFrame.\n",
            "Try using .loc[row_indexer,col_indexer] = value instead\n",
            "\n",
            "See the caveats in the documentation: https://pandas.pydata.org/pandas-docs/stable/user_guide/indexing.html#returning-a-view-versus-a-copy\n",
            "  test_data[\"ppmi_vectorized\"] = test_data[\"comment\"].apply(fit_ppmi)\n"
          ]
        }
      ],
      "source": [
        "train_data[\"ppmi_vectorized\"] = train_data[\"comment\"].apply(fit_ppmi)\n",
        "test_data[\"ppmi_vectorized\"] = test_data[\"comment\"].apply(fit_ppmi)"
      ]
    },
    {
      "cell_type": "code",
      "execution_count": 15,
      "metadata": {
        "colab": {
          "base_uri": "https://localhost:8080/",
          "height": 75
        },
        "id": "0fKYszxThxOp",
        "outputId": "6d28f55b-1635-4671-f2d1-910e6463dda1"
      },
      "outputs": [
        {
          "data": {
            "text/html": [
              "<style>#sk-container-id-1 {color: black;background-color: white;}#sk-container-id-1 pre{padding: 0;}#sk-container-id-1 div.sk-toggleable {background-color: white;}#sk-container-id-1 label.sk-toggleable__label {cursor: pointer;display: block;width: 100%;margin-bottom: 0;padding: 0.3em;box-sizing: border-box;text-align: center;}#sk-container-id-1 label.sk-toggleable__label-arrow:before {content: \"▸\";float: left;margin-right: 0.25em;color: #696969;}#sk-container-id-1 label.sk-toggleable__label-arrow:hover:before {color: black;}#sk-container-id-1 div.sk-estimator:hover label.sk-toggleable__label-arrow:before {color: black;}#sk-container-id-1 div.sk-toggleable__content {max-height: 0;max-width: 0;overflow: hidden;text-align: left;background-color: #f0f8ff;}#sk-container-id-1 div.sk-toggleable__content pre {margin: 0.2em;color: black;border-radius: 0.25em;background-color: #f0f8ff;}#sk-container-id-1 input.sk-toggleable__control:checked~div.sk-toggleable__content {max-height: 200px;max-width: 100%;overflow: auto;}#sk-container-id-1 input.sk-toggleable__control:checked~label.sk-toggleable__label-arrow:before {content: \"▾\";}#sk-container-id-1 div.sk-estimator input.sk-toggleable__control:checked~label.sk-toggleable__label {background-color: #d4ebff;}#sk-container-id-1 div.sk-label input.sk-toggleable__control:checked~label.sk-toggleable__label {background-color: #d4ebff;}#sk-container-id-1 input.sk-hidden--visually {border: 0;clip: rect(1px 1px 1px 1px);clip: rect(1px, 1px, 1px, 1px);height: 1px;margin: -1px;overflow: hidden;padding: 0;position: absolute;width: 1px;}#sk-container-id-1 div.sk-estimator {font-family: monospace;background-color: #f0f8ff;border: 1px dotted black;border-radius: 0.25em;box-sizing: border-box;margin-bottom: 0.5em;}#sk-container-id-1 div.sk-estimator:hover {background-color: #d4ebff;}#sk-container-id-1 div.sk-parallel-item::after {content: \"\";width: 100%;border-bottom: 1px solid gray;flex-grow: 1;}#sk-container-id-1 div.sk-label:hover label.sk-toggleable__label {background-color: #d4ebff;}#sk-container-id-1 div.sk-serial::before {content: \"\";position: absolute;border-left: 1px solid gray;box-sizing: border-box;top: 0;bottom: 0;left: 50%;z-index: 0;}#sk-container-id-1 div.sk-serial {display: flex;flex-direction: column;align-items: center;background-color: white;padding-right: 0.2em;padding-left: 0.2em;position: relative;}#sk-container-id-1 div.sk-item {position: relative;z-index: 1;}#sk-container-id-1 div.sk-parallel {display: flex;align-items: stretch;justify-content: center;background-color: white;position: relative;}#sk-container-id-1 div.sk-item::before, #sk-container-id-1 div.sk-parallel-item::before {content: \"\";position: absolute;border-left: 1px solid gray;box-sizing: border-box;top: 0;bottom: 0;left: 50%;z-index: -1;}#sk-container-id-1 div.sk-parallel-item {display: flex;flex-direction: column;z-index: 1;position: relative;background-color: white;}#sk-container-id-1 div.sk-parallel-item:first-child::after {align-self: flex-end;width: 50%;}#sk-container-id-1 div.sk-parallel-item:last-child::after {align-self: flex-start;width: 50%;}#sk-container-id-1 div.sk-parallel-item:only-child::after {width: 0;}#sk-container-id-1 div.sk-dashed-wrapped {border: 1px dashed gray;margin: 0 0.4em 0.5em 0.4em;box-sizing: border-box;padding-bottom: 0.4em;background-color: white;}#sk-container-id-1 div.sk-label label {font-family: monospace;font-weight: bold;display: inline-block;line-height: 1.2em;}#sk-container-id-1 div.sk-label-container {text-align: center;}#sk-container-id-1 div.sk-container {/* jupyter's `normalize.less` sets `[hidden] { display: none; }` but bootstrap.min.css set `[hidden] { display: none !important; }` so we also need the `!important` here to be able to override the default hidden behavior on the sphinx rendered scikit-learn.org. See: https://github.com/scikit-learn/scikit-learn/issues/21755 */display: inline-block !important;position: relative;}#sk-container-id-1 div.sk-text-repr-fallback {display: none;}</style><div id=\"sk-container-id-1\" class=\"sk-top-container\"><div class=\"sk-text-repr-fallback\"><pre>MultinomialNB()</pre><b>In a Jupyter environment, please rerun this cell to show the HTML representation or trust the notebook. <br />On GitHub, the HTML representation is unable to render, please try loading this page with nbviewer.org.</b></div><div class=\"sk-container\" hidden><div class=\"sk-item\"><div class=\"sk-estimator sk-toggleable\"><input class=\"sk-toggleable__control sk-hidden--visually\" id=\"sk-estimator-id-1\" type=\"checkbox\" checked><label for=\"sk-estimator-id-1\" class=\"sk-toggleable__label sk-toggleable__label-arrow\">MultinomialNB</label><div class=\"sk-toggleable__content\"><pre>MultinomialNB()</pre></div></div></div></div></div>"
            ],
            "text/plain": [
              "MultinomialNB()"
            ]
          },
          "execution_count": 15,
          "metadata": {},
          "output_type": "execute_result"
        }
      ],
      "source": [
        "from sklearn.naive_bayes import MultinomialNB\n",
        "from sklearn.metrics import classification_report\n",
        "clf = MultinomialNB()\n",
        "clf.fit(train_data[\"ppmi_vectorized\"].to_list(),train_data[\"label_id\"].to_list())\n"
      ]
    },
    {
      "cell_type": "code",
      "execution_count": 49,
      "metadata": {
        "colab": {
          "base_uri": "https://localhost:8080/"
        },
        "id": "OeDgtYh5MT9q",
        "outputId": "5c3b2fe0-8df0-431d-8b0a-7c3681acf501"
      },
      "outputs": [
        {
          "name": "stdout",
          "output_type": "stream",
          "text": [
            "              precision    recall  f1-score   support\n",
            "\n",
            "           0       0.70      0.85      0.77       577\n",
            "           1       0.87      0.75      0.81       822\n",
            "\n",
            "    accuracy                           0.79      1399\n",
            "   macro avg       0.79      0.80      0.79      1399\n",
            "weighted avg       0.80      0.79      0.79      1399\n",
            "\n"
          ]
        }
      ],
      "source": [
        "test_data = test_data.dropna()\n",
        "test_X = test_data[\"ppmi_vectorized\"].to_numpy()\n",
        "test = test_data[\"ppmi_vectorized\"].to_numpy()\n",
        "test = np.vstack(test)\n",
        "\n",
        "pred = clf.predict(test)\n",
        "\n",
        "print(classification_report(pred,test_data[\"label_id\"].to_list()))\n"
      ]
    }
  ],
  "metadata": {
    "colab": {
      "authorship_tag": "ABX9TyO3Wo9NSglFZgRQCwvDVXEF",
      "include_colab_link": true,
      "provenance": []
    },
    "kernelspec": {
      "display_name": "Python 3",
      "name": "python3"
    },
    "language_info": {
      "name": "python"
    }
  },
  "nbformat": 4,
  "nbformat_minor": 0
}
