{
 "cells": [
  {
   "cell_type": "code",
   "execution_count": 45,
   "metadata": {},
   "outputs": [],
   "source": [
    "import pandas as pd\n",
    "import hazm as hz\n",
    "import pickle\n",
    "import nltk"
   ]
  },
  {
   "cell_type": "code",
   "execution_count": 46,
   "metadata": {},
   "outputs": [
    {
     "data": {
      "text/html": [
       "<div>\n",
       "<style scoped>\n",
       "    .dataframe tbody tr th:only-of-type {\n",
       "        vertical-align: middle;\n",
       "    }\n",
       "\n",
       "    .dataframe tbody tr th {\n",
       "        vertical-align: top;\n",
       "    }\n",
       "\n",
       "    .dataframe thead th {\n",
       "        text-align: right;\n",
       "    }\n",
       "</style>\n",
       "<table border=\"1\" class=\"dataframe\">\n",
       "  <thead>\n",
       "    <tr style=\"text-align: right;\">\n",
       "      <th></th>\n",
       "      <th>comment</th>\n",
       "      <th>label</th>\n",
       "      <th>label_id</th>\n",
       "    </tr>\n",
       "  </thead>\n",
       "  <tbody>\n",
       "    <tr>\n",
       "      <th>0</th>\n",
       "      <td>واقعا حیف وقت که بنویسم سرویس دهیتون شده افتضاح</td>\n",
       "      <td>SAD</td>\n",
       "      <td>1</td>\n",
       "    </tr>\n",
       "    <tr>\n",
       "      <th>1</th>\n",
       "      <td>قرار بود ۱ ساعته برسه ولی نیم ساعت زودتر از مو...</td>\n",
       "      <td>HAPPY</td>\n",
       "      <td>0</td>\n",
       "    </tr>\n",
       "    <tr>\n",
       "      <th>2</th>\n",
       "      <td>قیمت این مدل اصلا با کیفیتش سازگاری نداره، فقط...</td>\n",
       "      <td>SAD</td>\n",
       "      <td>1</td>\n",
       "    </tr>\n",
       "    <tr>\n",
       "      <th>3</th>\n",
       "      <td>عالللی بود همه چه درست و به اندازه و کیفیت خوب...</td>\n",
       "      <td>HAPPY</td>\n",
       "      <td>0</td>\n",
       "    </tr>\n",
       "    <tr>\n",
       "      <th>4</th>\n",
       "      <td>شیرینی وانیلی فقط یک مدل بود.</td>\n",
       "      <td>HAPPY</td>\n",
       "      <td>0</td>\n",
       "    </tr>\n",
       "    <tr>\n",
       "      <th>...</th>\n",
       "      <td>...</td>\n",
       "      <td>...</td>\n",
       "      <td>...</td>\n",
       "    </tr>\n",
       "    <tr>\n",
       "      <th>69995</th>\n",
       "      <td>سلام من به فاکتور غذاهایی که سفارش میدم احتیاج...</td>\n",
       "      <td>SAD</td>\n",
       "      <td>1</td>\n",
       "    </tr>\n",
       "    <tr>\n",
       "      <th>69996</th>\n",
       "      <td>سایز پیتزا نسبت به سفارشاتی که قبلا گذشتم کم ش...</td>\n",
       "      <td>SAD</td>\n",
       "      <td>1</td>\n",
       "    </tr>\n",
       "    <tr>\n",
       "      <th>69997</th>\n",
       "      <td>من قارچ اضافه رو اضافه کرده بودم بودم اما اگر ...</td>\n",
       "      <td>HAPPY</td>\n",
       "      <td>0</td>\n",
       "    </tr>\n",
       "    <tr>\n",
       "      <th>69998</th>\n",
       "      <td>همرو بعد ۲ساعت تاخیر اشتباه آوردن پولشم رفت رو...</td>\n",
       "      <td>SAD</td>\n",
       "      <td>1</td>\n",
       "    </tr>\n",
       "    <tr>\n",
       "      <th>69999</th>\n",
       "      <td>فلفلش خییییلی تند بود.</td>\n",
       "      <td>HAPPY</td>\n",
       "      <td>0</td>\n",
       "    </tr>\n",
       "  </tbody>\n",
       "</table>\n",
       "<p>70000 rows × 3 columns</p>\n",
       "</div>"
      ],
      "text/plain": [
       "                                                 comment  label  label_id\n",
       "0        واقعا حیف وقت که بنویسم سرویس دهیتون شده افتضاح    SAD         1\n",
       "1      قرار بود ۱ ساعته برسه ولی نیم ساعت زودتر از مو...  HAPPY         0\n",
       "2      قیمت این مدل اصلا با کیفیتش سازگاری نداره، فقط...    SAD         1\n",
       "3      عالللی بود همه چه درست و به اندازه و کیفیت خوب...  HAPPY         0\n",
       "4                          شیرینی وانیلی فقط یک مدل بود.  HAPPY         0\n",
       "...                                                  ...    ...       ...\n",
       "69995  سلام من به فاکتور غذاهایی که سفارش میدم احتیاج...    SAD         1\n",
       "69996  سایز پیتزا نسبت به سفارشاتی که قبلا گذشتم کم ش...    SAD         1\n",
       "69997  من قارچ اضافه رو اضافه کرده بودم بودم اما اگر ...  HAPPY         0\n",
       "69998  همرو بعد ۲ساعت تاخیر اشتباه آوردن پولشم رفت رو...    SAD         1\n",
       "69999                             فلفلش خییییلی تند بود.  HAPPY         0\n",
       "\n",
       "[70000 rows x 3 columns]"
      ]
     },
     "execution_count": 46,
     "metadata": {},
     "output_type": "execute_result"
    }
   ],
   "source": [
    "dataset = pd.read_csv('./datasets/Snappfood - Sentiment Analysis.csv', delimiter=\"\\t\")\n",
    "dataset"
   ]
  },
  {
   "cell_type": "code",
   "execution_count": 47,
   "metadata": {},
   "outputs": [
    {
     "data": {
      "text/plain": [
       "SAD      35000\n",
       "HAPPY    35000\n",
       "Name: label, dtype: int64"
      ]
     },
     "execution_count": 47,
     "metadata": {},
     "output_type": "execute_result"
    }
   ],
   "source": [
    "dataset[\"label\"].value_counts()"
   ]
  },
  {
   "cell_type": "code",
   "execution_count": 48,
   "metadata": {},
   "outputs": [
    {
     "data": {
      "text/plain": [
       "HAPPY    7000\n",
       "SAD      7000\n",
       "Name: label, dtype: int64"
      ]
     },
     "execution_count": 48,
     "metadata": {},
     "output_type": "execute_result"
    }
   ],
   "source": [
    "# there is two class of SAD and HAPPY in dataset, take 20% of data with the same class ditribution\n",
    "dataset = pd.concat([dataset[dataset['label'] == 'HAPPY'].sample(frac=0.2, random_state=97), dataset[dataset['label'] == 'SAD'].sample(frac=0.2, random_state=97)]).reset_index()\n",
    "dataset[\"label\"].value_counts()"
   ]
  },
  {
   "cell_type": "code",
   "execution_count": 49,
   "metadata": {},
   "outputs": [],
   "source": [
    "# apply the Normalization and Tokenization to Dataset\n",
    "\n",
    "import hazm as hz\n",
    "comments = dataset[\"comment\"].to_list()\n",
    "transformed = []\n",
    "for comment in comments:\n",
    "    comment = hz.Normalizer().normalize(comment)\n",
    "    comment = hz.word_tokenize(comment)\n",
    "    transformed.append(comment)\n",
    "dataset[\"comment\"] = transformed"
   ]
  },
  {
   "cell_type": "code",
   "execution_count": 57,
   "metadata": {},
   "outputs": [],
   "source": [
    "file = open('./datasets/preprocessed.pkl', 'wb')\n",
    "with open('./datasets/preprocessed.pkl', 'wb') as f:\n",
    "    pickle.dump(dataset, f)"
   ]
  }
 ],
 "metadata": {
  "kernelspec": {
   "display_name": "hazm-venv",
   "language": "python",
   "name": "python3"
  },
  "language_info": {
   "codemirror_mode": {
    "name": "ipython",
    "version": 3
   },
   "file_extension": ".py",
   "mimetype": "text/x-python",
   "name": "python",
   "nbconvert_exporter": "python",
   "pygments_lexer": "ipython3",
   "version": "3.10.6"
  },
  "orig_nbformat": 4
 },
 "nbformat": 4,
 "nbformat_minor": 2
}
