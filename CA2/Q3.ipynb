{
  "nbformat": 4,
  "nbformat_minor": 0,
  "metadata": {
    "colab": {
      "provenance": [],
      "mount_file_id": "1eHfg8DIiWdZMmQbqBm0Sc1fSEeBGUNii",
      "authorship_tag": "ABX9TyPtFlWcuhYpRns1qn2q3tGv",
      "include_colab_link": true
    },
    "kernelspec": {
      "name": "python3",
      "display_name": "Python 3"
    },
    "language_info": {
      "name": "python"
    }
  },
  "cells": [
    {
      "cell_type": "markdown",
      "metadata": {
        "id": "view-in-github",
        "colab_type": "text"
      },
      "source": [
        "<a href=\"https://colab.research.google.com/github/VavRe/nlp-ut/blob/main/CA2/Q3.ipynb\" target=\"_parent\"><img src=\"https://colab.research.google.com/assets/colab-badge.svg\" alt=\"Open In Colab\"/></a>"
      ]
    },
    {
      "cell_type": "code",
      "execution_count": null,
      "metadata": {
        "id": "5ye8TmiMlrfd",
        "colab": {
          "base_uri": "https://localhost:8080/"
        },
        "outputId": "793541c8-5532-4916-9cee-2b4d0f3d8d24"
      },
      "outputs": [
        {
          "output_type": "stream",
          "name": "stdout",
          "text": [
            "Looking in indexes: https://pypi.org/simple, https://us-python.pkg.dev/colab-wheels/public/simple/\n",
            "Requirement already satisfied: kaggle in /usr/local/lib/python3.10/dist-packages (1.5.13)\n",
            "Requirement already satisfied: certifi in /usr/local/lib/python3.10/dist-packages (from kaggle) (2022.12.7)\n",
            "Requirement already satisfied: urllib3 in /usr/local/lib/python3.10/dist-packages (from kaggle) (1.26.15)\n",
            "Requirement already satisfied: python-slugify in /usr/local/lib/python3.10/dist-packages (from kaggle) (8.0.1)\n",
            "Requirement already satisfied: six>=1.10 in /usr/local/lib/python3.10/dist-packages (from kaggle) (1.16.0)\n",
            "Requirement already satisfied: python-dateutil in /usr/local/lib/python3.10/dist-packages (from kaggle) (2.8.2)\n",
            "Requirement already satisfied: requests in /usr/local/lib/python3.10/dist-packages (from kaggle) (2.27.1)\n",
            "Requirement already satisfied: tqdm in /usr/local/lib/python3.10/dist-packages (from kaggle) (4.65.0)\n",
            "Requirement already satisfied: text-unidecode>=1.3 in /usr/local/lib/python3.10/dist-packages (from python-slugify->kaggle) (1.3)\n",
            "Requirement already satisfied: charset-normalizer~=2.0.0 in /usr/local/lib/python3.10/dist-packages (from requests->kaggle) (2.0.12)\n",
            "Requirement already satisfied: idna<4,>=2.5 in /usr/local/lib/python3.10/dist-packages (from requests->kaggle) (3.4)\n",
            "mkdir: cannot create directory ‘/root/.kaggle/’: File exists\n",
            "sentiment-analysis-for-financial-news.zip: Skipping, found more recently modified local copy (use --force to force download)\n",
            "Archive:  /content/sentiment-analysis-for-financial-news.zip\n",
            "replace FinancialPhraseBank/License.txt? [y]es, [n]o, [A]ll, [N]one, [r]ename: د\n",
            "error:  invalid response [د]\n",
            "replace FinancialPhraseBank/License.txt? [y]es, [n]o, [A]ll, [N]one, [r]ename: n\n",
            "replace FinancialPhraseBank/README.txt? [y]es, [n]o, [A]ll, [N]one, [r]ename: n\n",
            "replace FinancialPhraseBank/Sentences_50Agree.txt? [y]es, [n]o, [A]ll, [N]one, [r]ename: N\n"
          ]
        }
      ],
      "source": [
        "!pip install kaggle\n",
        "!mkdir ~/.kaggle/\n",
        "!cp /content/drive/MyDrive/kaggle.json ~/.kaggle/ ;\n",
        "!chmod 600 ~/.kaggle/kaggle.json ; \n",
        "!kaggle datasets download -d ankurzing/sentiment-analysis-for-financial-news ;\n",
        "!unzip /content/sentiment-analysis-for-financial-news.zip"
      ]
    },
    {
      "cell_type": "code",
      "source": [
        "import pandas as pd \n",
        "import numpy as np"
      ],
      "metadata": {
        "id": "4E_rZW2k9DSo"
      },
      "execution_count": null,
      "outputs": []
    },
    {
      "cell_type": "code",
      "source": [
        "dataset = pd.read_csv(\"./all-data.csv\", encoding='iso-8859-1')"
      ],
      "metadata": {
        "id": "QwefyjFS_rO5"
      },
      "execution_count": null,
      "outputs": []
    },
    {
      "cell_type": "code",
      "source": [
        "dataset.value_counts()"
      ],
      "metadata": {
        "colab": {
          "base_uri": "https://localhost:8080/"
        },
        "id": "PZGcH3P0LiXe",
        "outputId": "9dc5eacf-c616-4318-c00a-e9931b854b17"
      },
      "execution_count": null,
      "outputs": [
        {
          "output_type": "execute_result",
          "data": {
            "text/plain": [
              "neutral   According to Gran , the company has no plans to move all production to Russia , although that is where the company is growing .                                                                                                                                                                         \n",
              "neutral   Proha Plc ( Euronext :7327 ) announced today ( 19 May ) that its fully-owned subsidiary , Safran Software Solutions AS , has agreed to sell its 49 % share of Safran North America LLC to a SNA Holding AS , an investment group based in Norway .                                                          2\n",
              "          The report profiles 614 companies including many key and niche players worldwide such as Black & Decker Corporation , Fiskars Corporation , Fiskars Brands , Inc. , Husqvarna Outdoor Products Inc. , K+S Group , Ryobi Technologies , Inc. , The Scotts Miracle-Gro Company , and Van Group , Inc. .       2\n",
              "          SSH Communications Security Corporation is headquartered in Helsinki , Finland .                                                                                                                                                                                                                            2\n",
              "          The company serves customers in various industries , including process and resources , industrial machinery , architecture , building , construction , electrical , transportation , electronics , chemical , petrochemical , energy , and information technology , as well as catering and households .    2\n",
              "          The issuer is solely responsible for the content of this announcement .                                                                                                                                                                                                                                     2\n",
              "                                                                                                                                                                                                                                                                                                                     ..\n",
              "          JVC will stop producing DVD players in Brazil : JVC do Brazil , a subsidiary of Japan 's JVC group announced it will stop the production of DVD players in Brazil .                                                                                                                                         1\n",
              "          J+Ærvi-Suomen Portti is also planning to reduce the use of sodium nitrite .                                                                                                                                                                                                                                 1\n",
              "          Ixonos will finance the acquisition through a 3.8 mln euro $ 5.2 mln loan .                                                                                                                                                                                                                                 1\n",
              "          Its total annual revenue comes up to about 160 mln zloty ( $ 56.9 mln-42 .3 mln euro ) .                                                                                                                                                                                                                    1\n",
              "positive  services supplier Efore Plc to streamline operations in Finland and the US Finnish electronic systems and services supplier Efore Plc ( OMX Helsinki : EFO1V ) said on Tuesday ( 3 February ) that it has initiated statutory negotiations regarding a streamlining of its operations in Finland .          1\n",
              "Length: 4839, dtype: int64"
            ]
          },
          "metadata": {},
          "execution_count": 23
        }
      ]
    }
  ]
}