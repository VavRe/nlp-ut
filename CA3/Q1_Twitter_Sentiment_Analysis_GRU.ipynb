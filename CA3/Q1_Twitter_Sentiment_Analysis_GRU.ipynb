{
  "nbformat": 4,
  "nbformat_minor": 0,
  "metadata": {
    "colab": {
      "provenance": [],
      "gpuType": "T4",
      "include_colab_link": true
    },
    "kernelspec": {
      "name": "python3",
      "display_name": "Python 3"
    },
    "language_info": {
      "name": "python"
    },
    "accelerator": "GPU",
    "gpuClass": "standard"
  },
  "cells": [
    {
      "cell_type": "markdown",
      "metadata": {
        "id": "view-in-github",
        "colab_type": "text"
      },
      "source": [
        "<a href=\"https://colab.research.google.com/github/VavRe/nlp-ut/blob/main/CA3/Q1_Twitter_Sentiment_Analysis_GRU.ipynb\" target=\"_parent\"><img src=\"https://colab.research.google.com/assets/colab-badge.svg\" alt=\"Open In Colab\"/></a>"
      ]
    },
    {
      "cell_type": "code",
      "execution_count": null,
      "metadata": {
        "id": "fI1zESTpRII0",
        "colab": {
          "base_uri": "https://localhost:8080/"
        },
        "outputId": "0cb4624a-b988-41f7-93ea-08691a10cc44"
      },
      "outputs": [
        {
          "output_type": "stream",
          "name": "stdout",
          "text": [
            "--2023-05-14 16:03:27--  http://cs.stanford.edu/people/alecmgo/trainingandtestdata.zip\n",
            "Resolving cs.stanford.edu (cs.stanford.edu)... 171.64.64.64\n",
            "Connecting to cs.stanford.edu (cs.stanford.edu)|171.64.64.64|:80... connected.\n",
            "HTTP request sent, awaiting response... 301 Moved Permanently\n",
            "Location: https://cs.stanford.edu/people/alecmgo/trainingandtestdata.zip [following]\n",
            "--2023-05-14 16:03:27--  https://cs.stanford.edu/people/alecmgo/trainingandtestdata.zip\n",
            "Connecting to cs.stanford.edu (cs.stanford.edu)|171.64.64.64|:443... connected.\n",
            "HTTP request sent, awaiting response... 200 OK\n",
            "Length: 81363704 (78M) [application/zip]\n",
            "Saving to: ‘trainingandtestdata.zip’\n",
            "\n",
            "trainingandtestdata 100%[===================>]  77.59M  34.0MB/s    in 2.3s    \n",
            "\n",
            "2023-05-14 16:03:30 (34.0 MB/s) - ‘trainingandtestdata.zip’ saved [81363704/81363704]\n",
            "\n",
            "Archive:  trainingandtestdata.zip\n",
            "  inflating: testdata.manual.2009.06.14.csv  \n",
            "  inflating: training.1600000.processed.noemoticon.csv  \n"
          ]
        }
      ],
      "source": [
        "!wget http://cs.stanford.edu/people/alecmgo/trainingandtestdata.zip\n",
        "!unzip trainingandtestdata.zip"
      ]
    },
    {
      "cell_type": "code",
      "source": [
        "from google.colab import drive\n",
        "drive.mount('/content/drive')"
      ],
      "metadata": {
        "id": "vHUJw6dwfe1e",
        "colab": {
          "base_uri": "https://localhost:8080/"
        },
        "outputId": "fff0da20-9fc5-46bc-d5f1-1be54950a783"
      },
      "execution_count": null,
      "outputs": [
        {
          "output_type": "stream",
          "name": "stdout",
          "text": [
            "Mounted at /content/drive\n"
          ]
        }
      ]
    },
    {
      "cell_type": "code",
      "source": [
        "import pandas as pd\n",
        "import numpy as np\n",
        "import tensorflow as tf\n",
        "from keras.preprocessing.text import Tokenizer\n",
        "from keras.utils import pad_sequences\n",
        "from keras.layers import Embedding, LSTM, Dense, Dropout, RNN\n",
        "from keras.models import Sequential\n"
      ],
      "metadata": {
        "id": "OpbvbzUCWEiT"
      },
      "execution_count": null,
      "outputs": []
    },
    {
      "cell_type": "markdown",
      "source": [
        "#Preprocessing"
      ],
      "metadata": {
        "id": "6BT7iIi9S3_w"
      }
    },
    {
      "cell_type": "code",
      "source": [
        "columns = [\"sentiment\",\"id\",\"datetime\",\"query\",\"user\",\"tweet\"]\n",
        "df = pd.read_csv(\"/content/training.1600000.processed.noemoticon.csv\", encoding=\"latin-1\", names=columns)"
      ],
      "metadata": {
        "id": "DTEMjI9bV3WR"
      },
      "execution_count": null,
      "outputs": []
    },
    {
      "cell_type": "code",
      "source": [
        "df[\"sentiment\"].value_counts()"
      ],
      "metadata": {
        "colab": {
          "base_uri": "https://localhost:8080/"
        },
        "id": "Sjx0Ut-RX1qg",
        "outputId": "f5e5feb9-7c66-4d7f-a44a-dccd2ff732da"
      },
      "execution_count": null,
      "outputs": [
        {
          "output_type": "execute_result",
          "data": {
            "text/plain": [
              "0    800000\n",
              "4    800000\n",
              "Name: sentiment, dtype: int64"
            ]
          },
          "metadata": {},
          "execution_count": 5
        }
      ]
    },
    {
      "cell_type": "code",
      "source": [
        "df = df.loc[:,[\"sentiment\",\"tweet\"]]\n",
        "df"
      ],
      "metadata": {
        "colab": {
          "base_uri": "https://localhost:8080/",
          "height": 424
        },
        "id": "R8dNu3B4eJiy",
        "outputId": "ea02ccd1-438e-42a0-825b-6234c555eea6"
      },
      "execution_count": null,
      "outputs": [
        {
          "output_type": "execute_result",
          "data": {
            "text/plain": [
              "         sentiment                                              tweet\n",
              "0                0  @switchfoot http://twitpic.com/2y1zl - Awww, t...\n",
              "1                0  is upset that he can't update his Facebook by ...\n",
              "2                0  @Kenichan I dived many times for the ball. Man...\n",
              "3                0    my whole body feels itchy and like its on fire \n",
              "4                0  @nationwideclass no, it's not behaving at all....\n",
              "...            ...                                                ...\n",
              "1599995          4  Just woke up. Having no school is the best fee...\n",
              "1599996          4  TheWDB.com - Very cool to hear old Walt interv...\n",
              "1599997          4  Are you ready for your MoJo Makeover? Ask me f...\n",
              "1599998          4  Happy 38th Birthday to my boo of alll time!!! ...\n",
              "1599999          4  happy #charitytuesday @theNSPCC @SparksCharity...\n",
              "\n",
              "[1600000 rows x 2 columns]"
            ],
            "text/html": [
              "\n",
              "  <div id=\"df-c57384bc-d3f5-4fce-9017-243fc02a00a8\">\n",
              "    <div class=\"colab-df-container\">\n",
              "      <div>\n",
              "<style scoped>\n",
              "    .dataframe tbody tr th:only-of-type {\n",
              "        vertical-align: middle;\n",
              "    }\n",
              "\n",
              "    .dataframe tbody tr th {\n",
              "        vertical-align: top;\n",
              "    }\n",
              "\n",
              "    .dataframe thead th {\n",
              "        text-align: right;\n",
              "    }\n",
              "</style>\n",
              "<table border=\"1\" class=\"dataframe\">\n",
              "  <thead>\n",
              "    <tr style=\"text-align: right;\">\n",
              "      <th></th>\n",
              "      <th>sentiment</th>\n",
              "      <th>tweet</th>\n",
              "    </tr>\n",
              "  </thead>\n",
              "  <tbody>\n",
              "    <tr>\n",
              "      <th>0</th>\n",
              "      <td>0</td>\n",
              "      <td>@switchfoot http://twitpic.com/2y1zl - Awww, t...</td>\n",
              "    </tr>\n",
              "    <tr>\n",
              "      <th>1</th>\n",
              "      <td>0</td>\n",
              "      <td>is upset that he can't update his Facebook by ...</td>\n",
              "    </tr>\n",
              "    <tr>\n",
              "      <th>2</th>\n",
              "      <td>0</td>\n",
              "      <td>@Kenichan I dived many times for the ball. Man...</td>\n",
              "    </tr>\n",
              "    <tr>\n",
              "      <th>3</th>\n",
              "      <td>0</td>\n",
              "      <td>my whole body feels itchy and like its on fire</td>\n",
              "    </tr>\n",
              "    <tr>\n",
              "      <th>4</th>\n",
              "      <td>0</td>\n",
              "      <td>@nationwideclass no, it's not behaving at all....</td>\n",
              "    </tr>\n",
              "    <tr>\n",
              "      <th>...</th>\n",
              "      <td>...</td>\n",
              "      <td>...</td>\n",
              "    </tr>\n",
              "    <tr>\n",
              "      <th>1599995</th>\n",
              "      <td>4</td>\n",
              "      <td>Just woke up. Having no school is the best fee...</td>\n",
              "    </tr>\n",
              "    <tr>\n",
              "      <th>1599996</th>\n",
              "      <td>4</td>\n",
              "      <td>TheWDB.com - Very cool to hear old Walt interv...</td>\n",
              "    </tr>\n",
              "    <tr>\n",
              "      <th>1599997</th>\n",
              "      <td>4</td>\n",
              "      <td>Are you ready for your MoJo Makeover? Ask me f...</td>\n",
              "    </tr>\n",
              "    <tr>\n",
              "      <th>1599998</th>\n",
              "      <td>4</td>\n",
              "      <td>Happy 38th Birthday to my boo of alll time!!! ...</td>\n",
              "    </tr>\n",
              "    <tr>\n",
              "      <th>1599999</th>\n",
              "      <td>4</td>\n",
              "      <td>happy #charitytuesday @theNSPCC @SparksCharity...</td>\n",
              "    </tr>\n",
              "  </tbody>\n",
              "</table>\n",
              "<p>1600000 rows × 2 columns</p>\n",
              "</div>\n",
              "      <button class=\"colab-df-convert\" onclick=\"convertToInteractive('df-c57384bc-d3f5-4fce-9017-243fc02a00a8')\"\n",
              "              title=\"Convert this dataframe to an interactive table.\"\n",
              "              style=\"display:none;\">\n",
              "        \n",
              "  <svg xmlns=\"http://www.w3.org/2000/svg\" height=\"24px\"viewBox=\"0 0 24 24\"\n",
              "       width=\"24px\">\n",
              "    <path d=\"M0 0h24v24H0V0z\" fill=\"none\"/>\n",
              "    <path d=\"M18.56 5.44l.94 2.06.94-2.06 2.06-.94-2.06-.94-.94-2.06-.94 2.06-2.06.94zm-11 1L8.5 8.5l.94-2.06 2.06-.94-2.06-.94L8.5 2.5l-.94 2.06-2.06.94zm10 10l.94 2.06.94-2.06 2.06-.94-2.06-.94-.94-2.06-.94 2.06-2.06.94z\"/><path d=\"M17.41 7.96l-1.37-1.37c-.4-.4-.92-.59-1.43-.59-.52 0-1.04.2-1.43.59L10.3 9.45l-7.72 7.72c-.78.78-.78 2.05 0 2.83L4 21.41c.39.39.9.59 1.41.59.51 0 1.02-.2 1.41-.59l7.78-7.78 2.81-2.81c.8-.78.8-2.07 0-2.86zM5.41 20L4 18.59l7.72-7.72 1.47 1.35L5.41 20z\"/>\n",
              "  </svg>\n",
              "      </button>\n",
              "      \n",
              "  <style>\n",
              "    .colab-df-container {\n",
              "      display:flex;\n",
              "      flex-wrap:wrap;\n",
              "      gap: 12px;\n",
              "    }\n",
              "\n",
              "    .colab-df-convert {\n",
              "      background-color: #E8F0FE;\n",
              "      border: none;\n",
              "      border-radius: 50%;\n",
              "      cursor: pointer;\n",
              "      display: none;\n",
              "      fill: #1967D2;\n",
              "      height: 32px;\n",
              "      padding: 0 0 0 0;\n",
              "      width: 32px;\n",
              "    }\n",
              "\n",
              "    .colab-df-convert:hover {\n",
              "      background-color: #E2EBFA;\n",
              "      box-shadow: 0px 1px 2px rgba(60, 64, 67, 0.3), 0px 1px 3px 1px rgba(60, 64, 67, 0.15);\n",
              "      fill: #174EA6;\n",
              "    }\n",
              "\n",
              "    [theme=dark] .colab-df-convert {\n",
              "      background-color: #3B4455;\n",
              "      fill: #D2E3FC;\n",
              "    }\n",
              "\n",
              "    [theme=dark] .colab-df-convert:hover {\n",
              "      background-color: #434B5C;\n",
              "      box-shadow: 0px 1px 3px 1px rgba(0, 0, 0, 0.15);\n",
              "      filter: drop-shadow(0px 1px 2px rgba(0, 0, 0, 0.3));\n",
              "      fill: #FFFFFF;\n",
              "    }\n",
              "  </style>\n",
              "\n",
              "      <script>\n",
              "        const buttonEl =\n",
              "          document.querySelector('#df-c57384bc-d3f5-4fce-9017-243fc02a00a8 button.colab-df-convert');\n",
              "        buttonEl.style.display =\n",
              "          google.colab.kernel.accessAllowed ? 'block' : 'none';\n",
              "\n",
              "        async function convertToInteractive(key) {\n",
              "          const element = document.querySelector('#df-c57384bc-d3f5-4fce-9017-243fc02a00a8');\n",
              "          const dataTable =\n",
              "            await google.colab.kernel.invokeFunction('convertToInteractive',\n",
              "                                                     [key], {});\n",
              "          if (!dataTable) return;\n",
              "\n",
              "          const docLinkHtml = 'Like what you see? Visit the ' +\n",
              "            '<a target=\"_blank\" href=https://colab.research.google.com/notebooks/data_table.ipynb>data table notebook</a>'\n",
              "            + ' to learn more about interactive tables.';\n",
              "          element.innerHTML = '';\n",
              "          dataTable['output_type'] = 'display_data';\n",
              "          await google.colab.output.renderOutput(dataTable, element);\n",
              "          const docLink = document.createElement('div');\n",
              "          docLink.innerHTML = docLinkHtml;\n",
              "          element.appendChild(docLink);\n",
              "        }\n",
              "      </script>\n",
              "    </div>\n",
              "  </div>\n",
              "  "
            ]
          },
          "metadata": {},
          "execution_count": 6
        }
      ]
    },
    {
      "cell_type": "code",
      "source": [
        "from sklearn.model_selection import train_test_split\n",
        "\n",
        "samples_fraction = 0.025\n",
        "stratify_on = \"sentiment\"\n",
        "\n",
        "_, dataset = train_test_split(df, stratify=df[stratify_on], \n",
        "                                 test_size=samples_fraction,\n",
        "                                 random_state=76)\n",
        "\n",
        "# Reset the index of the sampled DataFrame\n",
        "dataset.reset_index(drop=True, inplace=True)\n"
      ],
      "metadata": {
        "id": "yiqqBRMLZlS-"
      },
      "execution_count": null,
      "outputs": []
    },
    {
      "cell_type": "code",
      "source": [
        "dataset[\"sentiment\"].value_counts()"
      ],
      "metadata": {
        "colab": {
          "base_uri": "https://localhost:8080/"
        },
        "id": "Gmz4HeOLdsBK",
        "outputId": "ee867bfc-9a56-4e67-99be-ad5e851ba1fb"
      },
      "execution_count": null,
      "outputs": [
        {
          "output_type": "execute_result",
          "data": {
            "text/plain": [
              "0    20000\n",
              "4    20000\n",
              "Name: sentiment, dtype: int64"
            ]
          },
          "metadata": {},
          "execution_count": 8
        }
      ]
    },
    {
      "cell_type": "code",
      "source": [
        "import re\n",
        "import nltk\n",
        "from nltk.stem import PorterStemmer\n",
        "from nltk.corpus import stopwords\n",
        "from nltk.tokenize import word_tokenize\n",
        "\n",
        "nltk.download('punkt')\n",
        "nltk.download('wordnet')\n",
        "nltk.download('stopwords')\n",
        "\n",
        "stop_words = stopwords.words('english')\n",
        "\n",
        "def preprocess_tweet(tweet, remove_stopwords=True, stem_words=True, handle_negation=True):\n",
        "    # Convert to lowercase\n",
        "    tweet = tweet.lower()\n",
        "    \n",
        "    # Remove URLs, mentions, and hashtags\n",
        "    tweet = re.sub(r\"http\\S+|www\\S+|https\\S+|\\@\\w+|\\#\\w+\", \"\", tweet)\n",
        "    \n",
        "    # Remove punctuation\n",
        "    tweet = re.sub(r'[^\\w\\s]', '', tweet)\n",
        "    \n",
        "    # Remove numbers\n",
        "    tweet = re.sub(r'\\d+', '', tweet)\n",
        "    \n",
        "    # Remove stopwords if specified\n",
        "    if remove_stopwords:\n",
        "        tweet_tokens = tweet.split()\n",
        "        tweet = \" \".join([word for word in tweet_tokens if word not in stop_words])\n",
        "    \n",
        "    # Stem words if specified\n",
        "    if stem_words:\n",
        "        stemmer = PorterStemmer()\n",
        "        tweet_tokens = tweet.split()\n",
        "        tweet = \" \".join([stemmer.stem(word) for word in tweet_tokens])\n",
        "        \n",
        "    # Handle negation if specified\n",
        "    if handle_negation:\n",
        "        tweet_tokens = word_tokenize(tweet)\n",
        "        negation_flag = False\n",
        "        negated_tokens = []\n",
        "        for i, token in enumerate(tweet_tokens):\n",
        "            if token in [\"not\", \"n't\", \"no\"]:\n",
        "                negation_flag = True\n",
        "            elif negation_flag:\n",
        "                negated_tokens.append(\"not_\" + token)\n",
        "                negation_flag = False\n",
        "            else:\n",
        "                negated_tokens.append(token)\n",
        "        tweet = \" \".join(negated_tokens)\n",
        "    \n",
        "    return tweet\n"
      ],
      "metadata": {
        "colab": {
          "base_uri": "https://localhost:8080/"
        },
        "id": "HbpGmQs3sluy",
        "outputId": "444d04d7-7352-4963-ca27-142196d6e753"
      },
      "execution_count": null,
      "outputs": [
        {
          "output_type": "stream",
          "name": "stderr",
          "text": [
            "[nltk_data] Downloading package punkt to /root/nltk_data...\n",
            "[nltk_data]   Unzipping tokenizers/punkt.zip.\n",
            "[nltk_data] Downloading package wordnet to /root/nltk_data...\n",
            "[nltk_data] Downloading package stopwords to /root/nltk_data...\n",
            "[nltk_data]   Unzipping corpora/stopwords.zip.\n"
          ]
        }
      ]
    },
    {
      "cell_type": "code",
      "source": [
        "from tqdm import tqdm\n",
        "tqdm.pandas()\n",
        "\n",
        "\n",
        "dataset[\"tweet\"] = dataset[\"tweet\"].progress_apply(preprocess_tweet)"
      ],
      "metadata": {
        "colab": {
          "base_uri": "https://localhost:8080/"
        },
        "id": "o55eEstft44G",
        "outputId": "812aead6-eb37-4844-9278-52c052194298"
      },
      "execution_count": null,
      "outputs": [
        {
          "output_type": "stream",
          "name": "stderr",
          "text": [
            "100%|██████████| 40000/40000 [00:11<00:00, 3336.25it/s]\n"
          ]
        }
      ]
    },
    {
      "cell_type": "code",
      "source": [
        "from keras.utils import to_categorical\n",
        "X = dataset[\"tweet\"]\n",
        "y = dataset[\"sentiment\"]"
      ],
      "metadata": {
        "id": "b1bs0urOkyfX"
      },
      "execution_count": null,
      "outputs": []
    },
    {
      "cell_type": "code",
      "source": [
        "y = y.replace(4,1)\n",
        "y = y.replace(4,1)"
      ],
      "metadata": {
        "id": "5oOVFfxJWkkV"
      },
      "execution_count": null,
      "outputs": []
    },
    {
      "cell_type": "code",
      "source": [
        "import gc\n",
        "\n",
        "del df\n",
        "gc.collect() # collect garbage "
      ],
      "metadata": {
        "id": "_SGNl2V2fGGv",
        "outputId": "1d9337c7-0362-4487-93bc-e91329c094c2",
        "colab": {
          "base_uri": "https://localhost:8080/"
        }
      },
      "execution_count": null,
      "outputs": [
        {
          "output_type": "execute_result",
          "data": {
            "text/plain": [
              "0"
            ]
          },
          "metadata": {},
          "execution_count": 13
        }
      ]
    },
    {
      "cell_type": "code",
      "source": [
        "X_train, X_test, y_train, y_test = train_test_split(X, y, test_size=0.2, random_state=76)\n",
        "\n",
        "y_train = to_categorical(y_train, num_classes=2)\n",
        "y_test = to_categorical(y_test, num_classes=2)\n"
      ],
      "metadata": {
        "id": "JrQsMehAfdrS"
      },
      "execution_count": null,
      "outputs": []
    },
    {
      "cell_type": "code",
      "source": [
        "vocab_size = 15000\n",
        "tokenizer = Tokenizer(num_words=vocab_size)\n",
        "tokenizer.fit_on_texts(X_train)"
      ],
      "metadata": {
        "id": "QUQNR7itm6Oc"
      },
      "execution_count": null,
      "outputs": []
    },
    {
      "cell_type": "code",
      "source": [
        "X_train_seq = tokenizer.texts_to_sequences(X_train)\n",
        "X_test_seq = tokenizer.texts_to_sequences(X_test)"
      ],
      "metadata": {
        "id": "j2BDoz4M6j3g"
      },
      "execution_count": null,
      "outputs": []
    },
    {
      "cell_type": "code",
      "source": [
        "# Pad the sequences to a fixed length\n",
        "max_length = 150\n",
        "X_train_pad = pad_sequences(X_train_seq, maxlen=max_length)\n",
        "X_test_pad = pad_sequences(X_test_seq, maxlen=max_length)\n"
      ],
      "metadata": {
        "id": "PKLPxVF17AP4"
      },
      "execution_count": null,
      "outputs": []
    },
    {
      "cell_type": "markdown",
      "source": [
        "# GloVe RNN"
      ],
      "metadata": {
        "id": "m1v5XpXUStEz"
      }
    },
    {
      "cell_type": "markdown",
      "source": [
        "## Process and Train"
      ],
      "metadata": {
        "id": "rTs3GS0UTz6e"
      }
    },
    {
      "cell_type": "code",
      "source": [
        "!pip install kaggle ;\n",
        "!mkdir ~/.kaggle/ ;\n",
        "!cp /content/drive/MyDrive/kaggle.json ~/.kaggle/ ;\n",
        "!chmod 600 ~/.kaggle/kaggle.json ;\n",
        "!kaggle datasets download -d rtatman/glove-global-vectors-for-word-representation\n",
        "!unzip  /content/glove-global-vectors-for-word-representation.zip"
      ],
      "metadata": {
        "colab": {
          "base_uri": "https://localhost:8080/"
        },
        "id": "GJjBfkDE9NZv",
        "outputId": "23426a77-1b06-4c73-8036-0eabdd137c77"
      },
      "execution_count": null,
      "outputs": [
        {
          "output_type": "stream",
          "name": "stdout",
          "text": [
            "Looking in indexes: https://pypi.org/simple, https://us-python.pkg.dev/colab-wheels/public/simple/\n",
            "Requirement already satisfied: kaggle in /usr/local/lib/python3.10/dist-packages (1.5.13)\n",
            "Requirement already satisfied: six>=1.10 in /usr/local/lib/python3.10/dist-packages (from kaggle) (1.16.0)\n",
            "Requirement already satisfied: certifi in /usr/local/lib/python3.10/dist-packages (from kaggle) (2022.12.7)\n",
            "Requirement already satisfied: python-dateutil in /usr/local/lib/python3.10/dist-packages (from kaggle) (2.8.2)\n",
            "Requirement already satisfied: requests in /usr/local/lib/python3.10/dist-packages (from kaggle) (2.27.1)\n",
            "Requirement already satisfied: tqdm in /usr/local/lib/python3.10/dist-packages (from kaggle) (4.65.0)\n",
            "Requirement already satisfied: python-slugify in /usr/local/lib/python3.10/dist-packages (from kaggle) (8.0.1)\n",
            "Requirement already satisfied: urllib3 in /usr/local/lib/python3.10/dist-packages (from kaggle) (1.26.15)\n",
            "Requirement already satisfied: text-unidecode>=1.3 in /usr/local/lib/python3.10/dist-packages (from python-slugify->kaggle) (1.3)\n",
            "Requirement already satisfied: charset-normalizer~=2.0.0 in /usr/local/lib/python3.10/dist-packages (from requests->kaggle) (2.0.12)\n",
            "Requirement already satisfied: idna<4,>=2.5 in /usr/local/lib/python3.10/dist-packages (from requests->kaggle) (3.4)\n",
            "Downloading glove-global-vectors-for-word-representation.zip to /content\n",
            " 99% 452M/458M [00:03<00:00, 108MB/s]\n",
            "100% 458M/458M [00:03<00:00, 124MB/s]\n",
            "Archive:  /content/glove-global-vectors-for-word-representation.zip\n",
            "  inflating: glove.6B.100d.txt       \n",
            "  inflating: glove.6B.200d.txt       \n",
            "  inflating: glove.6B.50d.txt        \n"
          ]
        }
      ]
    },
    {
      "cell_type": "code",
      "source": [
        "# # Use one-hot vectors for one option\n",
        "# X_train_onehot = tokenizer.sequences_to_matrix(X_train_seq, mode='binary')\n",
        "# X_test_onehot = tokenizer.sequences_to_matrix(X_test_seq, mode='binary')\n",
        "\n",
        "# Use GloVe embeddings for another option\n",
        "glove_embeddings_index = {}\n",
        "with open('glove.6B.200d.txt') as f:\n",
        "    for line in f:\n",
        "        values = line.split()\n",
        "        word = values[0]\n",
        "        coefs = np.asarray(values[1:], dtype='float32')\n",
        "        glove_embeddings_index[word] = coefs\n",
        "embedding_dim = 200\n",
        "glove_embedding_matrix = np.zeros((vocab_size, embedding_dim))\n",
        "for word, i in tokenizer.word_index.items():\n",
        "    if i >= vocab_size:\n",
        "        break\n",
        "    embedding_vector = glove_embeddings_index.get(word)\n",
        "    if embedding_vector is not None:\n",
        "        glove_embedding_matrix[i] = embedding_vector\n"
      ],
      "metadata": {
        "id": "H7g5llbf6MSY"
      },
      "execution_count": null,
      "outputs": []
    },
    {
      "cell_type": "code",
      "source": [
        "from keras.callbacks import ModelCheckpoint\n",
        "from keras.layers import CuDNNLSTM, Dropout,SimpleRNN, GRU\n",
        "\n",
        "filepath = 'my_best_model.hdf5'\n",
        "\n",
        "callback = tf.keras.callbacks.EarlyStopping(monitor=\"val_loss\",patience=5,restore_best_weights=True)\n",
        "checkpoint = ModelCheckpoint(filepath=filepath, \n",
        "                             monitor='val_loss',\n",
        "                             verbose=1, \n",
        "                             save_best_only=True,\n",
        "                             mode='min')\n",
        "opt = tf.keras.optimizers.Adam(learning_rate=0.01)\n",
        "\n",
        "\n",
        "RNN_glove = Sequential()\n",
        "RNN_glove.add(Embedding(vocab_size, embedding_dim, input_length=max_length, weights=[glove_embedding_matrix], trainable=False))\n",
        "RNN_glove.add(GRU(150))\n",
        "RNN_glove.add(Dropout(0.2))\n",
        "RNN_glove.add(Dense(2, activation='softmax'))\n",
        "RNN_glove.compile(loss='categorical_crossentropy', optimizer=opt, metrics=['accuracy'])\n",
        "\n",
        "\n",
        "hist = RNN_glove.fit(X_train_pad, y_train, epochs=100, batch_size=256, validation_split=0.2, callbacks=[checkpoint,callback])\n"
      ],
      "metadata": {
        "id": "qWVr4ep6-Y4z",
        "colab": {
          "base_uri": "https://localhost:8080/"
        },
        "outputId": "d307ed4d-a8b0-48ca-c93d-e52181bf5d06"
      },
      "execution_count": null,
      "outputs": [
        {
          "output_type": "stream",
          "name": "stdout",
          "text": [
            "Epoch 1/100\n",
            "100/100 [==============================] - ETA: 0s - loss: 0.6113 - accuracy: 0.6666\n",
            "Epoch 1: val_loss improved from inf to 0.55422, saving model to my_best_model.hdf5\n",
            "100/100 [==============================] - 13s 36ms/step - loss: 0.6113 - accuracy: 0.6666 - val_loss: 0.5542 - val_accuracy: 0.7123\n",
            "Epoch 2/100\n",
            "100/100 [==============================] - ETA: 0s - loss: 0.5377 - accuracy: 0.7266\n",
            "Epoch 2: val_loss improved from 0.55422 to 0.54230, saving model to my_best_model.hdf5\n",
            "100/100 [==============================] - 3s 28ms/step - loss: 0.5377 - accuracy: 0.7266 - val_loss: 0.5423 - val_accuracy: 0.7314\n",
            "Epoch 3/100\n",
            " 99/100 [============================>.] - ETA: 0s - loss: 0.5146 - accuracy: 0.7451\n",
            "Epoch 3: val_loss improved from 0.54230 to 0.54026, saving model to my_best_model.hdf5\n",
            "100/100 [==============================] - 3s 30ms/step - loss: 0.5141 - accuracy: 0.7454 - val_loss: 0.5403 - val_accuracy: 0.7286\n",
            "Epoch 4/100\n",
            " 99/100 [============================>.] - ETA: 0s - loss: 0.4723 - accuracy: 0.7738\n",
            "Epoch 4: val_loss did not improve from 0.54026\n",
            "100/100 [==============================] - 3s 35ms/step - loss: 0.4722 - accuracy: 0.7742 - val_loss: 0.5432 - val_accuracy: 0.7308\n",
            "Epoch 5/100\n",
            " 98/100 [============================>.] - ETA: 0s - loss: 0.4175 - accuracy: 0.8044\n",
            "Epoch 5: val_loss did not improve from 0.54026\n",
            "100/100 [==============================] - 3s 29ms/step - loss: 0.4175 - accuracy: 0.8044 - val_loss: 0.5689 - val_accuracy: 0.7292\n",
            "Epoch 6/100\n",
            " 99/100 [============================>.] - ETA: 0s - loss: 0.3588 - accuracy: 0.8359\n",
            "Epoch 6: val_loss did not improve from 0.54026\n",
            "100/100 [==============================] - 3s 31ms/step - loss: 0.3585 - accuracy: 0.8358 - val_loss: 0.6229 - val_accuracy: 0.7134\n",
            "Epoch 7/100\n",
            "100/100 [==============================] - ETA: 0s - loss: 0.3040 - accuracy: 0.8645\n",
            "Epoch 7: val_loss did not improve from 0.54026\n",
            "100/100 [==============================] - 3s 30ms/step - loss: 0.3040 - accuracy: 0.8645 - val_loss: 0.6746 - val_accuracy: 0.7092\n",
            "Epoch 8/100\n",
            " 99/100 [============================>.] - ETA: 0s - loss: 0.2538 - accuracy: 0.8893\n",
            "Epoch 8: val_loss did not improve from 0.54026\n",
            "100/100 [==============================] - 3s 25ms/step - loss: 0.2541 - accuracy: 0.8893 - val_loss: 0.7723 - val_accuracy: 0.7031\n"
          ]
        }
      ]
    },
    {
      "cell_type": "markdown",
      "source": [
        "## Results"
      ],
      "metadata": {
        "id": "XA43rbnBTwaW"
      }
    },
    {
      "cell_type": "code",
      "source": [
        "y_pred = RNN_glove.predict(X_test_pad)"
      ],
      "metadata": {
        "id": "8kDS-oQkpWnp",
        "colab": {
          "base_uri": "https://localhost:8080/"
        },
        "outputId": "643fae59-7dd4-4be5-b8f1-37b3512e445d"
      },
      "execution_count": null,
      "outputs": [
        {
          "output_type": "stream",
          "name": "stdout",
          "text": [
            "250/250 [==============================] - 1s 4ms/step\n"
          ]
        }
      ]
    },
    {
      "cell_type": "code",
      "source": [
        "from sklearn.metrics import confusion_matrix, ConfusionMatrixDisplay\n",
        "import matplotlib.pyplot as plt\n",
        "\n",
        "\n",
        "\n",
        "y_pred_classes = np.argmax(y_pred, axis=1)\n",
        "y_true_classes = np.argmax(y_test, axis=1)\n",
        "conf_mat = confusion_matrix(y_true_classes, y_pred_classes)\n",
        "disp = ConfusionMatrixDisplay(conf_mat, display_labels=['Negative', 'Positive'])\n",
        "disp.plot()\n",
        "plt.show()\n"
      ],
      "metadata": {
        "id": "jhdpH5mAp7mN",
        "colab": {
          "base_uri": "https://localhost:8080/",
          "height": 449
        },
        "outputId": "207a393b-5a23-43b1-f0b4-26d5ac6051aa"
      },
      "execution_count": null,
      "outputs": [
        {
          "output_type": "display_data",
          "data": {
            "text/plain": [
              "<Figure size 640x480 with 2 Axes>"
            ],
            "image/png": "[encoded data removed]"
          },
          "metadata": {}
        }
      ]
    },
    {
      "cell_type": "code",
      "source": [
        "from sklearn.metrics import classification_report\n",
        "target_names = [\"Negative\",\"Positive\"]\n",
        "print(classification_report(y_true_classes, y_pred_classes, target_names=target_names))\n"
      ],
      "metadata": {
        "id": "dojnIvNCrPhG",
        "colab": {
          "base_uri": "https://localhost:8080/"
        },
        "outputId": "e4e3eb80-fe44-4339-8e18-7a9c5b636eb2"
      },
      "execution_count": null,
      "outputs": [
        {
          "output_type": "stream",
          "name": "stdout",
          "text": [
            "              precision    recall  f1-score   support\n",
            "\n",
            "    Negative       0.74      0.72      0.73      4027\n",
            "    Positive       0.72      0.74      0.73      3973\n",
            "\n",
            "    accuracy                           0.73      8000\n",
            "   macro avg       0.73      0.73      0.73      8000\n",
            "weighted avg       0.73      0.73      0.73      8000\n",
            "\n"
          ]
        }
      ]
    },
    {
      "cell_type": "markdown",
      "source": [
        "# Word2Vec RNN"
      ],
      "metadata": {
        "id": "32W-iBeMAJTn"
      }
    },
    {
      "cell_type": "markdown",
      "source": [
        "## Process and Train"
      ],
      "metadata": {
        "id": "yVocKf1sTr6n"
      }
    },
    {
      "cell_type": "code",
      "source": [
        "tqdm.pandas()\n",
        "dataset[\"tokenized\"] = dataset[\"tweet\"].progress_apply(word_tokenize)"
      ],
      "metadata": {
        "id": "otj-XhfY3mCe",
        "colab": {
          "base_uri": "https://localhost:8080/"
        },
        "outputId": "e34da7fe-ce24-4108-b05c-11a3f493b4a8"
      },
      "execution_count": null,
      "outputs": [
        {
          "output_type": "stream",
          "name": "stderr",
          "text": [
            "100%|██████████| 40000/40000 [00:04<00:00, 8298.82it/s]\n"
          ]
        }
      ]
    },
    {
      "cell_type": "code",
      "source": [
        "dataset[\"tokenized\"]"
      ],
      "metadata": {
        "id": "emOZhFK2_dj_",
        "colab": {
          "base_uri": "https://localhost:8080/"
        },
        "outputId": "bdee8692-dc67-4f08-d895-73dc42112a3e"
      },
      "execution_count": null,
      "outputs": [
        {
          "output_type": "execute_result",
          "data": {
            "text/plain": [
              "0                                [come, back, douch, lmao]\n",
              "1        [come, friday, game, alway, send, preorder, ga...\n",
              "2               [hahah, aww, suck, seem, like, someth, id]\n",
              "3         [teacher, appreci, quotgradegrubbingquot, teach]\n",
              "4              [drama, coursework, revis, n, school, suck]\n",
              "                               ...                        \n",
              "39995              [anyon, els, go, loservil, music, aaah]\n",
              "39996                                         [that, fair]\n",
              "39997    [lie, dr, paul, ekman, text, relat, facial, ex...\n",
              "39998    [noi, think, would, think, crazi, polit, tell,...\n",
              "39999                                         [hi, ghosti]\n",
              "Name: tokenized, Length: 40000, dtype: object"
            ]
          },
          "metadata": {},
          "execution_count": 25
        }
      ]
    },
    {
      "cell_type": "code",
      "source": [
        "import gensim\n",
        "from gensim.models import Word2Vec\n",
        "\n",
        "\n",
        "w2v_model = Word2Vec(dataset[\"tokenized\"].to_numpy(), vector_size=embedding_dim, window=5, min_count=1, workers=4)\n"
      ],
      "metadata": {
        "id": "Kj3nFlNR_Sng"
      },
      "execution_count": null,
      "outputs": []
    },
    {
      "cell_type": "code",
      "source": [
        "w2v_embedding_matrix = np.zeros((vocab_size, embedding_dim))\n",
        "for word, i in tokenizer.word_index.items():\n",
        "    if i >= vocab_size:\n",
        "        break\n",
        "    try: \n",
        "        embedding_vector = w2v_model.wv.get_vector(word)\n",
        "    except KeyError:\n",
        "        print(f\"the word {word} is not available\")\n",
        "    if embedding_vector is not None:\n",
        "        w2v_embedding_matrix[i] = embedding_vector\n"
      ],
      "metadata": {
        "id": "6RFQltnPBcw1",
        "colab": {
          "base_uri": "https://localhost:8080/"
        },
        "outputId": "9d2fb699-031d-4adc-fce5-6bdf7dbcc153"
      },
      "execution_count": null,
      "outputs": [
        {
          "output_type": "stream",
          "name": "stdout",
          "text": [
            "the word not is not available\n",
            "the word o is not available\n",
            "the word t is not available\n",
            "the word has is not available\n",
            "the word allru is not available\n",
            "the word sela is not available\n",
            "the word roxy is not available\n",
            "the word peacock is not available\n",
            "the word tvd is not available\n",
            "the word the is not available\n",
            "the word wockeez is not available\n",
            "the word titch is not available\n",
            "the word aier is not available\n",
            "the word brokenanvil is not available\n",
            "the word twittercomtmac is not available\n"
          ]
        }
      ]
    },
    {
      "cell_type": "code",
      "source": [],
      "metadata": {
        "id": "fx84gUrMHqNK"
      },
      "execution_count": null,
      "outputs": []
    },
    {
      "cell_type": "code",
      "source": [
        "filepath = 'my_best_model.hdf5'\n",
        "\n",
        "callback = tf.keras.callbacks.EarlyStopping(monitor=\"val_loss\",patience=5,restore_best_weights=True)\n",
        "checkpoint = ModelCheckpoint(filepath=filepath, \n",
        "                             monitor='val_loss',\n",
        "                             verbose=1, \n",
        "                             save_best_only=True,\n",
        "                             mode='min')\n",
        "opt = tf.keras.optimizers.Adam(learning_rate=0.01)\n",
        "\n",
        "\n",
        "RNN_w2v = Sequential()\n",
        "RNN_w2v.add(Embedding(vocab_size, embedding_dim, input_length=max_length, weights=[w2v_embedding_matrix], trainable=False))\n",
        "RNN_w2v.add(GRU(150))\n",
        "RNN_w2v.add(Dropout(0.2))\n",
        "RNN_w2v.add(Dense(2, activation='softmax'))\n",
        "RNN_w2v.compile(loss='categorical_crossentropy', optimizer=opt, metrics=['accuracy'])\n",
        "\n",
        "\n",
        "hist = RNN_w2v.fit(X_train_pad, y_train, epochs=100, batch_size=256, validation_split=0.2, callbacks=[checkpoint,callback])\n"
      ],
      "metadata": {
        "id": "3qlBKa-xBnqc",
        "colab": {
          "base_uri": "https://localhost:8080/"
        },
        "outputId": "082def85-463b-4e9f-c0bc-dddbf209425f"
      },
      "execution_count": null,
      "outputs": [
        {
          "output_type": "stream",
          "name": "stdout",
          "text": [
            "Epoch 1/100\n",
            " 98/100 [============================>.] - ETA: 0s - loss: 0.7071 - accuracy: 0.5654\n",
            "Epoch 1: val_loss improved from inf to 0.64744, saving model to my_best_model.hdf5\n",
            "100/100 [==============================] - 4s 28ms/step - loss: 0.7059 - accuracy: 0.5661 - val_loss: 0.6474 - val_accuracy: 0.6145\n",
            "Epoch 2/100\n",
            "100/100 [==============================] - ETA: 0s - loss: 0.6385 - accuracy: 0.6276\n",
            "Epoch 2: val_loss improved from 0.64744 to 0.63124, saving model to my_best_model.hdf5\n",
            "100/100 [==============================] - 3s 26ms/step - loss: 0.6385 - accuracy: 0.6276 - val_loss: 0.6312 - val_accuracy: 0.6394\n",
            "Epoch 3/100\n",
            " 98/100 [============================>.] - ETA: 0s - loss: 0.6297 - accuracy: 0.6354\n",
            "Epoch 3: val_loss improved from 0.63124 to 0.62571, saving model to my_best_model.hdf5\n",
            "100/100 [==============================] - 3s 27ms/step - loss: 0.6290 - accuracy: 0.6360 - val_loss: 0.6257 - val_accuracy: 0.6447\n",
            "Epoch 4/100\n",
            " 99/100 [============================>.] - ETA: 0s - loss: 0.6282 - accuracy: 0.6400\n",
            "Epoch 4: val_loss did not improve from 0.62571\n",
            "100/100 [==============================] - 2s 24ms/step - loss: 0.6280 - accuracy: 0.6401 - val_loss: 0.6503 - val_accuracy: 0.6189\n",
            "Epoch 5/100\n",
            "100/100 [==============================] - ETA: 0s - loss: 0.6249 - accuracy: 0.6411\n",
            "Epoch 5: val_loss improved from 0.62571 to 0.62491, saving model to my_best_model.hdf5\n",
            "100/100 [==============================] - 3s 26ms/step - loss: 0.6249 - accuracy: 0.6411 - val_loss: 0.6249 - val_accuracy: 0.6503\n",
            "Epoch 6/100\n",
            "100/100 [==============================] - ETA: 0s - loss: 0.6168 - accuracy: 0.6492\n",
            "Epoch 6: val_loss improved from 0.62491 to 0.61929, saving model to my_best_model.hdf5\n",
            "100/100 [==============================] - 2s 25ms/step - loss: 0.6168 - accuracy: 0.6492 - val_loss: 0.6193 - val_accuracy: 0.6473\n",
            "Epoch 7/100\n",
            "100/100 [==============================] - ETA: 0s - loss: 0.6121 - accuracy: 0.6562\n",
            "Epoch 7: val_loss improved from 0.61929 to 0.60987, saving model to my_best_model.hdf5\n",
            "100/100 [==============================] - 2s 25ms/step - loss: 0.6121 - accuracy: 0.6562 - val_loss: 0.6099 - val_accuracy: 0.6625\n",
            "Epoch 8/100\n",
            "100/100 [==============================] - ETA: 0s - loss: 0.6095 - accuracy: 0.6595\n",
            "Epoch 8: val_loss improved from 0.60987 to 0.60324, saving model to my_best_model.hdf5\n",
            "100/100 [==============================] - 3s 27ms/step - loss: 0.6095 - accuracy: 0.6595 - val_loss: 0.6032 - val_accuracy: 0.6683\n",
            "Epoch 9/100\n",
            " 98/100 [============================>.] - ETA: 0s - loss: 0.6068 - accuracy: 0.6606\n",
            "Epoch 9: val_loss improved from 0.60324 to 0.60254, saving model to my_best_model.hdf5\n",
            "100/100 [==============================] - 3s 26ms/step - loss: 0.6071 - accuracy: 0.6602 - val_loss: 0.6025 - val_accuracy: 0.6750\n",
            "Epoch 10/100\n",
            " 99/100 [============================>.] - ETA: 0s - loss: 0.6098 - accuracy: 0.6589\n",
            "Epoch 10: val_loss improved from 0.60254 to 0.60004, saving model to my_best_model.hdf5\n",
            "100/100 [==============================] - 2s 25ms/step - loss: 0.6095 - accuracy: 0.6591 - val_loss: 0.6000 - val_accuracy: 0.6678\n",
            "Epoch 11/100\n",
            "100/100 [==============================] - ETA: 0s - loss: 0.6014 - accuracy: 0.6627\n",
            "Epoch 11: val_loss improved from 0.60004 to 0.59662, saving model to my_best_model.hdf5\n",
            "100/100 [==============================] - 2s 25ms/step - loss: 0.6014 - accuracy: 0.6627 - val_loss: 0.5966 - val_accuracy: 0.6773\n",
            "Epoch 12/100\n",
            "100/100 [==============================] - ETA: 0s - loss: 0.5978 - accuracy: 0.6664\n",
            "Epoch 12: val_loss did not improve from 0.59662\n",
            "100/100 [==============================] - 3s 25ms/step - loss: 0.5978 - accuracy: 0.6664 - val_loss: 0.6032 - val_accuracy: 0.6630\n",
            "Epoch 13/100\n",
            " 98/100 [============================>.] - ETA: 0s - loss: 0.5933 - accuracy: 0.6739\n",
            "Epoch 13: val_loss did not improve from 0.59662\n",
            "100/100 [==============================] - 3s 26ms/step - loss: 0.5936 - accuracy: 0.6740 - val_loss: 0.5971 - val_accuracy: 0.6705\n",
            "Epoch 14/100\n",
            " 98/100 [============================>.] - ETA: 0s - loss: 0.5930 - accuracy: 0.6698\n",
            "Epoch 14: val_loss improved from 0.59662 to 0.58942, saving model to my_best_model.hdf5\n",
            "100/100 [==============================] - 3s 26ms/step - loss: 0.5933 - accuracy: 0.6700 - val_loss: 0.5894 - val_accuracy: 0.6845\n",
            "Epoch 15/100\n",
            "100/100 [==============================] - ETA: 0s - loss: 0.5914 - accuracy: 0.6723\n",
            "Epoch 15: val_loss did not improve from 0.58942\n",
            "100/100 [==============================] - 3s 25ms/step - loss: 0.5914 - accuracy: 0.6723 - val_loss: 0.5919 - val_accuracy: 0.6797\n",
            "Epoch 16/100\n",
            "100/100 [==============================] - ETA: 0s - loss: 0.5879 - accuracy: 0.6760\n",
            "Epoch 16: val_loss improved from 0.58942 to 0.58769, saving model to my_best_model.hdf5\n",
            "100/100 [==============================] - 3s 26ms/step - loss: 0.5879 - accuracy: 0.6760 - val_loss: 0.5877 - val_accuracy: 0.6773\n",
            "Epoch 17/100\n",
            " 99/100 [============================>.] - ETA: 0s - loss: 0.5846 - accuracy: 0.6798\n",
            "Epoch 17: val_loss did not improve from 0.58769\n",
            "100/100 [==============================] - 2s 24ms/step - loss: 0.5844 - accuracy: 0.6801 - val_loss: 0.5923 - val_accuracy: 0.6888\n",
            "Epoch 18/100\n",
            "100/100 [==============================] - ETA: 0s - loss: 0.5887 - accuracy: 0.6778\n",
            "Epoch 18: val_loss improved from 0.58769 to 0.58762, saving model to my_best_model.hdf5\n",
            "100/100 [==============================] - 3s 26ms/step - loss: 0.5887 - accuracy: 0.6778 - val_loss: 0.5876 - val_accuracy: 0.6778\n",
            "Epoch 19/100\n",
            " 98/100 [============================>.] - ETA: 0s - loss: 0.5869 - accuracy: 0.6797\n",
            "Epoch 19: val_loss did not improve from 0.58762\n",
            "100/100 [==============================] - 3s 27ms/step - loss: 0.5868 - accuracy: 0.6800 - val_loss: 0.6115 - val_accuracy: 0.6555\n",
            "Epoch 20/100\n",
            " 99/100 [============================>.] - ETA: 0s - loss: 0.5837 - accuracy: 0.6776\n",
            "Epoch 20: val_loss improved from 0.58762 to 0.58500, saving model to my_best_model.hdf5\n",
            "100/100 [==============================] - 3s 25ms/step - loss: 0.5838 - accuracy: 0.6777 - val_loss: 0.5850 - val_accuracy: 0.6853\n",
            "Epoch 21/100\n",
            " 99/100 [============================>.] - ETA: 0s - loss: 0.5787 - accuracy: 0.6850\n",
            "Epoch 21: val_loss did not improve from 0.58500\n",
            "100/100 [==============================] - 3s 25ms/step - loss: 0.5785 - accuracy: 0.6849 - val_loss: 0.6019 - val_accuracy: 0.6680\n",
            "Epoch 22/100\n",
            " 99/100 [============================>.] - ETA: 0s - loss: 0.6112 - accuracy: 0.6569\n",
            "Epoch 22: val_loss did not improve from 0.58500\n",
            "100/100 [==============================] - 3s 26ms/step - loss: 0.6113 - accuracy: 0.6570 - val_loss: 0.5932 - val_accuracy: 0.6781\n",
            "Epoch 23/100\n",
            " 99/100 [============================>.] - ETA: 0s - loss: 0.5814 - accuracy: 0.6841\n",
            "Epoch 23: val_loss improved from 0.58500 to 0.57930, saving model to my_best_model.hdf5\n",
            "100/100 [==============================] - 3s 28ms/step - loss: 0.5811 - accuracy: 0.6844 - val_loss: 0.5793 - val_accuracy: 0.6952\n",
            "Epoch 24/100\n",
            " 99/100 [============================>.] - ETA: 0s - loss: 0.5728 - accuracy: 0.6930\n",
            "Epoch 24: val_loss did not improve from 0.57930\n",
            "100/100 [==============================] - 4s 36ms/step - loss: 0.5728 - accuracy: 0.6930 - val_loss: 0.5882 - val_accuracy: 0.6769\n",
            "Epoch 25/100\n",
            " 98/100 [============================>.] - ETA: 0s - loss: 0.5726 - accuracy: 0.6908\n",
            "Epoch 25: val_loss improved from 0.57930 to 0.57495, saving model to my_best_model.hdf5\n",
            "100/100 [==============================] - 3s 26ms/step - loss: 0.5725 - accuracy: 0.6907 - val_loss: 0.5750 - val_accuracy: 0.6970\n",
            "Epoch 26/100\n",
            "100/100 [==============================] - ETA: 0s - loss: 0.5706 - accuracy: 0.6936\n",
            "Epoch 26: val_loss did not improve from 0.57495\n",
            "100/100 [==============================] - 2s 25ms/step - loss: 0.5706 - accuracy: 0.6936 - val_loss: 0.5765 - val_accuracy: 0.6967\n",
            "Epoch 27/100\n",
            " 99/100 [============================>.] - ETA: 0s - loss: 0.5695 - accuracy: 0.6926\n",
            "Epoch 27: val_loss did not improve from 0.57495\n",
            "100/100 [==============================] - 3s 26ms/step - loss: 0.5692 - accuracy: 0.6927 - val_loss: 0.5781 - val_accuracy: 0.6911\n",
            "Epoch 28/100\n",
            " 98/100 [============================>.] - ETA: 0s - loss: 0.5649 - accuracy: 0.6963\n",
            "Epoch 28: val_loss did not improve from 0.57495\n",
            "100/100 [==============================] - 3s 26ms/step - loss: 0.5653 - accuracy: 0.6960 - val_loss: 0.5771 - val_accuracy: 0.6922\n",
            "Epoch 29/100\n",
            " 99/100 [============================>.] - ETA: 0s - loss: 0.5663 - accuracy: 0.6983\n",
            "Epoch 29: val_loss did not improve from 0.57495\n",
            "100/100 [==============================] - 3s 26ms/step - loss: 0.5663 - accuracy: 0.6986 - val_loss: 0.5915 - val_accuracy: 0.6808\n",
            "Epoch 30/100\n",
            " 99/100 [============================>.] - ETA: 0s - loss: 0.5628 - accuracy: 0.6992\n",
            "Epoch 30: val_loss improved from 0.57495 to 0.57263, saving model to my_best_model.hdf5\n",
            "100/100 [==============================] - 3s 27ms/step - loss: 0.5628 - accuracy: 0.6994 - val_loss: 0.5726 - val_accuracy: 0.6952\n",
            "Epoch 31/100\n",
            "100/100 [==============================] - ETA: 0s - loss: 0.5626 - accuracy: 0.6998\n",
            "Epoch 31: val_loss did not improve from 0.57263\n",
            "100/100 [==============================] - 3s 25ms/step - loss: 0.5626 - accuracy: 0.6998 - val_loss: 0.5816 - val_accuracy: 0.6873\n",
            "Epoch 32/100\n",
            "100/100 [==============================] - ETA: 0s - loss: 0.5598 - accuracy: 0.6994\n",
            "Epoch 32: val_loss did not improve from 0.57263\n",
            "100/100 [==============================] - 3s 26ms/step - loss: 0.5598 - accuracy: 0.6994 - val_loss: 0.5779 - val_accuracy: 0.6948\n",
            "Epoch 33/100\n",
            " 99/100 [============================>.] - ETA: 0s - loss: 0.5566 - accuracy: 0.7049\n",
            "Epoch 33: val_loss did not improve from 0.57263\n",
            "100/100 [==============================] - 2s 25ms/step - loss: 0.5567 - accuracy: 0.7049 - val_loss: 0.5775 - val_accuracy: 0.6973\n",
            "Epoch 34/100\n",
            " 98/100 [============================>.] - ETA: 0s - loss: 0.5533 - accuracy: 0.7070\n",
            "Epoch 34: val_loss did not improve from 0.57263\n",
            "100/100 [==============================] - 3s 26ms/step - loss: 0.5526 - accuracy: 0.7076 - val_loss: 0.5762 - val_accuracy: 0.6953\n",
            "Epoch 35/100\n",
            "100/100 [==============================] - ETA: 0s - loss: 0.5508 - accuracy: 0.7074\n",
            "Epoch 35: val_loss did not improve from 0.57263\n",
            "100/100 [==============================] - 3s 27ms/step - loss: 0.5508 - accuracy: 0.7074 - val_loss: 0.5766 - val_accuracy: 0.6950\n"
          ]
        }
      ]
    },
    {
      "cell_type": "code",
      "source": [
        "y_pred = RNN_w2v.predict(X_test_pad)"
      ],
      "metadata": {
        "id": "h1OWi4qMIP8X",
        "colab": {
          "base_uri": "https://localhost:8080/"
        },
        "outputId": "a20cb8ab-efa2-4cea-cd2d-6a9fde391249"
      },
      "execution_count": null,
      "outputs": [
        {
          "output_type": "stream",
          "name": "stdout",
          "text": [
            "250/250 [==============================] - 1s 4ms/step\n"
          ]
        }
      ]
    },
    {
      "cell_type": "markdown",
      "source": [
        "## Results"
      ],
      "metadata": {
        "id": "6ls4J6RkTl8d"
      }
    },
    {
      "cell_type": "code",
      "source": [
        "from sklearn.metrics import confusion_matrix, ConfusionMatrixDisplay\n",
        "import matplotlib.pyplot as plt\n",
        "\n",
        "\n",
        "\n",
        "y_pred_classes = np.argmax(y_pred, axis=1)\n",
        "y_true_classes = np.argmax(y_test, axis=1)\n",
        "conf_mat = confusion_matrix(y_true_classes, y_pred_classes)\n",
        "disp = ConfusionMatrixDisplay(conf_mat, display_labels=['Negative', 'Positive'])\n",
        "disp.plot()\n",
        "plt.show()\n"
      ],
      "metadata": {
        "id": "qKFpu32dISS5",
        "colab": {
          "base_uri": "https://localhost:8080/",
          "height": 452
        },
        "outputId": "e3c57079-59ab-4a3e-9054-4d76b3c1454e"
      },
      "execution_count": null,
      "outputs": [
        {
          "output_type": "display_data",
          "data": {
            "text/plain": [
              "<Figure size 640x480 with 2 Axes>"
            ],
            "image/png": "[encoded data removed]"
          },
          "metadata": {}
        }
      ]
    },
    {
      "cell_type": "code",
      "source": [
        "from sklearn.metrics import classification_report\n",
        "target_names = [\"Negative\",\"Positive\"]\n",
        "print(classification_report(y_true_classes, y_pred_classes, target_names=target_names))\n"
      ],
      "metadata": {
        "id": "rqRTUJJNIVXj",
        "colab": {
          "base_uri": "https://localhost:8080/"
        },
        "outputId": "8e8f1a40-0074-4017-a529-c25bd5626968"
      },
      "execution_count": null,
      "outputs": [
        {
          "output_type": "stream",
          "name": "stdout",
          "text": [
            "              precision    recall  f1-score   support\n",
            "\n",
            "    Negative       0.68      0.70      0.69      4027\n",
            "    Positive       0.69      0.67      0.68      3973\n",
            "\n",
            "    accuracy                           0.68      8000\n",
            "   macro avg       0.68      0.68      0.68      8000\n",
            "weighted avg       0.68      0.68      0.68      8000\n",
            "\n"
          ]
        }
      ]
    },
    {
      "cell_type": "markdown",
      "source": [
        "#One-Hot RNN"
      ],
      "metadata": {
        "id": "DpOi0BtBSA9M"
      }
    },
    {
      "cell_type": "markdown",
      "source": [
        "## Process and Train"
      ],
      "metadata": {
        "id": "vPsN6e7hT7QP"
      }
    },
    {
      "cell_type": "code",
      "source": [
        "from sklearn.feature_extraction.text import CountVectorizer\n",
        "\n",
        "# Define a sample text data\n",
        "\n",
        "# Initialize the CountVectorizer\n",
        "vectorizer = CountVectorizer(binary=True, max_features=5000 )\n",
        "\n",
        "# Fit the vectorizer to the text data\n",
        "vectorizer.fit(X_train)\n",
        "\n",
        "# # Transform the text data into a one-hot encoded matrix\n",
        "X_train_onehot = vectorizer.transform(X_train).toarray()\n",
        "X_test_onehot = vectorizer.transform(X_test).toarray()\n",
        "\n",
        "# Print the one-hot encoded data\n",
        "# type(X_train_onehot)"
      ],
      "metadata": {
        "id": "Sbhsxu5gSUew"
      },
      "execution_count": null,
      "outputs": []
    },
    {
      "cell_type": "code",
      "source": [
        "from keras.callbacks import ModelCheckpoint\n",
        "from keras.layers import CuDNNLSTM, Dropout,SimpleRNN,Reshape\n",
        "import tensorflow as tf\n",
        "\n",
        "filepath = 'my_best_model.hdf5'\n",
        "\n",
        "callback = tf.keras.callbacks.EarlyStopping(monitor=\"val_loss\",patience=5,restore_best_weights=True)\n",
        "checkpoint = ModelCheckpoint(filepath=filepath, \n",
        "                             monitor='val_loss',\n",
        "                             verbose=1, \n",
        "                             save_best_only=True,\n",
        "                             mode='min')\n",
        "opt = tf.keras.optimizers.Adam(learning_rate=0.01)\n",
        "timesteps = 1\n",
        "vocab_size = 5000\n",
        "input_shape = (vocab_size,)\n",
        "\n",
        "RNN_onehot = Sequential()\n",
        "RNN_onehot.add(Dense(units=150, activation='relu', input_shape=input_shape))\n",
        "RNN_onehot.add(Reshape((1, 150)))\n",
        "RNN_onehot.add(GRU(150))\n",
        "RNN_onehot.add(Dropout(0.2))\n",
        "RNN_onehot.add(Dense(2, activation='softmax'))\n",
        "RNN_onehot.compile(loss='categorical_crossentropy', optimizer=opt, metrics=['accuracy'])\n",
        "\n",
        "\n",
        "# X_train = X_train.to_numpy().reshape((X_train.shape[0], timesteps, vocab_size))\n",
        "hist = RNN_onehot.fit(X_train_onehot, y_train, epochs=100, batch_size=32, validation_split=0.2, callbacks=[checkpoint,callback])\n"
      ],
      "metadata": {
        "colab": {
          "base_uri": "https://localhost:8080/"
        },
        "id": "5Yyd5mCXt4Q5",
        "outputId": "5a343bf3-7869-437e-fab1-681ed1948465"
      },
      "execution_count": null,
      "outputs": [
        {
          "output_type": "stream",
          "name": "stdout",
          "text": [
            "Epoch 1/100\n",
            "796/800 [============================>.] - ETA: 0s - loss: 0.5591 - accuracy: 0.7155\n",
            "Epoch 1: val_loss improved from inf to 0.51981, saving model to my_best_model.hdf5\n",
            "800/800 [==============================] - 8s 7ms/step - loss: 0.5589 - accuracy: 0.7155 - val_loss: 0.5198 - val_accuracy: 0.7497\n",
            "Epoch 2/100\n",
            "793/800 [============================>.] - ETA: 0s - loss: 0.4174 - accuracy: 0.8099\n",
            "Epoch 2: val_loss did not improve from 0.51981\n",
            "800/800 [==============================] - 4s 5ms/step - loss: 0.4180 - accuracy: 0.8093 - val_loss: 0.5467 - val_accuracy: 0.7452\n",
            "Epoch 3/100\n",
            "796/800 [============================>.] - ETA: 0s - loss: 0.2459 - accuracy: 0.8947\n",
            "Epoch 3: val_loss did not improve from 0.51981\n",
            "800/800 [==============================] - 4s 5ms/step - loss: 0.2460 - accuracy: 0.8946 - val_loss: 0.7097 - val_accuracy: 0.7264\n",
            "Epoch 4/100\n",
            "792/800 [============================>.] - ETA: 0s - loss: 0.1197 - accuracy: 0.9499\n",
            "Epoch 4: val_loss did not improve from 0.51981\n",
            "800/800 [==============================] - 5s 7ms/step - loss: 0.1198 - accuracy: 0.9499 - val_loss: 1.0795 - val_accuracy: 0.7170\n",
            "Epoch 5/100\n",
            "799/800 [============================>.] - ETA: 0s - loss: 0.0666 - accuracy: 0.9726\n",
            "Epoch 5: val_loss did not improve from 0.51981\n",
            "800/800 [==============================] - 4s 5ms/step - loss: 0.0667 - accuracy: 0.9725 - val_loss: 1.3071 - val_accuracy: 0.7153\n",
            "Epoch 6/100\n",
            "793/800 [============================>.] - ETA: 0s - loss: 0.0459 - accuracy: 0.9791\n",
            "Epoch 6: val_loss did not improve from 0.51981\n",
            "800/800 [==============================] - 4s 5ms/step - loss: 0.0460 - accuracy: 0.9790 - val_loss: 1.5823 - val_accuracy: 0.7186\n"
          ]
        }
      ]
    },
    {
      "cell_type": "code",
      "source": [
        "y_pred = RNN_onehot.predict(X_test_onehot)\n",
        "     \n",
        "\n",
        "from sklearn.metrics import confusion_matrix, ConfusionMatrixDisplay\n",
        "import matplotlib.pyplot as plt\n",
        "\n",
        "\n",
        "\n",
        "y_pred_classes = np.argmax(y_pred, axis=1)\n",
        "y_true_classes = np.argmax(y_test, axis=1)\n",
        "conf_mat = confusion_matrix(y_true_classes, y_pred_classes)\n",
        "disp = ConfusionMatrixDisplay(conf_mat, display_labels=['Negative', 'Positive'])\n",
        "disp.plot()\n",
        "plt.show()\n",
        "\n",
        "     \n",
        "\n",
        "from sklearn.metrics import classification_report\n",
        "target_names = [\"Negative\",\"Positive\"]\n",
        "print(classification_report(y_true_classes, y_pred_classes, target_names=target_names))\n",
        "\n"
      ],
      "metadata": {
        "colab": {
          "base_uri": "https://localhost:8080/",
          "height": 623
        },
        "id": "KLoqsYBKt6fg",
        "outputId": "36db02c7-4ae3-4dff-fa07-e5b12520dc68"
      },
      "execution_count": null,
      "outputs": [
        {
          "output_type": "stream",
          "name": "stdout",
          "text": [
            "250/250 [==============================] - 1s 2ms/step\n"
          ]
        },
        {
          "output_type": "display_data",
          "data": {
            "text/plain": [
              "<Figure size 640x480 with 2 Axes>"
            ],
            "image/png": "[encoded data removed]"
          },
          "metadata": {}
        },
        {
          "output_type": "stream",
          "name": "stdout",
          "text": [
            "              precision    recall  f1-score   support\n",
            "\n",
            "    Negative       0.76      0.72      0.74      4027\n",
            "    Positive       0.73      0.77      0.75      3973\n",
            "\n",
            "    accuracy                           0.74      8000\n",
            "   macro avg       0.75      0.74      0.74      8000\n",
            "weighted avg       0.75      0.74      0.74      8000\n",
            "\n"
          ]
        }
      ]
    }
  ]
}