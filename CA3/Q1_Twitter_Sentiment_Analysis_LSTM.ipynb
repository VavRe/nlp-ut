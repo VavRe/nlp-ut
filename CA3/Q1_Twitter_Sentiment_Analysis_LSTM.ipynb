{
  "cells": [
    {
      "cell_type": "markdown",
      "metadata": {
        "id": "view-in-github",
        "colab_type": "text"
      },
      "source": [
        "<a href=\"https://colab.research.google.com/github/VavRe/nlp-ut/blob/main/CA3/Q1_Twitter_Sentiment_Analysis_LSTM.ipynb\" target=\"_parent\"><img src=\"https://colab.research.google.com/assets/colab-badge.svg\" alt=\"Open In Colab\"/></a>"
      ]
    },
    {
      "cell_type": "code",
      "execution_count": 1,
      "metadata": {
        "colab": {
          "base_uri": "https://localhost:8080/"
        },
        "id": "fI1zESTpRII0",
        "outputId": "6974de6d-8b2b-4c58-8e55-3b5e6b8d26b6"
      },
      "outputs": [
        {
          "output_type": "stream",
          "name": "stdout",
          "text": [
            "--2023-05-14 19:26:47--  http://cs.stanford.edu/people/alecmgo/trainingandtestdata.zip\n",
            "Resolving cs.stanford.edu (cs.stanford.edu)... 171.64.64.64\n",
            "Connecting to cs.stanford.edu (cs.stanford.edu)|171.64.64.64|:80... connected.\n",
            "HTTP request sent, awaiting response... 301 Moved Permanently\n",
            "Location: https://cs.stanford.edu/people/alecmgo/trainingandtestdata.zip [following]\n",
            "--2023-05-14 19:26:47--  https://cs.stanford.edu/people/alecmgo/trainingandtestdata.zip\n",
            "Connecting to cs.stanford.edu (cs.stanford.edu)|171.64.64.64|:443... connected.\n",
            "HTTP request sent, awaiting response... 200 OK\n",
            "Length: 81363704 (78M) [application/zip]\n",
            "Saving to: ‘trainingandtestdata.zip’\n",
            "\n",
            "trainingandtestdata 100%[===================>]  77.59M  39.3MB/s    in 2.0s    \n",
            "\n",
            "2023-05-14 19:26:49 (39.3 MB/s) - ‘trainingandtestdata.zip’ saved [81363704/81363704]\n",
            "\n",
            "Archive:  trainingandtestdata.zip\n",
            "  inflating: testdata.manual.2009.06.14.csv  \n",
            "  inflating: training.1600000.processed.noemoticon.csv  \n"
          ]
        }
      ],
      "source": [
        "!wget http://cs.stanford.edu/people/alecmgo/trainingandtestdata.zip\n",
        "!unzip trainingandtestdata.zip"
      ]
    },
    {
      "cell_type": "code",
      "execution_count": 2,
      "metadata": {
        "colab": {
          "base_uri": "https://localhost:8080/"
        },
        "id": "vHUJw6dwfe1e",
        "outputId": "c47f5de4-e03f-4705-9b1a-52ac9b0726f7"
      },
      "outputs": [
        {
          "output_type": "stream",
          "name": "stdout",
          "text": [
            "Mounted at /content/drive\n"
          ]
        }
      ],
      "source": [
        "from google.colab import drive\n",
        "drive.mount('/content/drive')"
      ]
    },
    {
      "cell_type": "code",
      "execution_count": 3,
      "metadata": {
        "id": "OpbvbzUCWEiT"
      },
      "outputs": [],
      "source": [
        "import pandas as pd\n",
        "import numpy as np\n",
        "import tensorflow as tf\n",
        "from keras.preprocessing.text import Tokenizer\n",
        "from keras.utils import pad_sequences\n",
        "from keras.layers import Embedding, LSTM, Dense, Dropout, LSTM\n",
        "from keras.models import Sequential\n"
      ]
    },
    {
      "cell_type": "markdown",
      "metadata": {
        "id": "6BT7iIi9S3_w"
      },
      "source": [
        "#Preprocessing"
      ]
    },
    {
      "cell_type": "code",
      "execution_count": 4,
      "metadata": {
        "id": "DTEMjI9bV3WR"
      },
      "outputs": [],
      "source": [
        "columns = [\"sentiment\",\"id\",\"datetime\",\"query\",\"user\",\"tweet\"]\n",
        "df = pd.read_csv(\"/content/training.1600000.processed.noemoticon.csv\", encoding=\"latin-1\", names=columns)"
      ]
    },
    {
      "cell_type": "code",
      "execution_count": 5,
      "metadata": {
        "colab": {
          "base_uri": "https://localhost:8080/"
        },
        "id": "Sjx0Ut-RX1qg",
        "outputId": "9102d1b5-1fb8-41ba-bc1a-8ff3b51b4956"
      },
      "outputs": [
        {
          "output_type": "execute_result",
          "data": {
            "text/plain": [
              "0    800000\n",
              "4    800000\n",
              "Name: sentiment, dtype: int64"
            ]
          },
          "metadata": {},
          "execution_count": 5
        }
      ],
      "source": [
        "df[\"sentiment\"].value_counts()"
      ]
    },
    {
      "cell_type": "code",
      "execution_count": 6,
      "metadata": {
        "colab": {
          "base_uri": "https://localhost:8080/",
          "height": 424
        },
        "id": "R8dNu3B4eJiy",
        "outputId": "de2d3b5f-b55a-495e-d381-db18a65cff2b"
      },
      "outputs": [
        {
          "output_type": "execute_result",
          "data": {
            "text/plain": [
              "         sentiment                                              tweet\n",
              "0                0  @switchfoot http://twitpic.com/2y1zl - Awww, t...\n",
              "1                0  is upset that he can't update his Facebook by ...\n",
              "2                0  @Kenichan I dived many times for the ball. Man...\n",
              "3                0    my whole body feels itchy and like its on fire \n",
              "4                0  @nationwideclass no, it's not behaving at all....\n",
              "...            ...                                                ...\n",
              "1599995          4  Just woke up. Having no school is the best fee...\n",
              "1599996          4  TheWDB.com - Very cool to hear old Walt interv...\n",
              "1599997          4  Are you ready for your MoJo Makeover? Ask me f...\n",
              "1599998          4  Happy 38th Birthday to my boo of alll time!!! ...\n",
              "1599999          4  happy #charitytuesday @theNSPCC @SparksCharity...\n",
              "\n",
              "[1600000 rows x 2 columns]"
            ],
            "text/html": [
              "\n",
              "  <div id=\"df-098f5aa1-b1c5-43b1-a359-dc9f4cc0632d\">\n",
              "    <div class=\"colab-df-container\">\n",
              "      <div>\n",
              "<style scoped>\n",
              "    .dataframe tbody tr th:only-of-type {\n",
              "        vertical-align: middle;\n",
              "    }\n",
              "\n",
              "    .dataframe tbody tr th {\n",
              "        vertical-align: top;\n",
              "    }\n",
              "\n",
              "    .dataframe thead th {\n",
              "        text-align: right;\n",
              "    }\n",
              "</style>\n",
              "<table border=\"1\" class=\"dataframe\">\n",
              "  <thead>\n",
              "    <tr style=\"text-align: right;\">\n",
              "      <th></th>\n",
              "      <th>sentiment</th>\n",
              "      <th>tweet</th>\n",
              "    </tr>\n",
              "  </thead>\n",
              "  <tbody>\n",
              "    <tr>\n",
              "      <th>0</th>\n",
              "      <td>0</td>\n",
              "      <td>@switchfoot http://twitpic.com/2y1zl - Awww, t...</td>\n",
              "    </tr>\n",
              "    <tr>\n",
              "      <th>1</th>\n",
              "      <td>0</td>\n",
              "      <td>is upset that he can't update his Facebook by ...</td>\n",
              "    </tr>\n",
              "    <tr>\n",
              "      <th>2</th>\n",
              "      <td>0</td>\n",
              "      <td>@Kenichan I dived many times for the ball. Man...</td>\n",
              "    </tr>\n",
              "    <tr>\n",
              "      <th>3</th>\n",
              "      <td>0</td>\n",
              "      <td>my whole body feels itchy and like its on fire</td>\n",
              "    </tr>\n",
              "    <tr>\n",
              "      <th>4</th>\n",
              "      <td>0</td>\n",
              "      <td>@nationwideclass no, it's not behaving at all....</td>\n",
              "    </tr>\n",
              "    <tr>\n",
              "      <th>...</th>\n",
              "      <td>...</td>\n",
              "      <td>...</td>\n",
              "    </tr>\n",
              "    <tr>\n",
              "      <th>1599995</th>\n",
              "      <td>4</td>\n",
              "      <td>Just woke up. Having no school is the best fee...</td>\n",
              "    </tr>\n",
              "    <tr>\n",
              "      <th>1599996</th>\n",
              "      <td>4</td>\n",
              "      <td>TheWDB.com - Very cool to hear old Walt interv...</td>\n",
              "    </tr>\n",
              "    <tr>\n",
              "      <th>1599997</th>\n",
              "      <td>4</td>\n",
              "      <td>Are you ready for your MoJo Makeover? Ask me f...</td>\n",
              "    </tr>\n",
              "    <tr>\n",
              "      <th>1599998</th>\n",
              "      <td>4</td>\n",
              "      <td>Happy 38th Birthday to my boo of alll time!!! ...</td>\n",
              "    </tr>\n",
              "    <tr>\n",
              "      <th>1599999</th>\n",
              "      <td>4</td>\n",
              "      <td>happy #charitytuesday @theNSPCC @SparksCharity...</td>\n",
              "    </tr>\n",
              "  </tbody>\n",
              "</table>\n",
              "<p>1600000 rows × 2 columns</p>\n",
              "</div>\n",
              "      <button class=\"colab-df-convert\" onclick=\"convertToInteractive('df-098f5aa1-b1c5-43b1-a359-dc9f4cc0632d')\"\n",
              "              title=\"Convert this dataframe to an interactive table.\"\n",
              "              style=\"display:none;\">\n",
              "        \n",
              "  <svg xmlns=\"http://www.w3.org/2000/svg\" height=\"24px\"viewBox=\"0 0 24 24\"\n",
              "       width=\"24px\">\n",
              "    <path d=\"M0 0h24v24H0V0z\" fill=\"none\"/>\n",
              "    <path d=\"M18.56 5.44l.94 2.06.94-2.06 2.06-.94-2.06-.94-.94-2.06-.94 2.06-2.06.94zm-11 1L8.5 8.5l.94-2.06 2.06-.94-2.06-.94L8.5 2.5l-.94 2.06-2.06.94zm10 10l.94 2.06.94-2.06 2.06-.94-2.06-.94-.94-2.06-.94 2.06-2.06.94z\"/><path d=\"M17.41 7.96l-1.37-1.37c-.4-.4-.92-.59-1.43-.59-.52 0-1.04.2-1.43.59L10.3 9.45l-7.72 7.72c-.78.78-.78 2.05 0 2.83L4 21.41c.39.39.9.59 1.41.59.51 0 1.02-.2 1.41-.59l7.78-7.78 2.81-2.81c.8-.78.8-2.07 0-2.86zM5.41 20L4 18.59l7.72-7.72 1.47 1.35L5.41 20z\"/>\n",
              "  </svg>\n",
              "      </button>\n",
              "      \n",
              "  <style>\n",
              "    .colab-df-container {\n",
              "      display:flex;\n",
              "      flex-wrap:wrap;\n",
              "      gap: 12px;\n",
              "    }\n",
              "\n",
              "    .colab-df-convert {\n",
              "      background-color: #E8F0FE;\n",
              "      border: none;\n",
              "      border-radius: 50%;\n",
              "      cursor: pointer;\n",
              "      display: none;\n",
              "      fill: #1967D2;\n",
              "      height: 32px;\n",
              "      padding: 0 0 0 0;\n",
              "      width: 32px;\n",
              "    }\n",
              "\n",
              "    .colab-df-convert:hover {\n",
              "      background-color: #E2EBFA;\n",
              "      box-shadow: 0px 1px 2px rgba(60, 64, 67, 0.3), 0px 1px 3px 1px rgba(60, 64, 67, 0.15);\n",
              "      fill: #174EA6;\n",
              "    }\n",
              "\n",
              "    [theme=dark] .colab-df-convert {\n",
              "      background-color: #3B4455;\n",
              "      fill: #D2E3FC;\n",
              "    }\n",
              "\n",
              "    [theme=dark] .colab-df-convert:hover {\n",
              "      background-color: #434B5C;\n",
              "      box-shadow: 0px 1px 3px 1px rgba(0, 0, 0, 0.15);\n",
              "      filter: drop-shadow(0px 1px 2px rgba(0, 0, 0, 0.3));\n",
              "      fill: #FFFFFF;\n",
              "    }\n",
              "  </style>\n",
              "\n",
              "      <script>\n",
              "        const buttonEl =\n",
              "          document.querySelector('#df-098f5aa1-b1c5-43b1-a359-dc9f4cc0632d button.colab-df-convert');\n",
              "        buttonEl.style.display =\n",
              "          google.colab.kernel.accessAllowed ? 'block' : 'none';\n",
              "\n",
              "        async function convertToInteractive(key) {\n",
              "          const element = document.querySelector('#df-098f5aa1-b1c5-43b1-a359-dc9f4cc0632d');\n",
              "          const dataTable =\n",
              "            await google.colab.kernel.invokeFunction('convertToInteractive',\n",
              "                                                     [key], {});\n",
              "          if (!dataTable) return;\n",
              "\n",
              "          const docLinkHtml = 'Like what you see? Visit the ' +\n",
              "            '<a target=\"_blank\" href=https://colab.research.google.com/notebooks/data_table.ipynb>data table notebook</a>'\n",
              "            + ' to learn more about interactive tables.';\n",
              "          element.innerHTML = '';\n",
              "          dataTable['output_type'] = 'display_data';\n",
              "          await google.colab.output.renderOutput(dataTable, element);\n",
              "          const docLink = document.createElement('div');\n",
              "          docLink.innerHTML = docLinkHtml;\n",
              "          element.appendChild(docLink);\n",
              "        }\n",
              "      </script>\n",
              "    </div>\n",
              "  </div>\n",
              "  "
            ]
          },
          "metadata": {},
          "execution_count": 6
        }
      ],
      "source": [
        "df = df.loc[:,[\"sentiment\",\"tweet\"]]\n",
        "df"
      ]
    },
    {
      "cell_type": "code",
      "execution_count": 7,
      "metadata": {
        "id": "yiqqBRMLZlS-"
      },
      "outputs": [],
      "source": [
        "from sklearn.model_selection import train_test_split\n",
        "\n",
        "samples_fraction = 0.08\n",
        "stratify_on = \"sentiment\"\n",
        "\n",
        "_, dataset = train_test_split(df, stratify=df[stratify_on], \n",
        "                                 test_size=samples_fraction,\n",
        "                                 random_state=76)\n",
        "\n",
        "# Reset the index of the sampled DataFrame\n",
        "dataset.reset_index(drop=True, inplace=True)\n"
      ]
    },
    {
      "cell_type": "code",
      "execution_count": 8,
      "metadata": {
        "colab": {
          "base_uri": "https://localhost:8080/"
        },
        "id": "Gmz4HeOLdsBK",
        "outputId": "f6ab4cb6-52f6-4c5e-ade5-0b8a2f9695e4"
      },
      "outputs": [
        {
          "output_type": "execute_result",
          "data": {
            "text/plain": [
              "0    64000\n",
              "4    64000\n",
              "Name: sentiment, dtype: int64"
            ]
          },
          "metadata": {},
          "execution_count": 8
        }
      ],
      "source": [
        "dataset[\"sentiment\"].value_counts()"
      ]
    },
    {
      "cell_type": "code",
      "execution_count": 9,
      "metadata": {
        "colab": {
          "base_uri": "https://localhost:8080/"
        },
        "id": "HbpGmQs3sluy",
        "outputId": "7d75c709-08c0-419b-e7eb-9313c8ed5098"
      },
      "outputs": [
        {
          "output_type": "stream",
          "name": "stderr",
          "text": [
            "[nltk_data] Downloading package punkt to /root/nltk_data...\n",
            "[nltk_data]   Unzipping tokenizers/punkt.zip.\n",
            "[nltk_data] Downloading package wordnet to /root/nltk_data...\n",
            "[nltk_data] Downloading package stopwords to /root/nltk_data...\n",
            "[nltk_data]   Unzipping corpora/stopwords.zip.\n"
          ]
        }
      ],
      "source": [
        "import re\n",
        "import nltk\n",
        "from nltk.stem import PorterStemmer\n",
        "from nltk.corpus import stopwords\n",
        "from nltk.tokenize import word_tokenize\n",
        "\n",
        "nltk.download('punkt')\n",
        "nltk.download('wordnet')\n",
        "nltk.download('stopwords')\n",
        "\n",
        "stop_words = stopwords.words('english')\n",
        "\n",
        "def preprocess_tweet(tweet, remove_stopwords=True, stem_words=True, handle_negation=True):\n",
        "    # Convert to lowercase\n",
        "    tweet = tweet.lower()\n",
        "    \n",
        "    # Remove URLs, mentions, and hashtags\n",
        "    tweet = re.sub(r\"http\\S+|www\\S+|https\\S+|\\@\\w+|\\#\\w+\", \"\", tweet)\n",
        "    \n",
        "    # Remove punctuation\n",
        "    tweet = re.sub(r'[^\\w\\s]', '', tweet)\n",
        "    \n",
        "    # Remove numbers\n",
        "    tweet = re.sub(r'\\d+', '', tweet)\n",
        "    \n",
        "    # Remove stopwords \n",
        "    if remove_stopwords:\n",
        "        tweet_tokens = tweet.split()\n",
        "        tweet = \" \".join([word for word in tweet_tokens if word not in stop_words])\n",
        "    \n",
        "    # Stem words \n",
        "    if stem_words:\n",
        "        stemmer = PorterStemmer()\n",
        "        tweet_tokens = tweet.split()\n",
        "        tweet = \" \".join([stemmer.stem(word) for word in tweet_tokens])\n",
        "        \n",
        "    # Handle negation \n",
        "    if handle_negation:\n",
        "        tweet_tokens = word_tokenize(tweet)\n",
        "        negation_flag = False\n",
        "        negated_tokens = []\n",
        "        for i, token in enumerate(tweet_tokens):\n",
        "            if token in [\"not\", \"n't\", \"no\"]:\n",
        "                negation_flag = True\n",
        "            elif negation_flag:\n",
        "                negated_tokens.append(\"not_\" + token)\n",
        "                negation_flag = False\n",
        "            else:\n",
        "                negated_tokens.append(token)\n",
        "        tweet = \" \".join(negated_tokens)\n",
        "    \n",
        "    return tweet\n"
      ]
    },
    {
      "cell_type": "code",
      "execution_count": 10,
      "metadata": {
        "colab": {
          "base_uri": "https://localhost:8080/"
        },
        "id": "o55eEstft44G",
        "outputId": "a7bd21ca-7b56-4097-a7e4-ac4bbb4f84ce"
      },
      "outputs": [
        {
          "output_type": "stream",
          "name": "stderr",
          "text": [
            "100%|██████████| 128000/128000 [00:36<00:00, 3529.73it/s]\n"
          ]
        }
      ],
      "source": [
        "from tqdm import tqdm\n",
        "tqdm.pandas()\n",
        "\n",
        "\n",
        "dataset[\"tweet\"] = dataset[\"tweet\"].progress_apply(preprocess_tweet)"
      ]
    },
    {
      "cell_type": "code",
      "execution_count": 11,
      "metadata": {
        "id": "b1bs0urOkyfX"
      },
      "outputs": [],
      "source": [
        "from keras.utils import to_categorical\n",
        "X = dataset[\"tweet\"]\n",
        "y = dataset[\"sentiment\"]"
      ]
    },
    {
      "cell_type": "code",
      "execution_count": 12,
      "metadata": {
        "id": "5oOVFfxJWkkV"
      },
      "outputs": [],
      "source": [
        "y = y.replace(4,1)\n",
        "y = y.replace(4,1)"
      ]
    },
    {
      "cell_type": "code",
      "execution_count": 13,
      "metadata": {
        "colab": {
          "base_uri": "https://localhost:8080/"
        },
        "id": "_SGNl2V2fGGv",
        "outputId": "1154c706-4833-46ca-b962-c088d8b6ac7f"
      },
      "outputs": [
        {
          "output_type": "execute_result",
          "data": {
            "text/plain": [
              "0"
            ]
          },
          "metadata": {},
          "execution_count": 13
        }
      ],
      "source": [
        "import gc\n",
        "\n",
        "del df\n",
        "gc.collect() # collect garbage "
      ]
    },
    {
      "cell_type": "code",
      "execution_count": 14,
      "metadata": {
        "id": "JrQsMehAfdrS"
      },
      "outputs": [],
      "source": [
        "X_train, X_test, y_train, y_test = train_test_split(X, y, test_size=0.2, random_state=76)\n",
        "\n",
        "y_train = to_categorical(y_train, num_classes=2)\n",
        "y_test = to_categorical(y_test, num_classes=2)\n"
      ]
    },
    {
      "cell_type": "code",
      "execution_count": 15,
      "metadata": {
        "id": "QUQNR7itm6Oc"
      },
      "outputs": [],
      "source": [
        "vocab_size = 15000\n",
        "tokenizer = Tokenizer(num_words=vocab_size)\n",
        "tokenizer.fit_on_texts(X_train)"
      ]
    },
    {
      "cell_type": "code",
      "execution_count": 16,
      "metadata": {
        "id": "j2BDoz4M6j3g"
      },
      "outputs": [],
      "source": [
        "X_train_seq = tokenizer.texts_to_sequences(X_train)\n",
        "X_test_seq = tokenizer.texts_to_sequences(X_test)"
      ]
    },
    {
      "cell_type": "code",
      "execution_count": 17,
      "metadata": {
        "id": "PKLPxVF17AP4"
      },
      "outputs": [],
      "source": [
        "# Pad the sequences to a fixed length\n",
        "max_length = 150\n",
        "X_train_pad = pad_sequences(X_train_seq, maxlen=max_length)\n",
        "X_test_pad = pad_sequences(X_test_seq, maxlen=max_length)\n"
      ]
    },
    {
      "cell_type": "markdown",
      "metadata": {
        "id": "m1v5XpXUStEz"
      },
      "source": [
        "# GloVe LSTM"
      ]
    },
    {
      "cell_type": "markdown",
      "metadata": {
        "id": "rTs3GS0UTz6e"
      },
      "source": [
        "## Process and Train"
      ]
    },
    {
      "cell_type": "code",
      "execution_count": 18,
      "metadata": {
        "colab": {
          "base_uri": "https://localhost:8080/"
        },
        "id": "GJjBfkDE9NZv",
        "outputId": "a458da59-0ac2-444d-e25a-74e74347f257"
      },
      "outputs": [
        {
          "output_type": "stream",
          "name": "stdout",
          "text": [
            "Looking in indexes: https://pypi.org/simple, https://us-python.pkg.dev/colab-wheels/public/simple/\n",
            "Requirement already satisfied: kaggle in /usr/local/lib/python3.10/dist-packages (1.5.13)\n",
            "Requirement already satisfied: six>=1.10 in /usr/local/lib/python3.10/dist-packages (from kaggle) (1.16.0)\n",
            "Requirement already satisfied: certifi in /usr/local/lib/python3.10/dist-packages (from kaggle) (2022.12.7)\n",
            "Requirement already satisfied: python-dateutil in /usr/local/lib/python3.10/dist-packages (from kaggle) (2.8.2)\n",
            "Requirement already satisfied: requests in /usr/local/lib/python3.10/dist-packages (from kaggle) (2.27.1)\n",
            "Requirement already satisfied: tqdm in /usr/local/lib/python3.10/dist-packages (from kaggle) (4.65.0)\n",
            "Requirement already satisfied: python-slugify in /usr/local/lib/python3.10/dist-packages (from kaggle) (8.0.1)\n",
            "Requirement already satisfied: urllib3 in /usr/local/lib/python3.10/dist-packages (from kaggle) (1.26.15)\n",
            "Requirement already satisfied: text-unidecode>=1.3 in /usr/local/lib/python3.10/dist-packages (from python-slugify->kaggle) (1.3)\n",
            "Requirement already satisfied: charset-normalizer~=2.0.0 in /usr/local/lib/python3.10/dist-packages (from requests->kaggle) (2.0.12)\n",
            "Requirement already satisfied: idna<4,>=2.5 in /usr/local/lib/python3.10/dist-packages (from requests->kaggle) (3.4)\n",
            "Downloading glove-global-vectors-for-word-representation.zip to /content\n",
            " 94% 429M/458M [00:01<00:00, 354MB/s]\n",
            "100% 458M/458M [00:01<00:00, 315MB/s]\n",
            "Archive:  /content/glove-global-vectors-for-word-representation.zip\n",
            "  inflating: glove.6B.100d.txt       \n",
            "  inflating: glove.6B.200d.txt       \n",
            "  inflating: glove.6B.50d.txt        \n"
          ]
        }
      ],
      "source": [
        "!pip install kaggle ;\n",
        "!mkdir ~/.kaggle/ ;\n",
        "!cp /content/drive/MyDrive/kaggle.json ~/.kaggle/ ;\n",
        "!chmod 600 ~/.kaggle/kaggle.json ;\n",
        "!kaggle datasets download -d rtatman/glove-global-vectors-for-word-representation\n",
        "!unzip  /content/glove-global-vectors-for-word-representation.zip"
      ]
    },
    {
      "cell_type": "code",
      "execution_count": 19,
      "metadata": {
        "id": "H7g5llbf6MSY"
      },
      "outputs": [],
      "source": [
        "# # Use one-hot vectors for one option\n",
        "# X_train_onehot = tokenizer.sequences_to_matrix(X_train_seq, mode='binary')\n",
        "# X_test_onehot = tokenizer.sequences_to_matrix(X_test_seq, mode='binary')\n",
        "\n",
        "# Use GloVe embeddings for another option\n",
        "glove_embeddings_index = {}\n",
        "with open('glove.6B.200d.txt') as f:\n",
        "    for line in f:\n",
        "        values = line.split()\n",
        "        word = values[0]\n",
        "        coefs = np.asarray(values[1:], dtype='float32')\n",
        "        glove_embeddings_index[word] = coefs\n",
        "embedding_dim = 200\n",
        "glove_embedding_matrix = np.zeros((vocab_size, embedding_dim))\n",
        "for word, i in tokenizer.word_index.items():\n",
        "    if i >= vocab_size:\n",
        "        break\n",
        "    embedding_vector = glove_embeddings_index.get(word)\n",
        "    if embedding_vector is not None:\n",
        "        glove_embedding_matrix[i] = embedding_vector\n"
      ]
    },
    {
      "cell_type": "code",
      "execution_count": 20,
      "metadata": {
        "colab": {
          "base_uri": "https://localhost:8080/"
        },
        "id": "qWVr4ep6-Y4z",
        "outputId": "2b7ad954-60ec-4e7b-9468-e35f520f4f2d"
      },
      "outputs": [
        {
          "output_type": "stream",
          "name": "stdout",
          "text": [
            "Epoch 1/100\n",
            "320/320 [==============================] - ETA: 0s - loss: 0.5752 - accuracy: 0.6986\n",
            "Epoch 1: val_loss improved from inf to 0.53562, saving model to my_best_model.hdf5\n",
            "320/320 [==============================] - 20s 32ms/step - loss: 0.5752 - accuracy: 0.6986 - val_loss: 0.5356 - val_accuracy: 0.7314\n",
            "Epoch 2/100\n",
            "319/320 [============================>.] - ETA: 0s - loss: 0.5151 - accuracy: 0.7440\n",
            "Epoch 2: val_loss improved from 0.53562 to 0.52035, saving model to my_best_model.hdf5\n",
            "320/320 [==============================] - 9s 30ms/step - loss: 0.5150 - accuracy: 0.7440 - val_loss: 0.5203 - val_accuracy: 0.7391\n",
            "Epoch 3/100\n",
            "318/320 [============================>.] - ETA: 0s - loss: 0.4894 - accuracy: 0.7619\n",
            "Epoch 3: val_loss improved from 0.52035 to 0.51911, saving model to my_best_model.hdf5\n",
            "320/320 [==============================] - 8s 24ms/step - loss: 0.4893 - accuracy: 0.7619 - val_loss: 0.5191 - val_accuracy: 0.7417\n",
            "Epoch 4/100\n",
            "319/320 [============================>.] - ETA: 0s - loss: 0.4652 - accuracy: 0.7763\n",
            "Epoch 4: val_loss did not improve from 0.51911\n",
            "320/320 [==============================] - 8s 24ms/step - loss: 0.4652 - accuracy: 0.7764 - val_loss: 0.5323 - val_accuracy: 0.7348\n",
            "Epoch 5/100\n",
            "319/320 [============================>.] - ETA: 0s - loss: 0.4406 - accuracy: 0.7908\n",
            "Epoch 5: val_loss did not improve from 0.51911\n",
            "320/320 [==============================] - 8s 26ms/step - loss: 0.4406 - accuracy: 0.7907 - val_loss: 0.5461 - val_accuracy: 0.7335\n",
            "Epoch 6/100\n",
            "320/320 [==============================] - ETA: 0s - loss: 0.4126 - accuracy: 0.8067\n",
            "Epoch 6: val_loss did not improve from 0.51911\n",
            "320/320 [==============================] - 8s 25ms/step - loss: 0.4126 - accuracy: 0.8067 - val_loss: 0.5637 - val_accuracy: 0.7334\n",
            "Epoch 7/100\n",
            "318/320 [============================>.] - ETA: 0s - loss: 0.3845 - accuracy: 0.8232\n",
            "Epoch 7: val_loss did not improve from 0.51911\n",
            "320/320 [==============================] - 8s 25ms/step - loss: 0.3846 - accuracy: 0.8233 - val_loss: 0.5723 - val_accuracy: 0.7263\n",
            "Epoch 8/100\n",
            "320/320 [==============================] - ETA: 0s - loss: 0.3570 - accuracy: 0.8365\n",
            "Epoch 8: val_loss did not improve from 0.51911\n",
            "320/320 [==============================] - 8s 25ms/step - loss: 0.3570 - accuracy: 0.8365 - val_loss: 0.6106 - val_accuracy: 0.7240\n"
          ]
        }
      ],
      "source": [
        "from keras.callbacks import ModelCheckpoint\n",
        "from keras.layers import CuDNNLSTM, Dropout\n",
        "\n",
        "filepath = 'my_best_model.hdf5'\n",
        "\n",
        "callback = tf.keras.callbacks.EarlyStopping(monitor=\"val_loss\",patience=5,restore_best_weights=True)\n",
        "checkpoint = ModelCheckpoint(filepath=filepath, \n",
        "                             monitor='val_loss',\n",
        "                             verbose=1, \n",
        "                             save_best_only=True,\n",
        "                             mode='min')\n",
        "opt = tf.keras.optimizers.Adam(learning_rate=0.01)\n",
        "\n",
        "\n",
        "LSTM_glove = Sequential()\n",
        "LSTM_glove.add(Embedding(vocab_size, embedding_dim, input_length=max_length, weights=[glove_embedding_matrix], trainable=False))\n",
        "LSTM_glove.add(CuDNNLSTM(150))\n",
        "LSTM_glove.add(Dropout(0.2))\n",
        "LSTM_glove.add(Dense(2, activation='softmax'))\n",
        "LSTM_glove.compile(loss='categorical_crossentropy', optimizer=opt, metrics=['accuracy'])\n",
        "\n",
        "\n",
        "hist = LSTM_glove.fit(X_train_pad, y_train, epochs=100, batch_size=256, validation_split=0.2, callbacks=[checkpoint,callback])\n"
      ]
    },
    {
      "cell_type": "markdown",
      "metadata": {
        "id": "XA43rbnBTwaW"
      },
      "source": [
        "## Results"
      ]
    },
    {
      "cell_type": "code",
      "execution_count": 21,
      "metadata": {
        "id": "8kDS-oQkpWnp",
        "colab": {
          "base_uri": "https://localhost:8080/"
        },
        "outputId": "19b33d54-2425-4e69-ef87-5ca4d6e1ad6f"
      },
      "outputs": [
        {
          "output_type": "stream",
          "name": "stdout",
          "text": [
            "800/800 [==============================] - 3s 3ms/step\n"
          ]
        }
      ],
      "source": [
        "y_pred = LSTM_glove.predict(X_test_pad)"
      ]
    },
    {
      "cell_type": "code",
      "execution_count": 22,
      "metadata": {
        "id": "jhdpH5mAp7mN",
        "colab": {
          "base_uri": "https://localhost:8080/",
          "height": 449
        },
        "outputId": "76fa0ade-ae5e-45cd-f5ea-0a73af84aaf2"
      },
      "outputs": [
        {
          "output_type": "display_data",
          "data": {
            "text/plain": [
              "<Figure size 640x480 with 2 Axes>"
            ],
            "image/png": "[encoded data removed]"
          },
          "metadata": {}
        }
      ],
      "source": [
        "from sklearn.metrics import confusion_matrix, ConfusionMatrixDisplay\n",
        "import matplotlib.pyplot as plt\n",
        "\n",
        "\n",
        "\n",
        "y_pred_classes = np.argmax(y_pred, axis=1)\n",
        "y_true_classes = np.argmax(y_test, axis=1)\n",
        "conf_mat = confusion_matrix(y_true_classes, y_pred_classes)\n",
        "disp = ConfusionMatrixDisplay(conf_mat, display_labels=['Negative', 'Positive'])\n",
        "disp.plot()\n",
        "plt.show()\n"
      ]
    },
    {
      "cell_type": "code",
      "execution_count": 23,
      "metadata": {
        "id": "dojnIvNCrPhG",
        "colab": {
          "base_uri": "https://localhost:8080/"
        },
        "outputId": "c6071bb8-8c45-42b9-bdaf-68a8b2b857f3"
      },
      "outputs": [
        {
          "output_type": "stream",
          "name": "stdout",
          "text": [
            "              precision    recall  f1-score   support\n",
            "\n",
            "    Negative       0.77      0.70      0.73     12851\n",
            "    Positive       0.72      0.79      0.76     12749\n",
            "\n",
            "    accuracy                           0.75     25600\n",
            "   macro avg       0.75      0.75      0.75     25600\n",
            "weighted avg       0.75      0.75      0.75     25600\n",
            "\n"
          ]
        }
      ],
      "source": [
        "from sklearn.metrics import classification_report\n",
        "target_names = [\"Negative\",\"Positive\"]\n",
        "print(classification_report(y_true_classes, y_pred_classes, target_names=target_names))\n"
      ]
    },
    {
      "cell_type": "markdown",
      "metadata": {
        "id": "32W-iBeMAJTn"
      },
      "source": [
        "# Word2Vec LSTM"
      ]
    },
    {
      "cell_type": "markdown",
      "metadata": {
        "id": "yVocKf1sTr6n"
      },
      "source": [
        "## Process and Train"
      ]
    },
    {
      "cell_type": "code",
      "execution_count": 24,
      "metadata": {
        "id": "otj-XhfY3mCe",
        "colab": {
          "base_uri": "https://localhost:8080/"
        },
        "outputId": "8576fc39-dbe8-4ff6-ce63-d18cc318356f"
      },
      "outputs": [
        {
          "output_type": "stream",
          "name": "stderr",
          "text": [
            "100%|██████████| 128000/128000 [00:11<00:00, 11108.01it/s]\n"
          ]
        }
      ],
      "source": [
        "tqdm.pandas()\n",
        "dataset[\"tokenized\"] = dataset[\"tweet\"].progress_apply(word_tokenize)"
      ]
    },
    {
      "cell_type": "code",
      "execution_count": 25,
      "metadata": {
        "id": "emOZhFK2_dj_",
        "colab": {
          "base_uri": "https://localhost:8080/"
        },
        "outputId": "12acad41-d70e-45fb-e621-30408251e874"
      },
      "outputs": [
        {
          "output_type": "execute_result",
          "data": {
            "text/plain": [
              "0                                              [woke, work]\n",
              "1           [feel, like, im, person, world, work, saturday]\n",
              "2         [ill, call, u, want, tell, twitter, mi, biz, lol]\n",
              "3         [need, get, comic, final, get, back, printer, ...\n",
              "4         [think, coz, ask, late, lol, like, fair, argum...\n",
              "                                ...                        \n",
              "127995    [omg, slip, stair, hous, hurt, im, even, drunk...\n",
              "127996    [someon, pleas, open, decent, cafe, trawalla, ...\n",
              "127997                              [comput, problem, byte]\n",
              "127998    [surround, shiraz, univers, took, student, kno...\n",
              "127999    [lot, agenda, today, studi, blog, updat, featu...\n",
              "Name: tokenized, Length: 128000, dtype: object"
            ]
          },
          "metadata": {},
          "execution_count": 25
        }
      ],
      "source": [
        "dataset[\"tokenized\"]"
      ]
    },
    {
      "cell_type": "code",
      "execution_count": 26,
      "metadata": {
        "id": "Kj3nFlNR_Sng"
      },
      "outputs": [],
      "source": [
        "import gensim\n",
        "from gensim.models import Word2Vec\n",
        "\n",
        "\n",
        "w2v_model = Word2Vec(dataset[\"tokenized\"].to_numpy(), vector_size=embedding_dim, window=5, min_count=1, workers=4)\n"
      ]
    },
    {
      "cell_type": "code",
      "execution_count": 27,
      "metadata": {
        "id": "6RFQltnPBcw1",
        "colab": {
          "base_uri": "https://localhost:8080/"
        },
        "outputId": "e47d224e-388e-4b36-df4d-f23886ca5b31"
      },
      "outputs": [
        {
          "output_type": "stream",
          "name": "stdout",
          "text": [
            "the word not is not available\n",
            "the word o is not available\n",
            "the word t is not available\n",
            "the word the is not available\n",
            "the word s is not available\n"
          ]
        }
      ],
      "source": [
        "w2v_embedding_matrix = np.zeros((vocab_size, embedding_dim))\n",
        "for word, i in tokenizer.word_index.items():\n",
        "    if i >= vocab_size:\n",
        "        break\n",
        "    try: \n",
        "        embedding_vector = w2v_model.wv.get_vector(word)\n",
        "    except KeyError:\n",
        "        print(f\"the word {word} is not available\")\n",
        "    if embedding_vector is not None:\n",
        "        w2v_embedding_matrix[i] = embedding_vector\n"
      ]
    },
    {
      "cell_type": "code",
      "execution_count": 28,
      "metadata": {
        "id": "3qlBKa-xBnqc",
        "colab": {
          "base_uri": "https://localhost:8080/"
        },
        "outputId": "5eebdc49-177c-4f72-d300-8895a6188cf1"
      },
      "outputs": [
        {
          "output_type": "stream",
          "name": "stdout",
          "text": [
            "Epoch 1/100\n",
            "320/320 [==============================] - ETA: 0s - loss: 0.5537 - accuracy: 0.7156\n",
            "Epoch 1: val_loss improved from inf to 0.51714, saving model to my_best_model.hdf5\n",
            "320/320 [==============================] - 10s 28ms/step - loss: 0.5537 - accuracy: 0.7156 - val_loss: 0.5171 - val_accuracy: 0.7407\n",
            "Epoch 2/100\n",
            "319/320 [============================>.] - ETA: 0s - loss: 0.5160 - accuracy: 0.7425\n",
            "Epoch 2: val_loss improved from 0.51714 to 0.50837, saving model to my_best_model.hdf5\n",
            "320/320 [==============================] - 9s 28ms/step - loss: 0.5160 - accuracy: 0.7425 - val_loss: 0.5084 - val_accuracy: 0.7462\n",
            "Epoch 3/100\n",
            "318/320 [============================>.] - ETA: 0s - loss: 0.5073 - accuracy: 0.7487\n",
            "Epoch 3: val_loss did not improve from 0.50837\n",
            "320/320 [==============================] - 9s 27ms/step - loss: 0.5072 - accuracy: 0.7488 - val_loss: 0.5111 - val_accuracy: 0.7429\n",
            "Epoch 4/100\n",
            "319/320 [============================>.] - ETA: 0s - loss: 0.5038 - accuracy: 0.7510\n",
            "Epoch 4: val_loss improved from 0.50837 to 0.50293, saving model to my_best_model.hdf5\n",
            "320/320 [==============================] - 8s 26ms/step - loss: 0.5039 - accuracy: 0.7510 - val_loss: 0.5029 - val_accuracy: 0.7476\n",
            "Epoch 5/100\n",
            "318/320 [============================>.] - ETA: 0s - loss: 0.4976 - accuracy: 0.7555\n",
            "Epoch 5: val_loss did not improve from 0.50293\n",
            "320/320 [==============================] - 8s 25ms/step - loss: 0.4977 - accuracy: 0.7554 - val_loss: 0.5068 - val_accuracy: 0.7501\n",
            "Epoch 6/100\n",
            "320/320 [==============================] - ETA: 0s - loss: 0.4952 - accuracy: 0.7562\n",
            "Epoch 6: val_loss improved from 0.50293 to 0.50227, saving model to my_best_model.hdf5\n",
            "320/320 [==============================] - 9s 28ms/step - loss: 0.4952 - accuracy: 0.7562 - val_loss: 0.5023 - val_accuracy: 0.7495\n",
            "Epoch 7/100\n",
            "320/320 [==============================] - ETA: 0s - loss: 0.4921 - accuracy: 0.7580\n",
            "Epoch 7: val_loss improved from 0.50227 to 0.50063, saving model to my_best_model.hdf5\n",
            "320/320 [==============================] - 9s 28ms/step - loss: 0.4921 - accuracy: 0.7580 - val_loss: 0.5006 - val_accuracy: 0.7521\n",
            "Epoch 8/100\n",
            "320/320 [==============================] - ETA: 0s - loss: 0.4893 - accuracy: 0.7578\n",
            "Epoch 8: val_loss did not improve from 0.50063\n",
            "320/320 [==============================] - 8s 26ms/step - loss: 0.4893 - accuracy: 0.7578 - val_loss: 0.5023 - val_accuracy: 0.7529\n",
            "Epoch 9/100\n",
            "319/320 [============================>.] - ETA: 0s - loss: 0.4867 - accuracy: 0.7601\n",
            "Epoch 9: val_loss did not improve from 0.50063\n",
            "320/320 [==============================] - 8s 26ms/step - loss: 0.4870 - accuracy: 0.7600 - val_loss: 0.5022 - val_accuracy: 0.7490\n",
            "Epoch 10/100\n",
            "318/320 [============================>.] - ETA: 0s - loss: 0.4852 - accuracy: 0.7617\n",
            "Epoch 10: val_loss improved from 0.50063 to 0.49935, saving model to my_best_model.hdf5\n",
            "320/320 [==============================] - 9s 27ms/step - loss: 0.4851 - accuracy: 0.7618 - val_loss: 0.4993 - val_accuracy: 0.7487\n",
            "Epoch 11/100\n",
            "320/320 [==============================] - ETA: 0s - loss: 0.4828 - accuracy: 0.7629\n",
            "Epoch 11: val_loss did not improve from 0.49935\n",
            "320/320 [==============================] - 8s 25ms/step - loss: 0.4828 - accuracy: 0.7629 - val_loss: 0.5029 - val_accuracy: 0.7504\n",
            "Epoch 12/100\n",
            "318/320 [============================>.] - ETA: 0s - loss: 0.4779 - accuracy: 0.7664\n",
            "Epoch 12: val_loss did not improve from 0.49935\n",
            "320/320 [==============================] - 8s 25ms/step - loss: 0.4778 - accuracy: 0.7664 - val_loss: 0.5039 - val_accuracy: 0.7509\n",
            "Epoch 13/100\n",
            "318/320 [============================>.] - ETA: 0s - loss: 0.4777 - accuracy: 0.7675\n",
            "Epoch 13: val_loss did not improve from 0.49935\n",
            "320/320 [==============================] - 9s 27ms/step - loss: 0.4779 - accuracy: 0.7673 - val_loss: 0.5069 - val_accuracy: 0.7486\n",
            "Epoch 14/100\n",
            "320/320 [==============================] - ETA: 0s - loss: 0.4739 - accuracy: 0.7680\n",
            "Epoch 14: val_loss did not improve from 0.49935\n",
            "320/320 [==============================] - 8s 26ms/step - loss: 0.4739 - accuracy: 0.7680 - val_loss: 0.5068 - val_accuracy: 0.7492\n",
            "Epoch 15/100\n",
            "319/320 [============================>.] - ETA: 0s - loss: 0.4718 - accuracy: 0.7705\n",
            "Epoch 15: val_loss did not improve from 0.49935\n",
            "320/320 [==============================] - 8s 26ms/step - loss: 0.4719 - accuracy: 0.7705 - val_loss: 0.5074 - val_accuracy: 0.7475\n"
          ]
        }
      ],
      "source": [
        "filepath = 'my_best_model.hdf5'\n",
        "\n",
        "callback = tf.keras.callbacks.EarlyStopping(monitor=\"val_loss\",patience=5,restore_best_weights=True)\n",
        "checkpoint = ModelCheckpoint(filepath=filepath, \n",
        "                             monitor='val_loss',\n",
        "                             verbose=1, \n",
        "                             save_best_only=True,\n",
        "                             mode='min')\n",
        "opt = tf.keras.optimizers.Adam(learning_rate=0.01)\n",
        "\n",
        "\n",
        "LSTM_w2v = Sequential()\n",
        "LSTM_w2v.add(Embedding(vocab_size, embedding_dim, input_length=max_length, weights=[w2v_embedding_matrix], trainable=False))\n",
        "LSTM_w2v.add(CuDNNLSTM(150))\n",
        "LSTM_w2v.add(Dropout(0.2))\n",
        "LSTM_w2v.add(Dense(2, activation='softmax'))\n",
        "LSTM_w2v.compile(loss='categorical_crossentropy', optimizer=opt, metrics=['accuracy'])\n",
        "\n",
        "\n",
        "hist = LSTM_w2v.fit(X_train_pad, y_train, epochs=100, batch_size=256, validation_split=0.2, callbacks=[checkpoint,callback])\n"
      ]
    },
    {
      "cell_type": "code",
      "execution_count": 29,
      "metadata": {
        "id": "h1OWi4qMIP8X",
        "colab": {
          "base_uri": "https://localhost:8080/"
        },
        "outputId": "d0fd9c31-0a92-487d-adf3-114bb60b2f7b"
      },
      "outputs": [
        {
          "output_type": "stream",
          "name": "stdout",
          "text": [
            "800/800 [==============================] - 3s 3ms/step\n"
          ]
        }
      ],
      "source": [
        "y_pred = LSTM_w2v.predict(X_test_pad)"
      ]
    },
    {
      "cell_type": "markdown",
      "metadata": {
        "id": "6ls4J6RkTl8d"
      },
      "source": [
        "## Results"
      ]
    },
    {
      "cell_type": "code",
      "execution_count": 30,
      "metadata": {
        "id": "qKFpu32dISS5",
        "colab": {
          "base_uri": "https://localhost:8080/",
          "height": 449
        },
        "outputId": "29c34b26-8f06-4ea3-a792-263336968fa8"
      },
      "outputs": [
        {
          "output_type": "display_data",
          "data": {
            "text/plain": [
              "<Figure size 640x480 with 2 Axes>"
            ],
            "image/png": "[encoded data removed]"
          },
          "metadata": {}
        }
      ],
      "source": [
        "from sklearn.metrics import confusion_matrix, ConfusionMatrixDisplay\n",
        "import matplotlib.pyplot as plt\n",
        "\n",
        "\n",
        "\n",
        "y_pred_classes = np.argmax(y_pred, axis=1)\n",
        "y_true_classes = np.argmax(y_test, axis=1)\n",
        "conf_mat = confusion_matrix(y_true_classes, y_pred_classes)\n",
        "disp = ConfusionMatrixDisplay(conf_mat, display_labels=['Negative', 'Positive'])\n",
        "disp.plot()\n",
        "plt.show()\n"
      ]
    },
    {
      "cell_type": "code",
      "execution_count": 31,
      "metadata": {
        "id": "rqRTUJJNIVXj",
        "colab": {
          "base_uri": "https://localhost:8080/"
        },
        "outputId": "02fa1bb4-ece5-4f5f-d632-f9a05fd69c54"
      },
      "outputs": [
        {
          "output_type": "stream",
          "name": "stdout",
          "text": [
            "              precision    recall  f1-score   support\n",
            "\n",
            "    Negative       0.76      0.74      0.75     12851\n",
            "    Positive       0.74      0.76      0.75     12749\n",
            "\n",
            "    accuracy                           0.75     25600\n",
            "   macro avg       0.75      0.75      0.75     25600\n",
            "weighted avg       0.75      0.75      0.75     25600\n",
            "\n"
          ]
        }
      ],
      "source": [
        "from sklearn.metrics import classification_report\n",
        "target_names = [\"Negative\",\"Positive\"]\n",
        "print(classification_report(y_true_classes, y_pred_classes, target_names=target_names))\n"
      ]
    },
    {
      "cell_type": "markdown",
      "metadata": {
        "id": "DpOi0BtBSA9M"
      },
      "source": [
        "#One-Hot LSTM"
      ]
    },
    {
      "cell_type": "markdown",
      "metadata": {
        "id": "vPsN6e7hT7QP"
      },
      "source": [
        "## Process and Train"
      ]
    },
    {
      "cell_type": "code",
      "execution_count": 32,
      "metadata": {
        "id": "Sbhsxu5gSUew"
      },
      "outputs": [],
      "source": [
        "from sklearn.feature_extraction.text import CountVectorizer\n",
        "\n",
        "# Define a sample text data\n",
        "\n",
        "# Initialize the CountVectorizer\n",
        "vectorizer = CountVectorizer(binary=True, max_features=5000 )\n",
        "\n",
        "# Fit the vectorizer to the text data\n",
        "vectorizer.fit(X_train)\n",
        "\n",
        "# # Transform the text data into a one-hot encoded matrix\n",
        "X_train_onehot = vectorizer.transform(X_train).toarray()\n",
        "X_test_onehot = vectorizer.transform(X_test).toarray()\n",
        "\n",
        "# Print the one-hot encoded data\n",
        "# type(X_train_onehot)"
      ]
    },
    {
      "cell_type": "code",
      "execution_count": 33,
      "metadata": {
        "id": "5Yyd5mCXt4Q5",
        "colab": {
          "base_uri": "https://localhost:8080/"
        },
        "outputId": "a3ea571b-914d-4ca1-c6b0-d22bae92cea2"
      },
      "outputs": [
        {
          "output_type": "stream",
          "name": "stdout",
          "text": [
            "Epoch 1/100\n",
            "2549/2560 [============================>.] - ETA: 0s - loss: 0.5285 - accuracy: 0.7404\n",
            "Epoch 1: val_loss improved from inf to 0.51540, saving model to my_best_model.hdf5\n",
            "2560/2560 [==============================] - 16s 6ms/step - loss: 0.5283 - accuracy: 0.7405 - val_loss: 0.5154 - val_accuracy: 0.7503\n",
            "Epoch 2/100\n",
            "2559/2560 [============================>.] - ETA: 0s - loss: 0.4448 - accuracy: 0.7899\n",
            "Epoch 2: val_loss did not improve from 0.51540\n",
            "2560/2560 [==============================] - 13s 5ms/step - loss: 0.4447 - accuracy: 0.7899 - val_loss: 0.5201 - val_accuracy: 0.7563\n",
            "Epoch 3/100\n",
            "2556/2560 [============================>.] - ETA: 0s - loss: 0.3460 - accuracy: 0.8422\n",
            "Epoch 3: val_loss did not improve from 0.51540\n",
            "2560/2560 [==============================] - 14s 5ms/step - loss: 0.3462 - accuracy: 0.8421 - val_loss: 0.5733 - val_accuracy: 0.7491\n",
            "Epoch 4/100\n",
            "2557/2560 [============================>.] - ETA: 0s - loss: 0.2363 - accuracy: 0.8971\n",
            "Epoch 4: val_loss did not improve from 0.51540\n",
            "2560/2560 [==============================] - 12s 5ms/step - loss: 0.2363 - accuracy: 0.8971 - val_loss: 0.7610 - val_accuracy: 0.7370\n",
            "Epoch 5/100\n",
            "2557/2560 [============================>.] - ETA: 0s - loss: 0.1577 - accuracy: 0.9334\n",
            "Epoch 5: val_loss did not improve from 0.51540\n",
            "2560/2560 [==============================] - 13s 5ms/step - loss: 0.1577 - accuracy: 0.9334 - val_loss: 0.9317 - val_accuracy: 0.7296\n",
            "Epoch 6/100\n",
            "2560/2560 [==============================] - ETA: 0s - loss: 0.1122 - accuracy: 0.9527\n",
            "Epoch 6: val_loss did not improve from 0.51540\n",
            "2560/2560 [==============================] - 14s 5ms/step - loss: 0.1122 - accuracy: 0.9527 - val_loss: 1.1777 - val_accuracy: 0.7288\n"
          ]
        }
      ],
      "source": [
        "from keras.callbacks import ModelCheckpoint\n",
        "from keras.layers import CuDNNLSTM, Dropout,Reshape\n",
        "import tensorflow as tf\n",
        "\n",
        "filepath = 'my_best_model.hdf5'\n",
        "\n",
        "callback = tf.keras.callbacks.EarlyStopping(monitor=\"val_loss\",patience=5,restore_best_weights=True)\n",
        "checkpoint = ModelCheckpoint(filepath=filepath, \n",
        "                             monitor='val_loss',\n",
        "                             verbose=1, \n",
        "                             save_best_only=True,\n",
        "                             mode='min')\n",
        "opt = tf.keras.optimizers.Adam(learning_rate=0.01)\n",
        "timesteps = 1\n",
        "vocab_size = 5000\n",
        "input_shape = (vocab_size,)\n",
        "\n",
        "LSTM_onehot = Sequential()\n",
        "LSTM_onehot.add(Dense(units=150, activation='relu', input_shape=input_shape))\n",
        "LSTM_onehot.add(Reshape((1, 150)))\n",
        "LSTM_onehot.add(CuDNNLSTM(150))\n",
        "LSTM_onehot.add(Dropout(0.2))\n",
        "LSTM_onehot.add(Dense(2, activation='softmax'))\n",
        "LSTM_onehot.compile(loss='categorical_crossentropy', optimizer=opt, metrics=['accuracy'])\n",
        "\n",
        "\n",
        "hist = LSTM_onehot.fit(X_train_onehot, y_train, epochs=100, batch_size=32, validation_split=0.2, callbacks=[checkpoint,callback])\n"
      ]
    },
    {
      "cell_type": "code",
      "execution_count": 34,
      "metadata": {
        "id": "6Vs21PQDJHEu",
        "colab": {
          "base_uri": "https://localhost:8080/"
        },
        "outputId": "ea735c01-c804-4428-88be-a45f675908e2"
      },
      "outputs": [
        {
          "output_type": "stream",
          "name": "stdout",
          "text": [
            "800/800 [==============================] - 2s 2ms/step\n"
          ]
        }
      ],
      "source": [
        "y_pred = LSTM_onehot.predict(X_test_onehot)\n"
      ]
    },
    {
      "cell_type": "code",
      "execution_count": 35,
      "metadata": {
        "id": "KLoqsYBKt6fg",
        "colab": {
          "base_uri": "https://localhost:8080/",
          "height": 449
        },
        "outputId": "40014b26-6369-48db-bcf0-976385e3500b"
      },
      "outputs": [
        {
          "output_type": "display_data",
          "data": {
            "text/plain": [
              "<Figure size 640x480 with 2 Axes>"
            ],
            "image/png": "[encoded data removed]"
          },
          "metadata": {}
        }
      ],
      "source": [
        "from sklearn.metrics import confusion_matrix, ConfusionMatrixDisplay\n",
        "import matplotlib.pyplot as plt\n",
        "\n",
        "\n",
        "\n",
        "y_pred_classes = np.argmax(y_pred, axis=1)\n",
        "y_true_classes = np.argmax(y_test, axis=1)\n",
        "conf_mat = confusion_matrix(y_true_classes, y_pred_classes)\n",
        "disp = ConfusionMatrixDisplay(conf_mat, display_labels=['Negative', 'Positive'])\n",
        "disp.plot()\n",
        "plt.show()\n"
      ]
    },
    {
      "cell_type": "code",
      "execution_count": 36,
      "metadata": {
        "id": "Qf7hZuE7JE7o",
        "colab": {
          "base_uri": "https://localhost:8080/"
        },
        "outputId": "6157539a-77b5-421f-cb92-ce79d0f6b39f"
      },
      "outputs": [
        {
          "output_type": "stream",
          "name": "stdout",
          "text": [
            "              precision    recall  f1-score   support\n",
            "\n",
            "    Negative       0.74      0.79      0.76     12851\n",
            "    Positive       0.77      0.72      0.74     12749\n",
            "\n",
            "    accuracy                           0.75     25600\n",
            "   macro avg       0.76      0.75      0.75     25600\n",
            "weighted avg       0.76      0.75      0.75     25600\n",
            "\n"
          ]
        }
      ],
      "source": [
        "from sklearn.metrics import classification_report\n",
        "target_names = [\"Negative\",\"Positive\"]\n",
        "print(classification_report(y_true_classes, y_pred_classes, target_names=target_names))\n",
        "\n"
      ]
    }
  ],
  "metadata": {
    "accelerator": "GPU",
    "colab": {
      "provenance": [],
      "gpuType": "T4",
      "include_colab_link": true
    },
    "gpuClass": "standard",
    "kernelspec": {
      "display_name": "Python 3",
      "name": "python3"
    },
    "language_info": {
      "name": "python"
    }
  },
  "nbformat": 4,
  "nbformat_minor": 0
}