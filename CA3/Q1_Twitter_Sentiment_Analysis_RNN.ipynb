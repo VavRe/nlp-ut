{
  "nbformat": 4,
  "nbformat_minor": 0,
  "metadata": {
    "colab": {
      "provenance": [],
      "gpuType": "T4",
      "include_colab_link": true
    },
    "kernelspec": {
      "name": "python3",
      "display_name": "Python 3"
    },
    "language_info": {
      "name": "python"
    },
    "accelerator": "GPU",
    "gpuClass": "standard"
  },
  "cells": [
    {
      "cell_type": "markdown",
      "metadata": {
        "id": "view-in-github",
        "colab_type": "text"
      },
      "source": [
        "<a href=\"https://colab.research.google.com/github/VavRe/nlp-ut/blob/main/CA3/Q1_Twitter_Sentiment_Analysis_RNN.ipynb\" target=\"_parent\"><img src=\"https://colab.research.google.com/assets/colab-badge.svg\" alt=\"Open In Colab\"/></a>"
      ]
    },
    {
      "cell_type": "code",
      "execution_count": 1,
      "metadata": {
        "id": "fI1zESTpRII0",
        "colab": {
          "base_uri": "https://localhost:8080/"
        },
        "outputId": "ef2a9bb7-1ed5-4b7d-b1b3-b54a44f32772"
      },
      "outputs": [
        {
          "output_type": "stream",
          "name": "stdout",
          "text": [
            "--2023-05-14 19:46:05--  http://cs.stanford.edu/people/alecmgo/trainingandtestdata.zip\n",
            "Resolving cs.stanford.edu (cs.stanford.edu)... 171.64.64.64\n",
            "Connecting to cs.stanford.edu (cs.stanford.edu)|171.64.64.64|:80... connected.\n",
            "HTTP request sent, awaiting response... 301 Moved Permanently\n",
            "Location: https://cs.stanford.edu/people/alecmgo/trainingandtestdata.zip [following]\n",
            "--2023-05-14 19:46:05--  https://cs.stanford.edu/people/alecmgo/trainingandtestdata.zip\n",
            "Connecting to cs.stanford.edu (cs.stanford.edu)|171.64.64.64|:443... connected.\n",
            "HTTP request sent, awaiting response... 200 OK\n",
            "Length: 81363704 (78M) [application/zip]\n",
            "Saving to: ‘trainingandtestdata.zip’\n",
            "\n",
            "trainingandtestdata 100%[===================>]  77.59M  46.0MB/s    in 1.7s    \n",
            "\n",
            "2023-05-14 19:46:07 (46.0 MB/s) - ‘trainingandtestdata.zip’ saved [81363704/81363704]\n",
            "\n",
            "Archive:  trainingandtestdata.zip\n",
            "  inflating: testdata.manual.2009.06.14.csv  \n",
            "  inflating: training.1600000.processed.noemoticon.csv  \n"
          ]
        }
      ],
      "source": [
        "!wget http://cs.stanford.edu/people/alecmgo/trainingandtestdata.zip\n",
        "!unzip trainingandtestdata.zip"
      ]
    },
    {
      "cell_type": "code",
      "source": [
        "from google.colab import drive\n",
        "drive.mount('/content/drive')"
      ],
      "metadata": {
        "id": "vHUJw6dwfe1e",
        "outputId": "aae16935-a3fe-4caa-cae3-af109d51eef6",
        "colab": {
          "base_uri": "https://localhost:8080/"
        }
      },
      "execution_count": 2,
      "outputs": [
        {
          "output_type": "stream",
          "name": "stdout",
          "text": [
            "Mounted at /content/drive\n"
          ]
        }
      ]
    },
    {
      "cell_type": "code",
      "source": [
        "import pandas as pd\n",
        "import numpy as np\n",
        "import tensorflow as tf\n",
        "from keras.preprocessing.text import Tokenizer\n",
        "from keras.utils import pad_sequences\n",
        "from keras.layers import Embedding, LSTM, Dense, Dropout, RNN\n",
        "from keras.models import Sequential\n"
      ],
      "metadata": {
        "id": "OpbvbzUCWEiT"
      },
      "execution_count": 3,
      "outputs": []
    },
    {
      "cell_type": "markdown",
      "source": [
        "#Preprocessing"
      ],
      "metadata": {
        "id": "6BT7iIi9S3_w"
      }
    },
    {
      "cell_type": "code",
      "source": [
        "columns = [\"sentiment\",\"id\",\"datetime\",\"query\",\"user\",\"tweet\"]\n",
        "df = pd.read_csv(\"/content/training.1600000.processed.noemoticon.csv\", encoding=\"latin-1\", names=columns)"
      ],
      "metadata": {
        "id": "DTEMjI9bV3WR"
      },
      "execution_count": 4,
      "outputs": []
    },
    {
      "cell_type": "code",
      "source": [
        "df[\"sentiment\"].value_counts()"
      ],
      "metadata": {
        "colab": {
          "base_uri": "https://localhost:8080/"
        },
        "id": "Sjx0Ut-RX1qg",
        "outputId": "14b50b17-8541-40c9-e2a9-25e682754d55"
      },
      "execution_count": 5,
      "outputs": [
        {
          "output_type": "execute_result",
          "data": {
            "text/plain": [
              "0    800000\n",
              "4    800000\n",
              "Name: sentiment, dtype: int64"
            ]
          },
          "metadata": {},
          "execution_count": 5
        }
      ]
    },
    {
      "cell_type": "code",
      "source": [
        "df = df.loc[:,[\"sentiment\",\"tweet\"]]\n",
        "df"
      ],
      "metadata": {
        "colab": {
          "base_uri": "https://localhost:8080/",
          "height": 424
        },
        "id": "R8dNu3B4eJiy",
        "outputId": "991559be-a5b9-4fe1-c27b-3bc8e99940db"
      },
      "execution_count": 6,
      "outputs": [
        {
          "output_type": "execute_result",
          "data": {
            "text/plain": [
              "         sentiment                                              tweet\n",
              "0                0  @switchfoot http://twitpic.com/2y1zl - Awww, t...\n",
              "1                0  is upset that he can't update his Facebook by ...\n",
              "2                0  @Kenichan I dived many times for the ball. Man...\n",
              "3                0    my whole body feels itchy and like its on fire \n",
              "4                0  @nationwideclass no, it's not behaving at all....\n",
              "...            ...                                                ...\n",
              "1599995          4  Just woke up. Having no school is the best fee...\n",
              "1599996          4  TheWDB.com - Very cool to hear old Walt interv...\n",
              "1599997          4  Are you ready for your MoJo Makeover? Ask me f...\n",
              "1599998          4  Happy 38th Birthday to my boo of alll time!!! ...\n",
              "1599999          4  happy #charitytuesday @theNSPCC @SparksCharity...\n",
              "\n",
              "[1600000 rows x 2 columns]"
            ],
            "text/html": [
              "\n",
              "  <div id=\"df-1e868390-63c2-439d-b1ed-f3f41974d88e\">\n",
              "    <div class=\"colab-df-container\">\n",
              "      <div>\n",
              "<style scoped>\n",
              "    .dataframe tbody tr th:only-of-type {\n",
              "        vertical-align: middle;\n",
              "    }\n",
              "\n",
              "    .dataframe tbody tr th {\n",
              "        vertical-align: top;\n",
              "    }\n",
              "\n",
              "    .dataframe thead th {\n",
              "        text-align: right;\n",
              "    }\n",
              "</style>\n",
              "<table border=\"1\" class=\"dataframe\">\n",
              "  <thead>\n",
              "    <tr style=\"text-align: right;\">\n",
              "      <th></th>\n",
              "      <th>sentiment</th>\n",
              "      <th>tweet</th>\n",
              "    </tr>\n",
              "  </thead>\n",
              "  <tbody>\n",
              "    <tr>\n",
              "      <th>0</th>\n",
              "      <td>0</td>\n",
              "      <td>@switchfoot http://twitpic.com/2y1zl - Awww, t...</td>\n",
              "    </tr>\n",
              "    <tr>\n",
              "      <th>1</th>\n",
              "      <td>0</td>\n",
              "      <td>is upset that he can't update his Facebook by ...</td>\n",
              "    </tr>\n",
              "    <tr>\n",
              "      <th>2</th>\n",
              "      <td>0</td>\n",
              "      <td>@Kenichan I dived many times for the ball. Man...</td>\n",
              "    </tr>\n",
              "    <tr>\n",
              "      <th>3</th>\n",
              "      <td>0</td>\n",
              "      <td>my whole body feels itchy and like its on fire</td>\n",
              "    </tr>\n",
              "    <tr>\n",
              "      <th>4</th>\n",
              "      <td>0</td>\n",
              "      <td>@nationwideclass no, it's not behaving at all....</td>\n",
              "    </tr>\n",
              "    <tr>\n",
              "      <th>...</th>\n",
              "      <td>...</td>\n",
              "      <td>...</td>\n",
              "    </tr>\n",
              "    <tr>\n",
              "      <th>1599995</th>\n",
              "      <td>4</td>\n",
              "      <td>Just woke up. Having no school is the best fee...</td>\n",
              "    </tr>\n",
              "    <tr>\n",
              "      <th>1599996</th>\n",
              "      <td>4</td>\n",
              "      <td>TheWDB.com - Very cool to hear old Walt interv...</td>\n",
              "    </tr>\n",
              "    <tr>\n",
              "      <th>1599997</th>\n",
              "      <td>4</td>\n",
              "      <td>Are you ready for your MoJo Makeover? Ask me f...</td>\n",
              "    </tr>\n",
              "    <tr>\n",
              "      <th>1599998</th>\n",
              "      <td>4</td>\n",
              "      <td>Happy 38th Birthday to my boo of alll time!!! ...</td>\n",
              "    </tr>\n",
              "    <tr>\n",
              "      <th>1599999</th>\n",
              "      <td>4</td>\n",
              "      <td>happy #charitytuesday @theNSPCC @SparksCharity...</td>\n",
              "    </tr>\n",
              "  </tbody>\n",
              "</table>\n",
              "<p>1600000 rows × 2 columns</p>\n",
              "</div>\n",
              "      <button class=\"colab-df-convert\" onclick=\"convertToInteractive('df-1e868390-63c2-439d-b1ed-f3f41974d88e')\"\n",
              "              title=\"Convert this dataframe to an interactive table.\"\n",
              "              style=\"display:none;\">\n",
              "        \n",
              "  <svg xmlns=\"http://www.w3.org/2000/svg\" height=\"24px\"viewBox=\"0 0 24 24\"\n",
              "       width=\"24px\">\n",
              "    <path d=\"M0 0h24v24H0V0z\" fill=\"none\"/>\n",
              "    <path d=\"M18.56 5.44l.94 2.06.94-2.06 2.06-.94-2.06-.94-.94-2.06-.94 2.06-2.06.94zm-11 1L8.5 8.5l.94-2.06 2.06-.94-2.06-.94L8.5 2.5l-.94 2.06-2.06.94zm10 10l.94 2.06.94-2.06 2.06-.94-2.06-.94-.94-2.06-.94 2.06-2.06.94z\"/><path d=\"M17.41 7.96l-1.37-1.37c-.4-.4-.92-.59-1.43-.59-.52 0-1.04.2-1.43.59L10.3 9.45l-7.72 7.72c-.78.78-.78 2.05 0 2.83L4 21.41c.39.39.9.59 1.41.59.51 0 1.02-.2 1.41-.59l7.78-7.78 2.81-2.81c.8-.78.8-2.07 0-2.86zM5.41 20L4 18.59l7.72-7.72 1.47 1.35L5.41 20z\"/>\n",
              "  </svg>\n",
              "      </button>\n",
              "      \n",
              "  <style>\n",
              "    .colab-df-container {\n",
              "      display:flex;\n",
              "      flex-wrap:wrap;\n",
              "      gap: 12px;\n",
              "    }\n",
              "\n",
              "    .colab-df-convert {\n",
              "      background-color: #E8F0FE;\n",
              "      border: none;\n",
              "      border-radius: 50%;\n",
              "      cursor: pointer;\n",
              "      display: none;\n",
              "      fill: #1967D2;\n",
              "      height: 32px;\n",
              "      padding: 0 0 0 0;\n",
              "      width: 32px;\n",
              "    }\n",
              "\n",
              "    .colab-df-convert:hover {\n",
              "      background-color: #E2EBFA;\n",
              "      box-shadow: 0px 1px 2px rgba(60, 64, 67, 0.3), 0px 1px 3px 1px rgba(60, 64, 67, 0.15);\n",
              "      fill: #174EA6;\n",
              "    }\n",
              "\n",
              "    [theme=dark] .colab-df-convert {\n",
              "      background-color: #3B4455;\n",
              "      fill: #D2E3FC;\n",
              "    }\n",
              "\n",
              "    [theme=dark] .colab-df-convert:hover {\n",
              "      background-color: #434B5C;\n",
              "      box-shadow: 0px 1px 3px 1px rgba(0, 0, 0, 0.15);\n",
              "      filter: drop-shadow(0px 1px 2px rgba(0, 0, 0, 0.3));\n",
              "      fill: #FFFFFF;\n",
              "    }\n",
              "  </style>\n",
              "\n",
              "      <script>\n",
              "        const buttonEl =\n",
              "          document.querySelector('#df-1e868390-63c2-439d-b1ed-f3f41974d88e button.colab-df-convert');\n",
              "        buttonEl.style.display =\n",
              "          google.colab.kernel.accessAllowed ? 'block' : 'none';\n",
              "\n",
              "        async function convertToInteractive(key) {\n",
              "          const element = document.querySelector('#df-1e868390-63c2-439d-b1ed-f3f41974d88e');\n",
              "          const dataTable =\n",
              "            await google.colab.kernel.invokeFunction('convertToInteractive',\n",
              "                                                     [key], {});\n",
              "          if (!dataTable) return;\n",
              "\n",
              "          const docLinkHtml = 'Like what you see? Visit the ' +\n",
              "            '<a target=\"_blank\" href=https://colab.research.google.com/notebooks/data_table.ipynb>data table notebook</a>'\n",
              "            + ' to learn more about interactive tables.';\n",
              "          element.innerHTML = '';\n",
              "          dataTable['output_type'] = 'display_data';\n",
              "          await google.colab.output.renderOutput(dataTable, element);\n",
              "          const docLink = document.createElement('div');\n",
              "          docLink.innerHTML = docLinkHtml;\n",
              "          element.appendChild(docLink);\n",
              "        }\n",
              "      </script>\n",
              "    </div>\n",
              "  </div>\n",
              "  "
            ]
          },
          "metadata": {},
          "execution_count": 6
        }
      ]
    },
    {
      "cell_type": "code",
      "source": [
        "from sklearn.model_selection import train_test_split\n",
        "\n",
        "samples_fraction = 0.08\n",
        "stratify_on = \"sentiment\"\n",
        "\n",
        "_, dataset = train_test_split(df, stratify=df[stratify_on], \n",
        "                                 test_size=samples_fraction,\n",
        "                                 random_state=76)\n",
        "\n",
        "# Reset the index of the sampled DataFrame\n",
        "dataset.reset_index(drop=True, inplace=True)\n"
      ],
      "metadata": {
        "id": "yiqqBRMLZlS-"
      },
      "execution_count": 7,
      "outputs": []
    },
    {
      "cell_type": "code",
      "source": [
        "dataset[\"sentiment\"].value_counts()"
      ],
      "metadata": {
        "colab": {
          "base_uri": "https://localhost:8080/"
        },
        "id": "Gmz4HeOLdsBK",
        "outputId": "040ec0df-84dd-4c47-f1e5-6b03232a0243"
      },
      "execution_count": 8,
      "outputs": [
        {
          "output_type": "execute_result",
          "data": {
            "text/plain": [
              "0    64000\n",
              "4    64000\n",
              "Name: sentiment, dtype: int64"
            ]
          },
          "metadata": {},
          "execution_count": 8
        }
      ]
    },
    {
      "cell_type": "code",
      "source": [
        "import re\n",
        "import nltk\n",
        "from nltk.stem import PorterStemmer\n",
        "from nltk.corpus import stopwords\n",
        "from nltk.tokenize import word_tokenize\n",
        "\n",
        "nltk.download('punkt')\n",
        "nltk.download('wordnet')\n",
        "nltk.download('stopwords')\n",
        "\n",
        "stop_words = stopwords.words('english')\n",
        "\n",
        "def preprocess_tweet(tweet, remove_stopwords=True, stem_words=True, handle_negation=True):\n",
        "    # Convert to lowercase\n",
        "    tweet = tweet.lower()\n",
        "    \n",
        "    # Remove URLs, mentions, and hashtags\n",
        "    tweet = re.sub(r\"http\\S+|www\\S+|https\\S+|\\@\\w+|\\#\\w+\", \"\", tweet)\n",
        "    \n",
        "    # Remove punctuation\n",
        "    tweet = re.sub(r'[^\\w\\s]', '', tweet)\n",
        "    \n",
        "    # Remove numbers\n",
        "    tweet = re.sub(r'\\d+', '', tweet)\n",
        "    \n",
        "    # Remove stopwords \n",
        "    if remove_stopwords:\n",
        "        tweet_tokens = tweet.split()\n",
        "        tweet = \" \".join([word for word in tweet_tokens if word not in stop_words])\n",
        "    \n",
        "    # Stem words \n",
        "    if stem_words:\n",
        "        stemmer = PorterStemmer()\n",
        "        tweet_tokens = tweet.split()\n",
        "        tweet = \" \".join([stemmer.stem(word) for word in tweet_tokens])\n",
        "        \n",
        "    # Handle negation \n",
        "    if handle_negation:\n",
        "        tweet_tokens = word_tokenize(tweet)\n",
        "        negation_flag = False\n",
        "        negated_tokens = []\n",
        "        for i, token in enumerate(tweet_tokens):\n",
        "            if token in [\"not\", \"n't\", \"no\"]:\n",
        "                negation_flag = True\n",
        "            elif negation_flag:\n",
        "                negated_tokens.append(\"not_\" + token)\n",
        "                negation_flag = False\n",
        "            else:\n",
        "                negated_tokens.append(token)\n",
        "        tweet = \" \".join(negated_tokens)\n",
        "    \n",
        "    return tweet\n"
      ],
      "metadata": {
        "colab": {
          "base_uri": "https://localhost:8080/"
        },
        "id": "HbpGmQs3sluy",
        "outputId": "0ef149a7-f3a9-4abf-a091-c724dbefebd9"
      },
      "execution_count": 9,
      "outputs": [
        {
          "output_type": "stream",
          "name": "stderr",
          "text": [
            "[nltk_data] Downloading package punkt to /root/nltk_data...\n",
            "[nltk_data]   Unzipping tokenizers/punkt.zip.\n",
            "[nltk_data] Downloading package wordnet to /root/nltk_data...\n",
            "[nltk_data] Downloading package stopwords to /root/nltk_data...\n",
            "[nltk_data]   Unzipping corpora/stopwords.zip.\n"
          ]
        }
      ]
    },
    {
      "cell_type": "code",
      "source": [
        "from tqdm import tqdm\n",
        "tqdm.pandas()\n",
        "\n",
        "\n",
        "dataset[\"tweet\"] = dataset[\"tweet\"].progress_apply(preprocess_tweet)"
      ],
      "metadata": {
        "colab": {
          "base_uri": "https://localhost:8080/"
        },
        "id": "o55eEstft44G",
        "outputId": "3473b9cb-642a-4d26-feed-c76279cb810a"
      },
      "execution_count": 10,
      "outputs": [
        {
          "output_type": "stream",
          "name": "stderr",
          "text": [
            "100%|██████████| 128000/128000 [00:35<00:00, 3573.40it/s]\n"
          ]
        }
      ]
    },
    {
      "cell_type": "code",
      "source": [
        "from keras.utils import to_categorical\n",
        "X = dataset[\"tweet\"]\n",
        "y = dataset[\"sentiment\"]"
      ],
      "metadata": {
        "id": "b1bs0urOkyfX"
      },
      "execution_count": 11,
      "outputs": []
    },
    {
      "cell_type": "code",
      "source": [
        "y = y.replace(4,1)\n",
        "y = y.replace(4,1)"
      ],
      "metadata": {
        "id": "5oOVFfxJWkkV"
      },
      "execution_count": 12,
      "outputs": []
    },
    {
      "cell_type": "code",
      "source": [
        "import gc\n",
        "\n",
        "del df\n",
        "gc.collect() # collect garbage "
      ],
      "metadata": {
        "id": "_SGNl2V2fGGv",
        "outputId": "62646bde-51ff-4546-a90e-9f62854a028e",
        "colab": {
          "base_uri": "https://localhost:8080/"
        }
      },
      "execution_count": 13,
      "outputs": [
        {
          "output_type": "execute_result",
          "data": {
            "text/plain": [
              "0"
            ]
          },
          "metadata": {},
          "execution_count": 13
        }
      ]
    },
    {
      "cell_type": "code",
      "source": [
        "X_train, X_test, y_train, y_test = train_test_split(X, y, test_size=0.2, random_state=76)\n",
        "\n",
        "y_train = to_categorical(y_train, num_classes=2)\n",
        "y_test = to_categorical(y_test, num_classes=2)\n"
      ],
      "metadata": {
        "id": "JrQsMehAfdrS"
      },
      "execution_count": 14,
      "outputs": []
    },
    {
      "cell_type": "code",
      "source": [
        "vocab_size = 15000\n",
        "tokenizer = Tokenizer(num_words=vocab_size)\n",
        "tokenizer.fit_on_texts(X_train)"
      ],
      "metadata": {
        "id": "QUQNR7itm6Oc"
      },
      "execution_count": 15,
      "outputs": []
    },
    {
      "cell_type": "code",
      "source": [
        "X_train_seq = tokenizer.texts_to_sequences(X_train)\n",
        "X_test_seq = tokenizer.texts_to_sequences(X_test)"
      ],
      "metadata": {
        "id": "j2BDoz4M6j3g"
      },
      "execution_count": 16,
      "outputs": []
    },
    {
      "cell_type": "code",
      "source": [
        "# Pad the sequences to a fixed length\n",
        "max_length = 150\n",
        "X_train_pad = pad_sequences(X_train_seq, maxlen=max_length)\n",
        "X_test_pad = pad_sequences(X_test_seq, maxlen=max_length)\n"
      ],
      "metadata": {
        "id": "PKLPxVF17AP4"
      },
      "execution_count": 17,
      "outputs": []
    },
    {
      "cell_type": "markdown",
      "source": [
        "# GloVe RNN"
      ],
      "metadata": {
        "id": "m1v5XpXUStEz"
      }
    },
    {
      "cell_type": "markdown",
      "source": [
        "## Process and Train"
      ],
      "metadata": {
        "id": "rTs3GS0UTz6e"
      }
    },
    {
      "cell_type": "code",
      "source": [
        "!pip install kaggle ;\n",
        "!mkdir ~/.kaggle/ ;\n",
        "!cp /content/drive/MyDrive/kaggle.json ~/.kaggle/ ;\n",
        "!chmod 600 ~/.kaggle/kaggle.json ;\n",
        "!kaggle datasets download -d rtatman/glove-global-vectors-for-word-representation\n",
        "!unzip  /content/glove-global-vectors-for-word-representation.zip"
      ],
      "metadata": {
        "colab": {
          "base_uri": "https://localhost:8080/"
        },
        "id": "GJjBfkDE9NZv",
        "outputId": "f1cca5ac-cb37-4867-c3ed-8627b7ee6649"
      },
      "execution_count": 18,
      "outputs": [
        {
          "output_type": "stream",
          "name": "stdout",
          "text": [
            "Looking in indexes: https://pypi.org/simple, https://us-python.pkg.dev/colab-wheels/public/simple/\n",
            "Requirement already satisfied: kaggle in /usr/local/lib/python3.10/dist-packages (1.5.13)\n",
            "Requirement already satisfied: six>=1.10 in /usr/local/lib/python3.10/dist-packages (from kaggle) (1.16.0)\n",
            "Requirement already satisfied: certifi in /usr/local/lib/python3.10/dist-packages (from kaggle) (2022.12.7)\n",
            "Requirement already satisfied: python-dateutil in /usr/local/lib/python3.10/dist-packages (from kaggle) (2.8.2)\n",
            "Requirement already satisfied: requests in /usr/local/lib/python3.10/dist-packages (from kaggle) (2.27.1)\n",
            "Requirement already satisfied: tqdm in /usr/local/lib/python3.10/dist-packages (from kaggle) (4.65.0)\n",
            "Requirement already satisfied: python-slugify in /usr/local/lib/python3.10/dist-packages (from kaggle) (8.0.1)\n",
            "Requirement already satisfied: urllib3 in /usr/local/lib/python3.10/dist-packages (from kaggle) (1.26.15)\n",
            "Requirement already satisfied: text-unidecode>=1.3 in /usr/local/lib/python3.10/dist-packages (from python-slugify->kaggle) (1.3)\n",
            "Requirement already satisfied: charset-normalizer~=2.0.0 in /usr/local/lib/python3.10/dist-packages (from requests->kaggle) (2.0.12)\n",
            "Requirement already satisfied: idna<4,>=2.5 in /usr/local/lib/python3.10/dist-packages (from requests->kaggle) (3.4)\n",
            "Downloading glove-global-vectors-for-word-representation.zip to /content\n",
            " 96% 441M/458M [00:02<00:00, 180MB/s]\n",
            "100% 458M/458M [00:03<00:00, 127MB/s]\n",
            "Archive:  /content/glove-global-vectors-for-word-representation.zip\n",
            "  inflating: glove.6B.100d.txt       \n",
            "  inflating: glove.6B.200d.txt       \n",
            "  inflating: glove.6B.50d.txt        \n"
          ]
        }
      ]
    },
    {
      "cell_type": "code",
      "source": [
        "# # Use one-hot vectors for one option\n",
        "# X_train_onehot = tokenizer.sequences_to_matrix(X_train_seq, mode='binary')\n",
        "# X_test_onehot = tokenizer.sequences_to_matrix(X_test_seq, mode='binary')\n",
        "\n",
        "# Use GloVe embeddings for another option\n",
        "glove_embeddings_index = {}\n",
        "with open('glove.6B.200d.txt') as f:\n",
        "    for line in f:\n",
        "        values = line.split()\n",
        "        word = values[0]\n",
        "        coefs = np.asarray(values[1:], dtype='float32')\n",
        "        glove_embeddings_index[word] = coefs\n",
        "embedding_dim = 200\n",
        "glove_embedding_matrix = np.zeros((vocab_size, embedding_dim))\n",
        "for word, i in tokenizer.word_index.items():\n",
        "    if i >= vocab_size:\n",
        "        break\n",
        "    embedding_vector = glove_embeddings_index.get(word)\n",
        "    if embedding_vector is not None:\n",
        "        glove_embedding_matrix[i] = embedding_vector\n"
      ],
      "metadata": {
        "id": "H7g5llbf6MSY"
      },
      "execution_count": 19,
      "outputs": []
    },
    {
      "cell_type": "code",
      "source": [
        "from keras.callbacks import ModelCheckpoint\n",
        "from keras.layers import CuDNNLSTM, Dropout,SimpleRNN\n",
        "\n",
        "filepath = 'my_best_model.hdf5'\n",
        "\n",
        "callback = tf.keras.callbacks.EarlyStopping(monitor=\"val_loss\",patience=5,restore_best_weights=True)\n",
        "checkpoint = ModelCheckpoint(filepath=filepath, \n",
        "                             monitor='val_loss',\n",
        "                             verbose=1, \n",
        "                             save_best_only=True,\n",
        "                             mode='min')\n",
        "opt = tf.keras.optimizers.Adam(learning_rate=0.01)\n",
        "\n",
        "\n",
        "RNN_glove = Sequential()\n",
        "RNN_glove.add(Embedding(vocab_size, embedding_dim, input_length=max_length, weights=[glove_embedding_matrix], trainable=False))\n",
        "RNN_glove.add(SimpleRNN(128))\n",
        "RNN_glove.add(Dropout(0.2))\n",
        "RNN_glove.add(Dense(2, activation='softmax'))\n",
        "RNN_glove.compile(loss='categorical_crossentropy', optimizer=opt, metrics=['accuracy'])\n",
        "\n",
        "\n",
        "hist = RNN_glove.fit(X_train_pad, y_train, epochs=100, batch_size=256, validation_split=0.2, callbacks=[checkpoint,callback])\n"
      ],
      "metadata": {
        "id": "qWVr4ep6-Y4z",
        "outputId": "56e8a4b9-47ad-4b37-bfa6-aad44aaf3f7d",
        "colab": {
          "base_uri": "https://localhost:8080/"
        }
      },
      "execution_count": 20,
      "outputs": [
        {
          "output_type": "stream",
          "name": "stdout",
          "text": [
            "Epoch 1/100\n",
            "320/320 [==============================] - ETA: 0s - loss: 0.6334 - accuracy: 0.6485\n",
            "Epoch 1: val_loss improved from inf to 0.60092, saving model to my_best_model.hdf5\n",
            "320/320 [==============================] - 46s 120ms/step - loss: 0.6334 - accuracy: 0.6485 - val_loss: 0.6009 - val_accuracy: 0.6866\n",
            "Epoch 2/100\n",
            "320/320 [==============================] - ETA: 0s - loss: 0.5796 - accuracy: 0.6963\n",
            "Epoch 2: val_loss improved from 0.60092 to 0.56346, saving model to my_best_model.hdf5\n",
            "320/320 [==============================] - 26s 81ms/step - loss: 0.5796 - accuracy: 0.6963 - val_loss: 0.5635 - val_accuracy: 0.7084\n",
            "Epoch 3/100\n",
            "320/320 [==============================] - ETA: 0s - loss: 0.5724 - accuracy: 0.7035\n",
            "Epoch 3: val_loss did not improve from 0.56346\n",
            "320/320 [==============================] - 26s 81ms/step - loss: 0.5724 - accuracy: 0.7035 - val_loss: 0.5706 - val_accuracy: 0.6954\n",
            "Epoch 4/100\n",
            "320/320 [==============================] - ETA: 0s - loss: 0.6179 - accuracy: 0.6619\n",
            "Epoch 4: val_loss did not improve from 0.56346\n",
            "320/320 [==============================] - 26s 82ms/step - loss: 0.6179 - accuracy: 0.6619 - val_loss: 0.6017 - val_accuracy: 0.6723\n",
            "Epoch 5/100\n",
            "320/320 [==============================] - ETA: 0s - loss: 0.5968 - accuracy: 0.6795\n",
            "Epoch 5: val_loss did not improve from 0.56346\n",
            "320/320 [==============================] - 27s 86ms/step - loss: 0.5968 - accuracy: 0.6795 - val_loss: 0.5735 - val_accuracy: 0.7005\n",
            "Epoch 6/100\n",
            "320/320 [==============================] - ETA: 0s - loss: 0.5688 - accuracy: 0.7064\n",
            "Epoch 6: val_loss improved from 0.56346 to 0.55991, saving model to my_best_model.hdf5\n",
            "320/320 [==============================] - 25s 79ms/step - loss: 0.5688 - accuracy: 0.7064 - val_loss: 0.5599 - val_accuracy: 0.7150\n",
            "Epoch 7/100\n",
            "320/320 [==============================] - ETA: 0s - loss: 0.5616 - accuracy: 0.7129\n",
            "Epoch 7: val_loss did not improve from 0.55991\n",
            "320/320 [==============================] - 25s 79ms/step - loss: 0.5616 - accuracy: 0.7129 - val_loss: 0.5915 - val_accuracy: 0.6996\n",
            "Epoch 8/100\n",
            "320/320 [==============================] - ETA: 0s - loss: 0.5646 - accuracy: 0.7088\n",
            "Epoch 8: val_loss improved from 0.55991 to 0.55039, saving model to my_best_model.hdf5\n",
            "320/320 [==============================] - 27s 83ms/step - loss: 0.5646 - accuracy: 0.7088 - val_loss: 0.5504 - val_accuracy: 0.7191\n",
            "Epoch 9/100\n",
            "320/320 [==============================] - ETA: 0s - loss: 0.6580 - accuracy: 0.6180\n",
            "Epoch 9: val_loss did not improve from 0.55039\n",
            "320/320 [==============================] - 27s 84ms/step - loss: 0.6580 - accuracy: 0.6180 - val_loss: 0.6011 - val_accuracy: 0.6798\n",
            "Epoch 10/100\n",
            "320/320 [==============================] - ETA: 0s - loss: 0.5984 - accuracy: 0.6830\n",
            "Epoch 10: val_loss did not improve from 0.55039\n",
            "320/320 [==============================] - 27s 84ms/step - loss: 0.5984 - accuracy: 0.6830 - val_loss: 0.5844 - val_accuracy: 0.6957\n",
            "Epoch 11/100\n",
            "320/320 [==============================] - ETA: 0s - loss: 0.5843 - accuracy: 0.6962\n",
            "Epoch 11: val_loss did not improve from 0.55039\n",
            "320/320 [==============================] - 27s 83ms/step - loss: 0.5843 - accuracy: 0.6962 - val_loss: 0.5727 - val_accuracy: 0.7056\n",
            "Epoch 12/100\n",
            "320/320 [==============================] - ETA: 0s - loss: 0.5766 - accuracy: 0.7031\n",
            "Epoch 12: val_loss did not improve from 0.55039\n",
            "320/320 [==============================] - 27s 83ms/step - loss: 0.5766 - accuracy: 0.7031 - val_loss: 0.5699 - val_accuracy: 0.7085\n",
            "Epoch 13/100\n",
            "320/320 [==============================] - ETA: 0s - loss: 0.5746 - accuracy: 0.7062\n",
            "Epoch 13: val_loss did not improve from 0.55039\n",
            "320/320 [==============================] - 27s 83ms/step - loss: 0.5746 - accuracy: 0.7062 - val_loss: 0.5818 - val_accuracy: 0.6956\n"
          ]
        }
      ]
    },
    {
      "cell_type": "markdown",
      "source": [
        "## Results"
      ],
      "metadata": {
        "id": "XA43rbnBTwaW"
      }
    },
    {
      "cell_type": "code",
      "source": [
        "y_pred = RNN_glove.predict(X_test_pad)"
      ],
      "metadata": {
        "id": "8kDS-oQkpWnp",
        "outputId": "58c962de-23fc-4517-9548-ca932181f159",
        "colab": {
          "base_uri": "https://localhost:8080/"
        }
      },
      "execution_count": 21,
      "outputs": [
        {
          "output_type": "stream",
          "name": "stdout",
          "text": [
            "800/800 [==============================] - 12s 15ms/step\n"
          ]
        }
      ]
    },
    {
      "cell_type": "code",
      "source": [
        "from sklearn.metrics import confusion_matrix, ConfusionMatrixDisplay\n",
        "import matplotlib.pyplot as plt\n",
        "\n",
        "\n",
        "\n",
        "y_pred_classes = np.argmax(y_pred, axis=1)\n",
        "y_true_classes = np.argmax(y_test, axis=1)\n",
        "conf_mat = confusion_matrix(y_true_classes, y_pred_classes)\n",
        "disp = ConfusionMatrixDisplay(conf_mat, display_labels=['Negative', 'Positive'])\n",
        "disp.plot()\n",
        "plt.show()\n"
      ],
      "metadata": {
        "id": "jhdpH5mAp7mN",
        "outputId": "7d8931f4-0286-4fb3-b521-ed4e3e84bb18",
        "colab": {
          "base_uri": "https://localhost:8080/",
          "height": 449
        }
      },
      "execution_count": 22,
      "outputs": [
        {
          "output_type": "display_data",
          "data": {
            "text/plain": [
              "<Figure size 640x480 with 2 Axes>"
            ],
            "image/png": "[encoded data removed]"
          },
          "metadata": {}
        }
      ]
    },
    {
      "cell_type": "code",
      "source": [
        "from sklearn.metrics import classification_report\n",
        "target_names = [\"Negative\",\"Positive\"]\n",
        "print(classification_report(y_true_classes, y_pred_classes, target_names=target_names))\n"
      ],
      "metadata": {
        "id": "dojnIvNCrPhG",
        "outputId": "bf4f3296-5e5f-4823-d813-e020b33bdada",
        "colab": {
          "base_uri": "https://localhost:8080/"
        }
      },
      "execution_count": 23,
      "outputs": [
        {
          "output_type": "stream",
          "name": "stdout",
          "text": [
            "              precision    recall  f1-score   support\n",
            "\n",
            "    Negative       0.71      0.75      0.73     12851\n",
            "    Positive       0.73      0.70      0.72     12749\n",
            "\n",
            "    accuracy                           0.72     25600\n",
            "   macro avg       0.72      0.72      0.72     25600\n",
            "weighted avg       0.72      0.72      0.72     25600\n",
            "\n"
          ]
        }
      ]
    },
    {
      "cell_type": "markdown",
      "source": [
        "# Word2Vec RNN"
      ],
      "metadata": {
        "id": "32W-iBeMAJTn"
      }
    },
    {
      "cell_type": "markdown",
      "source": [
        "## Process and Train"
      ],
      "metadata": {
        "id": "yVocKf1sTr6n"
      }
    },
    {
      "cell_type": "code",
      "source": [
        "tqdm.pandas()\n",
        "dataset[\"tokenized\"] = dataset[\"tweet\"].progress_apply(word_tokenize)"
      ],
      "metadata": {
        "id": "otj-XhfY3mCe",
        "outputId": "a1486003-e0b8-4312-dc97-c5026b806b58",
        "colab": {
          "base_uri": "https://localhost:8080/"
        }
      },
      "execution_count": 24,
      "outputs": [
        {
          "output_type": "stream",
          "name": "stderr",
          "text": [
            "100%|██████████| 128000/128000 [00:11<00:00, 10739.63it/s]\n"
          ]
        }
      ]
    },
    {
      "cell_type": "code",
      "source": [
        "dataset[\"tokenized\"]"
      ],
      "metadata": {
        "id": "emOZhFK2_dj_",
        "outputId": "e3e64433-dc24-4415-9bb9-5594b65e9402",
        "colab": {
          "base_uri": "https://localhost:8080/"
        }
      },
      "execution_count": 25,
      "outputs": [
        {
          "output_type": "execute_result",
          "data": {
            "text/plain": [
              "0                                              [woke, work]\n",
              "1           [feel, like, im, person, world, work, saturday]\n",
              "2         [ill, call, u, want, tell, twitter, mi, biz, lol]\n",
              "3         [need, get, comic, final, get, back, printer, ...\n",
              "4         [think, coz, ask, late, lol, like, fair, argum...\n",
              "                                ...                        \n",
              "127995    [omg, slip, stair, hous, hurt, im, even, drunk...\n",
              "127996    [someon, pleas, open, decent, cafe, trawalla, ...\n",
              "127997                              [comput, problem, byte]\n",
              "127998    [surround, shiraz, univers, took, student, kno...\n",
              "127999    [lot, agenda, today, studi, blog, updat, featu...\n",
              "Name: tokenized, Length: 128000, dtype: object"
            ]
          },
          "metadata": {},
          "execution_count": 25
        }
      ]
    },
    {
      "cell_type": "code",
      "source": [
        "import gensim\n",
        "from gensim.models import Word2Vec\n",
        "\n",
        "\n",
        "w2v_model = Word2Vec(dataset[\"tokenized\"].to_numpy(), vector_size=embedding_dim, window=5, min_count=1, workers=4)\n"
      ],
      "metadata": {
        "id": "Kj3nFlNR_Sng"
      },
      "execution_count": 26,
      "outputs": []
    },
    {
      "cell_type": "code",
      "source": [
        "w2v_embedding_matrix = np.zeros((vocab_size, embedding_dim))\n",
        "for word, i in tokenizer.word_index.items():\n",
        "    if i >= vocab_size:\n",
        "        break\n",
        "    try: \n",
        "        embedding_vector = w2v_model.wv.get_vector(word)\n",
        "    except KeyError:\n",
        "        print(f\"the word {word} is not available\")\n",
        "    if embedding_vector is not None:\n",
        "        w2v_embedding_matrix[i] = embedding_vector\n"
      ],
      "metadata": {
        "id": "6RFQltnPBcw1",
        "outputId": "50c00fac-9758-4d6d-f36c-1a58e973faf5",
        "colab": {
          "base_uri": "https://localhost:8080/"
        }
      },
      "execution_count": 27,
      "outputs": [
        {
          "output_type": "stream",
          "name": "stdout",
          "text": [
            "the word not is not available\n",
            "the word o is not available\n",
            "the word t is not available\n",
            "the word the is not available\n",
            "the word s is not available\n"
          ]
        }
      ]
    },
    {
      "cell_type": "code",
      "source": [
        "filepath = 'my_best_model.hdf5'\n",
        "\n",
        "callback = tf.keras.callbacks.EarlyStopping(monitor=\"val_loss\",patience=5,restore_best_weights=True)\n",
        "checkpoint = ModelCheckpoint(filepath=filepath, \n",
        "                             monitor='val_loss',\n",
        "                             verbose=1, \n",
        "                             save_best_only=True,\n",
        "                             mode='min')\n",
        "opt = tf.keras.optimizers.Adam(learning_rate=0.01)\n",
        "\n",
        "\n",
        "RNN_w2v = Sequential()\n",
        "RNN_w2v.add(Embedding(vocab_size, embedding_dim, input_length=max_length, weights=[w2v_embedding_matrix], trainable=False))\n",
        "RNN_w2v.add(SimpleRNN(128))\n",
        "RNN_w2v.add(Dropout(0.2))\n",
        "RNN_w2v.add(Dense(2, activation='softmax'))\n",
        "RNN_w2v.compile(loss='categorical_crossentropy', optimizer=opt, metrics=['accuracy'])\n",
        "\n",
        "\n",
        "hist = RNN_w2v.fit(X_train_pad, y_train, epochs=100, batch_size=256, validation_split=0.2, callbacks=[checkpoint,callback])\n"
      ],
      "metadata": {
        "id": "3qlBKa-xBnqc",
        "outputId": "afcab9f9-48f0-4477-c61d-88149d7ae168",
        "colab": {
          "base_uri": "https://localhost:8080/"
        }
      },
      "execution_count": 28,
      "outputs": [
        {
          "output_type": "stream",
          "name": "stdout",
          "text": [
            "Epoch 1/100\n",
            "320/320 [==============================] - ETA: 0s - loss: 0.6301 - accuracy: 0.6602\n",
            "Epoch 1: val_loss improved from inf to 0.57560, saving model to my_best_model.hdf5\n",
            "320/320 [==============================] - 33s 97ms/step - loss: 0.6301 - accuracy: 0.6602 - val_loss: 0.5756 - val_accuracy: 0.6999\n",
            "Epoch 2/100\n",
            "320/320 [==============================] - ETA: 0s - loss: 0.6092 - accuracy: 0.6673\n",
            "Epoch 2: val_loss improved from 0.57560 to 0.57290, saving model to my_best_model.hdf5\n",
            "320/320 [==============================] - 27s 85ms/step - loss: 0.6092 - accuracy: 0.6673 - val_loss: 0.5729 - val_accuracy: 0.7074\n",
            "Epoch 3/100\n",
            "320/320 [==============================] - ETA: 0s - loss: 0.5767 - accuracy: 0.7051\n",
            "Epoch 3: val_loss improved from 0.57290 to 0.55838, saving model to my_best_model.hdf5\n",
            "320/320 [==============================] - 27s 85ms/step - loss: 0.5767 - accuracy: 0.7051 - val_loss: 0.5584 - val_accuracy: 0.7230\n",
            "Epoch 4/100\n",
            "320/320 [==============================] - ETA: 0s - loss: 0.5629 - accuracy: 0.7149\n",
            "Epoch 4: val_loss improved from 0.55838 to 0.55297, saving model to my_best_model.hdf5\n",
            "320/320 [==============================] - 28s 87ms/step - loss: 0.5629 - accuracy: 0.7149 - val_loss: 0.5530 - val_accuracy: 0.7248\n",
            "Epoch 5/100\n",
            "320/320 [==============================] - ETA: 0s - loss: 0.5615 - accuracy: 0.7128\n",
            "Epoch 5: val_loss improved from 0.55297 to 0.54505, saving model to my_best_model.hdf5\n",
            "320/320 [==============================] - 28s 86ms/step - loss: 0.5615 - accuracy: 0.7128 - val_loss: 0.5451 - val_accuracy: 0.7206\n",
            "Epoch 6/100\n",
            "320/320 [==============================] - ETA: 0s - loss: 0.5564 - accuracy: 0.7191\n",
            "Epoch 6: val_loss did not improve from 0.54505\n",
            "320/320 [==============================] - 28s 87ms/step - loss: 0.5564 - accuracy: 0.7191 - val_loss: 0.5695 - val_accuracy: 0.7133\n",
            "Epoch 7/100\n",
            "320/320 [==============================] - ETA: 0s - loss: 0.5521 - accuracy: 0.7223\n",
            "Epoch 7: val_loss improved from 0.54505 to 0.53715, saving model to my_best_model.hdf5\n",
            "320/320 [==============================] - 28s 87ms/step - loss: 0.5521 - accuracy: 0.7223 - val_loss: 0.5372 - val_accuracy: 0.7304\n",
            "Epoch 8/100\n",
            "320/320 [==============================] - ETA: 0s - loss: 0.5534 - accuracy: 0.7200\n",
            "Epoch 8: val_loss improved from 0.53715 to 0.53596, saving model to my_best_model.hdf5\n",
            "320/320 [==============================] - 28s 88ms/step - loss: 0.5534 - accuracy: 0.7200 - val_loss: 0.5360 - val_accuracy: 0.7366\n",
            "Epoch 9/100\n",
            "320/320 [==============================] - ETA: 0s - loss: 0.5492 - accuracy: 0.7233\n",
            "Epoch 9: val_loss did not improve from 0.53596\n",
            "320/320 [==============================] - 27s 86ms/step - loss: 0.5492 - accuracy: 0.7233 - val_loss: 0.5510 - val_accuracy: 0.7224\n",
            "Epoch 10/100\n",
            "320/320 [==============================] - ETA: 0s - loss: 0.5469 - accuracy: 0.7242\n",
            "Epoch 10: val_loss improved from 0.53596 to 0.53343, saving model to my_best_model.hdf5\n",
            "320/320 [==============================] - 27s 86ms/step - loss: 0.5469 - accuracy: 0.7242 - val_loss: 0.5334 - val_accuracy: 0.7330\n",
            "Epoch 11/100\n",
            "320/320 [==============================] - ETA: 0s - loss: 0.5482 - accuracy: 0.7230\n",
            "Epoch 11: val_loss did not improve from 0.53343\n",
            "320/320 [==============================] - 28s 89ms/step - loss: 0.5482 - accuracy: 0.7230 - val_loss: 0.5345 - val_accuracy: 0.7308\n",
            "Epoch 12/100\n",
            "320/320 [==============================] - ETA: 0s - loss: 0.5464 - accuracy: 0.7242\n",
            "Epoch 12: val_loss did not improve from 0.53343\n",
            "320/320 [==============================] - 27s 85ms/step - loss: 0.5464 - accuracy: 0.7242 - val_loss: 0.5474 - val_accuracy: 0.7168\n",
            "Epoch 13/100\n",
            "320/320 [==============================] - ETA: 0s - loss: 0.5504 - accuracy: 0.7218\n",
            "Epoch 13: val_loss did not improve from 0.53343\n",
            "320/320 [==============================] - 28s 86ms/step - loss: 0.5504 - accuracy: 0.7218 - val_loss: 0.5407 - val_accuracy: 0.7253\n",
            "Epoch 14/100\n",
            "320/320 [==============================] - ETA: 0s - loss: 0.5475 - accuracy: 0.7230\n",
            "Epoch 14: val_loss did not improve from 0.53343\n",
            "320/320 [==============================] - 28s 86ms/step - loss: 0.5475 - accuracy: 0.7230 - val_loss: 0.5410 - val_accuracy: 0.7265\n",
            "Epoch 15/100\n",
            "320/320 [==============================] - ETA: 0s - loss: 0.5482 - accuracy: 0.7225\n",
            "Epoch 15: val_loss did not improve from 0.53343\n",
            "320/320 [==============================] - 27s 86ms/step - loss: 0.5482 - accuracy: 0.7225 - val_loss: 0.5419 - val_accuracy: 0.7255\n"
          ]
        }
      ]
    },
    {
      "cell_type": "code",
      "source": [
        "y_pred = RNN_w2v.predict(X_test_pad)"
      ],
      "metadata": {
        "id": "h1OWi4qMIP8X",
        "outputId": "c6791eaf-4db6-4a3e-ce9f-e32fef2241e8",
        "colab": {
          "base_uri": "https://localhost:8080/"
        }
      },
      "execution_count": 29,
      "outputs": [
        {
          "output_type": "stream",
          "name": "stdout",
          "text": [
            "800/800 [==============================] - 12s 15ms/step\n"
          ]
        }
      ]
    },
    {
      "cell_type": "markdown",
      "source": [
        "## Results"
      ],
      "metadata": {
        "id": "6ls4J6RkTl8d"
      }
    },
    {
      "cell_type": "code",
      "source": [
        "from sklearn.metrics import confusion_matrix, ConfusionMatrixDisplay\n",
        "import matplotlib.pyplot as plt\n",
        "\n",
        "\n",
        "\n",
        "y_pred_classes = np.argmax(y_pred, axis=1)\n",
        "y_true_classes = np.argmax(y_test, axis=1)\n",
        "conf_mat = confusion_matrix(y_true_classes, y_pred_classes)\n",
        "disp = ConfusionMatrixDisplay(conf_mat, display_labels=['Negative', 'Positive'])\n",
        "disp.plot()\n",
        "plt.show()\n"
      ],
      "metadata": {
        "id": "qKFpu32dISS5",
        "outputId": "7b7b1045-d07f-47e8-a8ec-73c8e9279dd8",
        "colab": {
          "base_uri": "https://localhost:8080/",
          "height": 451
        }
      },
      "execution_count": 30,
      "outputs": [
        {
          "output_type": "display_data",
          "data": {
            "text/plain": [
              "<Figure size 640x480 with 2 Axes>"
            ],
            "image/png": "[encoded data removed]"
          },
          "metadata": {}
        }
      ]
    },
    {
      "cell_type": "code",
      "source": [
        "from sklearn.metrics import classification_report\n",
        "target_names = [\"Negative\",\"Positive\"]\n",
        "print(classification_report(y_true_classes, y_pred_classes, target_names=target_names))\n"
      ],
      "metadata": {
        "id": "rqRTUJJNIVXj",
        "outputId": "24251d2c-9e2b-4fff-db10-52f2ea92e1d0",
        "colab": {
          "base_uri": "https://localhost:8080/"
        }
      },
      "execution_count": 31,
      "outputs": [
        {
          "output_type": "stream",
          "name": "stdout",
          "text": [
            "              precision    recall  f1-score   support\n",
            "\n",
            "    Negative       0.72      0.78      0.75     12851\n",
            "    Positive       0.76      0.69      0.72     12749\n",
            "\n",
            "    accuracy                           0.74     25600\n",
            "   macro avg       0.74      0.74      0.74     25600\n",
            "weighted avg       0.74      0.74      0.74     25600\n",
            "\n"
          ]
        }
      ]
    },
    {
      "cell_type": "markdown",
      "source": [
        "#One-Hot RNN"
      ],
      "metadata": {
        "id": "DpOi0BtBSA9M"
      }
    },
    {
      "cell_type": "markdown",
      "source": [
        "## Process and Train"
      ],
      "metadata": {
        "id": "vPsN6e7hT7QP"
      }
    },
    {
      "cell_type": "code",
      "source": [
        "from sklearn.feature_extraction.text import CountVectorizer\n",
        "\n",
        "# Define a sample text data\n",
        "\n",
        "# Initialize the CountVectorizer\n",
        "vectorizer = CountVectorizer(binary=True, max_features=5000 )\n",
        "\n",
        "# Fit the vectorizer to the text data\n",
        "vectorizer.fit(X_train)\n",
        "\n",
        "# # Transform the text data into a one-hot encoded matrix\n",
        "X_train_onehot = vectorizer.transform(X_train).toarray()\n",
        "X_test_onehot = vectorizer.transform(X_test).toarray()\n",
        "\n",
        "# Print the one-hot encoded data\n",
        "# type(X_train_onehot)"
      ],
      "metadata": {
        "id": "Sbhsxu5gSUew"
      },
      "execution_count": 32,
      "outputs": []
    },
    {
      "cell_type": "code",
      "source": [
        "from keras.callbacks import ModelCheckpoint\n",
        "from keras.layers import CuDNNLSTM, Dropout,SimpleRNN,Reshape\n",
        "import tensorflow as tf\n",
        "\n",
        "filepath = 'my_best_model.hdf5'\n",
        "\n",
        "callback = tf.keras.callbacks.EarlyStopping(monitor=\"val_loss\",patience=5,restore_best_weights=True)\n",
        "checkpoint = ModelCheckpoint(filepath=filepath, \n",
        "                             monitor='val_loss',\n",
        "                             verbose=1, \n",
        "                             save_best_only=True,\n",
        "                             mode='min')\n",
        "opt = tf.keras.optimizers.Adam(learning_rate=0.01)\n",
        "timesteps = 1\n",
        "vocab_size = 5000\n",
        "input_shape = (vocab_size,)\n",
        "\n",
        "RNN_onehot = Sequential()\n",
        "RNN_onehot.add(Dense(units=150, activation='relu', input_shape=input_shape))\n",
        "RNN_onehot.add(Reshape((1, 150)))\n",
        "RNN_onehot.add(SimpleRNN(150))\n",
        "RNN_onehot.add(Dropout(0.2))\n",
        "RNN_onehot.add(Dense(2, activation='softmax'))\n",
        "RNN_onehot.compile(loss='categorical_crossentropy', optimizer=opt, metrics=['accuracy'])\n",
        "\n",
        "\n",
        "# X_train = X_train.to_numpy().reshape((X_train.shape[0], timesteps, vocab_size))\n",
        "hist = RNN_onehot.fit(X_train_onehot, y_train, epochs=100, batch_size=32, validation_split=0.2, callbacks=[checkpoint,callback])\n"
      ],
      "metadata": {
        "id": "5Yyd5mCXt4Q5",
        "outputId": "0d5fad0a-e58a-4514-fb78-3ccba824c982",
        "colab": {
          "base_uri": "https://localhost:8080/"
        }
      },
      "execution_count": 33,
      "outputs": [
        {
          "output_type": "stream",
          "name": "stdout",
          "text": [
            "Epoch 1/100\n",
            "2553/2560 [============================>.] - ETA: 0s - loss: 0.5649 - accuracy: 0.7229\n",
            "Epoch 1: val_loss improved from inf to 0.55810, saving model to my_best_model.hdf5\n",
            "2560/2560 [==============================] - 19s 7ms/step - loss: 0.5647 - accuracy: 0.7231 - val_loss: 0.5581 - val_accuracy: 0.7437\n",
            "Epoch 2/100\n",
            "2555/2560 [============================>.] - ETA: 0s - loss: 0.4864 - accuracy: 0.7793\n",
            "Epoch 2: val_loss improved from 0.55810 to 0.55027, saving model to my_best_model.hdf5\n",
            "2560/2560 [==============================] - 15s 6ms/step - loss: 0.4865 - accuracy: 0.7792 - val_loss: 0.5503 - val_accuracy: 0.7287\n",
            "Epoch 3/100\n",
            "2559/2560 [============================>.] - ETA: 0s - loss: 0.4001 - accuracy: 0.8300\n",
            "Epoch 3: val_loss did not improve from 0.55027\n",
            "2560/2560 [==============================] - 15s 6ms/step - loss: 0.4000 - accuracy: 0.8300 - val_loss: 0.6556 - val_accuracy: 0.7396\n",
            "Epoch 4/100\n",
            "2557/2560 [============================>.] - ETA: 0s - loss: 0.3101 - accuracy: 0.8764\n",
            "Epoch 4: val_loss did not improve from 0.55027\n",
            "2560/2560 [==============================] - 15s 6ms/step - loss: 0.3103 - accuracy: 0.8764 - val_loss: 0.6080 - val_accuracy: 0.7191\n",
            "Epoch 5/100\n",
            "2554/2560 [============================>.] - ETA: 0s - loss: 0.2346 - accuracy: 0.9108\n",
            "Epoch 5: val_loss did not improve from 0.55027\n",
            "2560/2560 [==============================] - 15s 6ms/step - loss: 0.2347 - accuracy: 0.9108 - val_loss: 0.7482 - val_accuracy: 0.7252\n",
            "Epoch 6/100\n",
            "2554/2560 [============================>.] - ETA: 0s - loss: 0.1771 - accuracy: 0.9343\n",
            "Epoch 6: val_loss did not improve from 0.55027\n",
            "2560/2560 [==============================] - 14s 6ms/step - loss: 0.1772 - accuracy: 0.9343 - val_loss: 0.8756 - val_accuracy: 0.7169\n",
            "Epoch 7/100\n",
            "2556/2560 [============================>.] - ETA: 0s - loss: 0.1404 - accuracy: 0.9481\n",
            "Epoch 7: val_loss did not improve from 0.55027\n",
            "2560/2560 [==============================] - 16s 6ms/step - loss: 0.1404 - accuracy: 0.9481 - val_loss: 1.1109 - val_accuracy: 0.7208\n"
          ]
        }
      ]
    },
    {
      "cell_type": "code",
      "source": [
        "y_pred = RNN_onehot.predict(X_test_onehot)"
      ],
      "metadata": {
        "id": "KLoqsYBKt6fg",
        "outputId": "29381ba3-70e3-4a45-eb25-556e4bb46712",
        "colab": {
          "base_uri": "https://localhost:8080/"
        }
      },
      "execution_count": 37,
      "outputs": [
        {
          "output_type": "stream",
          "name": "stdout",
          "text": [
            "800/800 [==============================] - 2s 2ms/step\n"
          ]
        }
      ]
    },
    {
      "cell_type": "code",
      "source": [
        "\n",
        "from sklearn.metrics import confusion_matrix, ConfusionMatrixDisplay\n",
        "import matplotlib.pyplot as plt\n",
        "\n",
        "\n",
        "y_pred_classes = np.argmax(y_pred, axis=1)\n",
        "y_true_classes = np.argmax(y_test, axis=1)\n",
        "conf_mat = confusion_matrix(y_true_classes, y_pred_classes)\n",
        "disp = ConfusionMatrixDisplay(conf_mat, display_labels=['Negative', 'Positive'])\n",
        "disp.plot()\n",
        "plt.show()\n"
      ],
      "metadata": {
        "id": "MYAktRjJpn6X",
        "outputId": "edef7b33-3308-445a-a8ce-56927afb3121",
        "colab": {
          "base_uri": "https://localhost:8080/",
          "height": 449
        }
      },
      "execution_count": 40,
      "outputs": [
        {
          "output_type": "display_data",
          "data": {
            "text/plain": [
              "<Figure size 640x480 with 2 Axes>"
            ],
            "image/png": "[encoded data removed]"
          },
          "metadata": {}
        }
      ]
    },
    {
      "cell_type": "code",
      "source": [
        "    \n",
        "\n",
        "from sklearn.metrics import classification_report\n",
        "target_names = [\"Negative\",\"Positive\"]\n",
        "print(classification_report(y_true_classes, y_pred_classes, target_names=target_names))\n",
        "\n"
      ],
      "metadata": {
        "id": "tkP8OUZSppvN",
        "outputId": "412fc334-20e7-4566-90b7-02ba9eb3f5a8",
        "colab": {
          "base_uri": "https://localhost:8080/"
        }
      },
      "execution_count": 41,
      "outputs": [
        {
          "output_type": "stream",
          "name": "stdout",
          "text": [
            "              precision    recall  f1-score   support\n",
            "\n",
            "    Negative       0.79      0.65      0.71     12851\n",
            "    Positive       0.70      0.83      0.76     12749\n",
            "\n",
            "    accuracy                           0.74     25600\n",
            "   macro avg       0.74      0.74      0.73     25600\n",
            "weighted avg       0.74      0.74      0.73     25600\n",
            "\n"
          ]
        }
      ]
    }
  ]
}