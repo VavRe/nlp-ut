{
  "nbformat": 4,
  "nbformat_minor": 0,
  "metadata": {
    "colab": {
      "provenance": [],
      "gpuType": "T4",
      "include_colab_link": true
    },
    "kernelspec": {
      "name": "python3",
      "display_name": "Python 3"
    },
    "language_info": {
      "name": "python"
    },
    "accelerator": "GPU",
    "gpuClass": "standard"
  },
  "cells": [
    {
      "cell_type": "markdown",
      "metadata": {
        "id": "view-in-github",
        "colab_type": "text"
      },
      "source": [
        "<a href=\"https://colab.research.google.com/github/VavRe/nlp-ut/blob/main/CA3/Q1_Twitter_Sentiment_Analysis_RNN.ipynb\" target=\"_parent\"><img src=\"https://colab.research.google.com/assets/colab-badge.svg\" alt=\"Open In Colab\"/></a>"
      ]
    },
    {
      "cell_type": "code",
      "execution_count": 1,
      "metadata": {
        "id": "fI1zESTpRII0",
        "colab": {
          "base_uri": "https://localhost:8080/"
        },
        "outputId": "d14f889d-7459-4623-fc5d-a88e4ccfe195"
      },
      "outputs": [
        {
          "output_type": "stream",
          "name": "stdout",
          "text": [
            "--2023-05-14 15:30:54--  http://cs.stanford.edu/people/alecmgo/trainingandtestdata.zip\n",
            "Resolving cs.stanford.edu (cs.stanford.edu)... 171.64.64.64\n",
            "Connecting to cs.stanford.edu (cs.stanford.edu)|171.64.64.64|:80... connected.\n",
            "HTTP request sent, awaiting response... 301 Moved Permanently\n",
            "Location: https://cs.stanford.edu/people/alecmgo/trainingandtestdata.zip [following]\n",
            "--2023-05-14 15:30:54--  https://cs.stanford.edu/people/alecmgo/trainingandtestdata.zip\n",
            "Connecting to cs.stanford.edu (cs.stanford.edu)|171.64.64.64|:443... connected.\n",
            "HTTP request sent, awaiting response... 200 OK\n",
            "Length: 81363704 (78M) [application/zip]\n",
            "Saving to: ‘trainingandtestdata.zip’\n",
            "\n",
            "trainingandtestdata 100%[===================>]  77.59M  95.2MB/s    in 0.8s    \n",
            "\n",
            "2023-05-14 15:30:55 (95.2 MB/s) - ‘trainingandtestdata.zip’ saved [81363704/81363704]\n",
            "\n",
            "Archive:  trainingandtestdata.zip\n",
            "  inflating: testdata.manual.2009.06.14.csv  \n",
            "  inflating: training.1600000.processed.noemoticon.csv  \n"
          ]
        }
      ],
      "source": [
        "!wget http://cs.stanford.edu/people/alecmgo/trainingandtestdata.zip\n",
        "!unzip trainingandtestdata.zip"
      ]
    },
    {
      "cell_type": "code",
      "source": [
        "from google.colab import drive\n",
        "drive.mount('/content/drive')"
      ],
      "metadata": {
        "id": "vHUJw6dwfe1e",
        "outputId": "27eff8a7-b541-455a-ca6d-a6b71fe4b544",
        "colab": {
          "base_uri": "https://localhost:8080/"
        }
      },
      "execution_count": 3,
      "outputs": [
        {
          "output_type": "stream",
          "name": "stdout",
          "text": [
            "Mounted at /content/drive\n"
          ]
        }
      ]
    },
    {
      "cell_type": "code",
      "source": [
        "import pandas as pd\n",
        "import numpy as np\n",
        "import tensorflow as tf\n",
        "from keras.preprocessing.text import Tokenizer\n",
        "from keras.utils import pad_sequences\n",
        "from keras.layers import Embedding, LSTM, Dense, Dropout, RNN\n",
        "from keras.models import Sequential\n"
      ],
      "metadata": {
        "id": "OpbvbzUCWEiT"
      },
      "execution_count": 4,
      "outputs": []
    },
    {
      "cell_type": "markdown",
      "source": [
        "#Preprocessing"
      ],
      "metadata": {
        "id": "6BT7iIi9S3_w"
      }
    },
    {
      "cell_type": "code",
      "source": [
        "columns = [\"sentiment\",\"id\",\"datetime\",\"query\",\"user\",\"tweet\"]\n",
        "df = pd.read_csv(\"/content/training.1600000.processed.noemoticon.csv\", encoding=\"latin-1\", names=columns)"
      ],
      "metadata": {
        "id": "DTEMjI9bV3WR"
      },
      "execution_count": 5,
      "outputs": []
    },
    {
      "cell_type": "code",
      "source": [
        "df[\"sentiment\"].value_counts()"
      ],
      "metadata": {
        "colab": {
          "base_uri": "https://localhost:8080/"
        },
        "id": "Sjx0Ut-RX1qg",
        "outputId": "aa737714-35c9-46a7-e96c-300f6ff273f8"
      },
      "execution_count": 6,
      "outputs": [
        {
          "output_type": "execute_result",
          "data": {
            "text/plain": [
              "0    800000\n",
              "4    800000\n",
              "Name: sentiment, dtype: int64"
            ]
          },
          "metadata": {},
          "execution_count": 6
        }
      ]
    },
    {
      "cell_type": "code",
      "source": [
        "df = df.loc[:,[\"sentiment\",\"tweet\"]]\n",
        "df"
      ],
      "metadata": {
        "colab": {
          "base_uri": "https://localhost:8080/",
          "height": 424
        },
        "id": "R8dNu3B4eJiy",
        "outputId": "466eda88-af0a-4bb6-a556-672b7cbbe23a"
      },
      "execution_count": 7,
      "outputs": [
        {
          "output_type": "execute_result",
          "data": {
            "text/plain": [
              "         sentiment                                              tweet\n",
              "0                0  @switchfoot http://twitpic.com/2y1zl - Awww, t...\n",
              "1                0  is upset that he can't update his Facebook by ...\n",
              "2                0  @Kenichan I dived many times for the ball. Man...\n",
              "3                0    my whole body feels itchy and like its on fire \n",
              "4                0  @nationwideclass no, it's not behaving at all....\n",
              "...            ...                                                ...\n",
              "1599995          4  Just woke up. Having no school is the best fee...\n",
              "1599996          4  TheWDB.com - Very cool to hear old Walt interv...\n",
              "1599997          4  Are you ready for your MoJo Makeover? Ask me f...\n",
              "1599998          4  Happy 38th Birthday to my boo of alll time!!! ...\n",
              "1599999          4  happy #charitytuesday @theNSPCC @SparksCharity...\n",
              "\n",
              "[1600000 rows x 2 columns]"
            ],
            "text/html": [
              "\n",
              "  <div id=\"df-d11be08e-ab0c-43a8-842a-70ee58fd8feb\">\n",
              "    <div class=\"colab-df-container\">\n",
              "      <div>\n",
              "<style scoped>\n",
              "    .dataframe tbody tr th:only-of-type {\n",
              "        vertical-align: middle;\n",
              "    }\n",
              "\n",
              "    .dataframe tbody tr th {\n",
              "        vertical-align: top;\n",
              "    }\n",
              "\n",
              "    .dataframe thead th {\n",
              "        text-align: right;\n",
              "    }\n",
              "</style>\n",
              "<table border=\"1\" class=\"dataframe\">\n",
              "  <thead>\n",
              "    <tr style=\"text-align: right;\">\n",
              "      <th></th>\n",
              "      <th>sentiment</th>\n",
              "      <th>tweet</th>\n",
              "    </tr>\n",
              "  </thead>\n",
              "  <tbody>\n",
              "    <tr>\n",
              "      <th>0</th>\n",
              "      <td>0</td>\n",
              "      <td>@switchfoot http://twitpic.com/2y1zl - Awww, t...</td>\n",
              "    </tr>\n",
              "    <tr>\n",
              "      <th>1</th>\n",
              "      <td>0</td>\n",
              "      <td>is upset that he can't update his Facebook by ...</td>\n",
              "    </tr>\n",
              "    <tr>\n",
              "      <th>2</th>\n",
              "      <td>0</td>\n",
              "      <td>@Kenichan I dived many times for the ball. Man...</td>\n",
              "    </tr>\n",
              "    <tr>\n",
              "      <th>3</th>\n",
              "      <td>0</td>\n",
              "      <td>my whole body feels itchy and like its on fire</td>\n",
              "    </tr>\n",
              "    <tr>\n",
              "      <th>4</th>\n",
              "      <td>0</td>\n",
              "      <td>@nationwideclass no, it's not behaving at all....</td>\n",
              "    </tr>\n",
              "    <tr>\n",
              "      <th>...</th>\n",
              "      <td>...</td>\n",
              "      <td>...</td>\n",
              "    </tr>\n",
              "    <tr>\n",
              "      <th>1599995</th>\n",
              "      <td>4</td>\n",
              "      <td>Just woke up. Having no school is the best fee...</td>\n",
              "    </tr>\n",
              "    <tr>\n",
              "      <th>1599996</th>\n",
              "      <td>4</td>\n",
              "      <td>TheWDB.com - Very cool to hear old Walt interv...</td>\n",
              "    </tr>\n",
              "    <tr>\n",
              "      <th>1599997</th>\n",
              "      <td>4</td>\n",
              "      <td>Are you ready for your MoJo Makeover? Ask me f...</td>\n",
              "    </tr>\n",
              "    <tr>\n",
              "      <th>1599998</th>\n",
              "      <td>4</td>\n",
              "      <td>Happy 38th Birthday to my boo of alll time!!! ...</td>\n",
              "    </tr>\n",
              "    <tr>\n",
              "      <th>1599999</th>\n",
              "      <td>4</td>\n",
              "      <td>happy #charitytuesday @theNSPCC @SparksCharity...</td>\n",
              "    </tr>\n",
              "  </tbody>\n",
              "</table>\n",
              "<p>1600000 rows × 2 columns</p>\n",
              "</div>\n",
              "      <button class=\"colab-df-convert\" onclick=\"convertToInteractive('df-d11be08e-ab0c-43a8-842a-70ee58fd8feb')\"\n",
              "              title=\"Convert this dataframe to an interactive table.\"\n",
              "              style=\"display:none;\">\n",
              "        \n",
              "  <svg xmlns=\"http://www.w3.org/2000/svg\" height=\"24px\"viewBox=\"0 0 24 24\"\n",
              "       width=\"24px\">\n",
              "    <path d=\"M0 0h24v24H0V0z\" fill=\"none\"/>\n",
              "    <path d=\"M18.56 5.44l.94 2.06.94-2.06 2.06-.94-2.06-.94-.94-2.06-.94 2.06-2.06.94zm-11 1L8.5 8.5l.94-2.06 2.06-.94-2.06-.94L8.5 2.5l-.94 2.06-2.06.94zm10 10l.94 2.06.94-2.06 2.06-.94-2.06-.94-.94-2.06-.94 2.06-2.06.94z\"/><path d=\"M17.41 7.96l-1.37-1.37c-.4-.4-.92-.59-1.43-.59-.52 0-1.04.2-1.43.59L10.3 9.45l-7.72 7.72c-.78.78-.78 2.05 0 2.83L4 21.41c.39.39.9.59 1.41.59.51 0 1.02-.2 1.41-.59l7.78-7.78 2.81-2.81c.8-.78.8-2.07 0-2.86zM5.41 20L4 18.59l7.72-7.72 1.47 1.35L5.41 20z\"/>\n",
              "  </svg>\n",
              "      </button>\n",
              "      \n",
              "  <style>\n",
              "    .colab-df-container {\n",
              "      display:flex;\n",
              "      flex-wrap:wrap;\n",
              "      gap: 12px;\n",
              "    }\n",
              "\n",
              "    .colab-df-convert {\n",
              "      background-color: #E8F0FE;\n",
              "      border: none;\n",
              "      border-radius: 50%;\n",
              "      cursor: pointer;\n",
              "      display: none;\n",
              "      fill: #1967D2;\n",
              "      height: 32px;\n",
              "      padding: 0 0 0 0;\n",
              "      width: 32px;\n",
              "    }\n",
              "\n",
              "    .colab-df-convert:hover {\n",
              "      background-color: #E2EBFA;\n",
              "      box-shadow: 0px 1px 2px rgba(60, 64, 67, 0.3), 0px 1px 3px 1px rgba(60, 64, 67, 0.15);\n",
              "      fill: #174EA6;\n",
              "    }\n",
              "\n",
              "    [theme=dark] .colab-df-convert {\n",
              "      background-color: #3B4455;\n",
              "      fill: #D2E3FC;\n",
              "    }\n",
              "\n",
              "    [theme=dark] .colab-df-convert:hover {\n",
              "      background-color: #434B5C;\n",
              "      box-shadow: 0px 1px 3px 1px rgba(0, 0, 0, 0.15);\n",
              "      filter: drop-shadow(0px 1px 2px rgba(0, 0, 0, 0.3));\n",
              "      fill: #FFFFFF;\n",
              "    }\n",
              "  </style>\n",
              "\n",
              "      <script>\n",
              "        const buttonEl =\n",
              "          document.querySelector('#df-d11be08e-ab0c-43a8-842a-70ee58fd8feb button.colab-df-convert');\n",
              "        buttonEl.style.display =\n",
              "          google.colab.kernel.accessAllowed ? 'block' : 'none';\n",
              "\n",
              "        async function convertToInteractive(key) {\n",
              "          const element = document.querySelector('#df-d11be08e-ab0c-43a8-842a-70ee58fd8feb');\n",
              "          const dataTable =\n",
              "            await google.colab.kernel.invokeFunction('convertToInteractive',\n",
              "                                                     [key], {});\n",
              "          if (!dataTable) return;\n",
              "\n",
              "          const docLinkHtml = 'Like what you see? Visit the ' +\n",
              "            '<a target=\"_blank\" href=https://colab.research.google.com/notebooks/data_table.ipynb>data table notebook</a>'\n",
              "            + ' to learn more about interactive tables.';\n",
              "          element.innerHTML = '';\n",
              "          dataTable['output_type'] = 'display_data';\n",
              "          await google.colab.output.renderOutput(dataTable, element);\n",
              "          const docLink = document.createElement('div');\n",
              "          docLink.innerHTML = docLinkHtml;\n",
              "          element.appendChild(docLink);\n",
              "        }\n",
              "      </script>\n",
              "    </div>\n",
              "  </div>\n",
              "  "
            ]
          },
          "metadata": {},
          "execution_count": 7
        }
      ]
    },
    {
      "cell_type": "code",
      "source": [
        "from sklearn.model_selection import train_test_split\n",
        "\n",
        "samples_fraction = 0.025\n",
        "stratify_on = \"sentiment\"\n",
        "\n",
        "_, dataset = train_test_split(df, stratify=df[stratify_on], \n",
        "                                 test_size=samples_fraction,\n",
        "                                 random_state=76)\n",
        "\n",
        "# Reset the index of the sampled DataFrame\n",
        "dataset.reset_index(drop=True, inplace=True)\n"
      ],
      "metadata": {
        "id": "yiqqBRMLZlS-"
      },
      "execution_count": 8,
      "outputs": []
    },
    {
      "cell_type": "code",
      "source": [
        "dataset[\"sentiment\"].value_counts()"
      ],
      "metadata": {
        "colab": {
          "base_uri": "https://localhost:8080/"
        },
        "id": "Gmz4HeOLdsBK",
        "outputId": "44275bb6-a17e-484e-ca3f-ba2ca66f466c"
      },
      "execution_count": 9,
      "outputs": [
        {
          "output_type": "execute_result",
          "data": {
            "text/plain": [
              "0    20000\n",
              "4    20000\n",
              "Name: sentiment, dtype: int64"
            ]
          },
          "metadata": {},
          "execution_count": 9
        }
      ]
    },
    {
      "cell_type": "code",
      "source": [
        "import re\n",
        "import nltk\n",
        "from nltk.stem import PorterStemmer\n",
        "from nltk.corpus import stopwords\n",
        "from nltk.tokenize import word_tokenize\n",
        "\n",
        "nltk.download('punkt')\n",
        "nltk.download('wordnet')\n",
        "nltk.download('stopwords')\n",
        "\n",
        "stop_words = stopwords.words('english')\n",
        "\n",
        "def preprocess_tweet(tweet, remove_stopwords=True, stem_words=True, handle_negation=True):\n",
        "    # Convert to lowercase\n",
        "    tweet = tweet.lower()\n",
        "    \n",
        "    # Remove URLs, mentions, and hashtags\n",
        "    tweet = re.sub(r\"http\\S+|www\\S+|https\\S+|\\@\\w+|\\#\\w+\", \"\", tweet)\n",
        "    \n",
        "    # Remove punctuation\n",
        "    tweet = re.sub(r'[^\\w\\s]', '', tweet)\n",
        "    \n",
        "    # Remove numbers\n",
        "    tweet = re.sub(r'\\d+', '', tweet)\n",
        "    \n",
        "    # Remove stopwords if specified\n",
        "    if remove_stopwords:\n",
        "        tweet_tokens = tweet.split()\n",
        "        tweet = \" \".join([word for word in tweet_tokens if word not in stop_words])\n",
        "    \n",
        "    # Stem words if specified\n",
        "    if stem_words:\n",
        "        stemmer = PorterStemmer()\n",
        "        tweet_tokens = tweet.split()\n",
        "        tweet = \" \".join([stemmer.stem(word) for word in tweet_tokens])\n",
        "        \n",
        "    # Handle negation if specified\n",
        "    if handle_negation:\n",
        "        tweet_tokens = word_tokenize(tweet)\n",
        "        negation_flag = False\n",
        "        negated_tokens = []\n",
        "        for i, token in enumerate(tweet_tokens):\n",
        "            if token in [\"not\", \"n't\", \"no\"]:\n",
        "                negation_flag = True\n",
        "            elif negation_flag:\n",
        "                negated_tokens.append(\"not_\" + token)\n",
        "                negation_flag = False\n",
        "            else:\n",
        "                negated_tokens.append(token)\n",
        "        tweet = \" \".join(negated_tokens)\n",
        "    \n",
        "    return tweet\n"
      ],
      "metadata": {
        "colab": {
          "base_uri": "https://localhost:8080/"
        },
        "id": "HbpGmQs3sluy",
        "outputId": "3d6c6b00-0afe-4ca0-adb5-15680d8bb884"
      },
      "execution_count": 10,
      "outputs": [
        {
          "output_type": "stream",
          "name": "stderr",
          "text": [
            "[nltk_data] Downloading package punkt to /root/nltk_data...\n",
            "[nltk_data]   Unzipping tokenizers/punkt.zip.\n",
            "[nltk_data] Downloading package wordnet to /root/nltk_data...\n",
            "[nltk_data] Downloading package stopwords to /root/nltk_data...\n",
            "[nltk_data]   Unzipping corpora/stopwords.zip.\n"
          ]
        }
      ]
    },
    {
      "cell_type": "code",
      "source": [
        "from tqdm import tqdm\n",
        "tqdm.pandas()\n",
        "\n",
        "\n",
        "dataset[\"tweet\"] = dataset[\"tweet\"].progress_apply(preprocess_tweet)"
      ],
      "metadata": {
        "colab": {
          "base_uri": "https://localhost:8080/"
        },
        "id": "o55eEstft44G",
        "outputId": "ec01bb86-d1ff-47f8-be6d-7863b9aaddd7"
      },
      "execution_count": 11,
      "outputs": [
        {
          "output_type": "stream",
          "name": "stderr",
          "text": [
            "100%|██████████| 40000/40000 [00:13<00:00, 3005.33it/s]\n"
          ]
        }
      ]
    },
    {
      "cell_type": "code",
      "source": [
        "from keras.utils import to_categorical\n",
        "X = dataset[\"tweet\"]\n",
        "y = dataset[\"sentiment\"]"
      ],
      "metadata": {
        "id": "b1bs0urOkyfX"
      },
      "execution_count": 12,
      "outputs": []
    },
    {
      "cell_type": "code",
      "source": [
        "y = y.replace(4,1)\n",
        "y = y.replace(4,1)"
      ],
      "metadata": {
        "id": "5oOVFfxJWkkV"
      },
      "execution_count": 13,
      "outputs": []
    },
    {
      "cell_type": "code",
      "source": [
        "import gc\n",
        "\n",
        "del df\n",
        "gc.collect() # collect garbage "
      ],
      "metadata": {
        "id": "_SGNl2V2fGGv",
        "outputId": "3af793a6-bb53-405a-f23b-41dc4ecf7599",
        "colab": {
          "base_uri": "https://localhost:8080/"
        }
      },
      "execution_count": 14,
      "outputs": [
        {
          "output_type": "execute_result",
          "data": {
            "text/plain": [
              "0"
            ]
          },
          "metadata": {},
          "execution_count": 14
        }
      ]
    },
    {
      "cell_type": "code",
      "source": [
        "X_train, X_test, y_train, y_test = train_test_split(X, y, test_size=0.2, random_state=76)\n",
        "\n",
        "y_train = to_categorical(y_train, num_classes=2)\n",
        "y_test = to_categorical(y_test, num_classes=2)\n"
      ],
      "metadata": {
        "id": "JrQsMehAfdrS"
      },
      "execution_count": 15,
      "outputs": []
    },
    {
      "cell_type": "code",
      "source": [
        "vocab_size = 15000\n",
        "tokenizer = Tokenizer(num_words=vocab_size)\n",
        "tokenizer.fit_on_texts(X_train)"
      ],
      "metadata": {
        "id": "QUQNR7itm6Oc"
      },
      "execution_count": 16,
      "outputs": []
    },
    {
      "cell_type": "code",
      "source": [
        "X_train_seq = tokenizer.texts_to_sequences(X_train)\n",
        "X_test_seq = tokenizer.texts_to_sequences(X_test)"
      ],
      "metadata": {
        "id": "j2BDoz4M6j3g"
      },
      "execution_count": 17,
      "outputs": []
    },
    {
      "cell_type": "code",
      "source": [
        "# Pad the sequences to a fixed length\n",
        "max_length = 150\n",
        "X_train_pad = pad_sequences(X_train_seq, maxlen=max_length)\n",
        "X_test_pad = pad_sequences(X_test_seq, maxlen=max_length)\n"
      ],
      "metadata": {
        "id": "PKLPxVF17AP4"
      },
      "execution_count": 18,
      "outputs": []
    },
    {
      "cell_type": "markdown",
      "source": [
        "# GloVe RNN"
      ],
      "metadata": {
        "id": "m1v5XpXUStEz"
      }
    },
    {
      "cell_type": "markdown",
      "source": [
        "## Process and Train"
      ],
      "metadata": {
        "id": "rTs3GS0UTz6e"
      }
    },
    {
      "cell_type": "code",
      "source": [
        "!pip install kaggle ;\n",
        "!mkdir ~/.kaggle/ ;\n",
        "!cp /content/drive/MyDrive/kaggle.json ~/.kaggle/ ;\n",
        "!chmod 600 ~/.kaggle/kaggle.json ;\n",
        "!kaggle datasets download -d rtatman/glove-global-vectors-for-word-representation\n",
        "!unzip  /content/glove-global-vectors-for-word-representation.zip"
      ],
      "metadata": {
        "colab": {
          "base_uri": "https://localhost:8080/"
        },
        "id": "GJjBfkDE9NZv",
        "outputId": "1cf89e07-0547-4c97-f844-68aaa3016de1"
      },
      "execution_count": 19,
      "outputs": [
        {
          "output_type": "stream",
          "name": "stdout",
          "text": [
            "Looking in indexes: https://pypi.org/simple, https://us-python.pkg.dev/colab-wheels/public/simple/\n",
            "Requirement already satisfied: kaggle in /usr/local/lib/python3.10/dist-packages (1.5.13)\n",
            "Requirement already satisfied: six>=1.10 in /usr/local/lib/python3.10/dist-packages (from kaggle) (1.16.0)\n",
            "Requirement already satisfied: certifi in /usr/local/lib/python3.10/dist-packages (from kaggle) (2022.12.7)\n",
            "Requirement already satisfied: python-dateutil in /usr/local/lib/python3.10/dist-packages (from kaggle) (2.8.2)\n",
            "Requirement already satisfied: requests in /usr/local/lib/python3.10/dist-packages (from kaggle) (2.27.1)\n",
            "Requirement already satisfied: tqdm in /usr/local/lib/python3.10/dist-packages (from kaggle) (4.65.0)\n",
            "Requirement already satisfied: python-slugify in /usr/local/lib/python3.10/dist-packages (from kaggle) (8.0.1)\n",
            "Requirement already satisfied: urllib3 in /usr/local/lib/python3.10/dist-packages (from kaggle) (1.26.15)\n",
            "Requirement already satisfied: text-unidecode>=1.3 in /usr/local/lib/python3.10/dist-packages (from python-slugify->kaggle) (1.3)\n",
            "Requirement already satisfied: charset-normalizer~=2.0.0 in /usr/local/lib/python3.10/dist-packages (from requests->kaggle) (2.0.12)\n",
            "Requirement already satisfied: idna<4,>=2.5 in /usr/local/lib/python3.10/dist-packages (from requests->kaggle) (3.4)\n",
            "Downloading glove-global-vectors-for-word-representation.zip to /content\n",
            "100% 457M/458M [00:05<00:00, 147MB/s]\n",
            "100% 458M/458M [00:05<00:00, 92.5MB/s]\n",
            "Archive:  /content/glove-global-vectors-for-word-representation.zip\n",
            "  inflating: glove.6B.100d.txt       \n",
            "  inflating: glove.6B.200d.txt       \n",
            "  inflating: glove.6B.50d.txt        \n"
          ]
        }
      ]
    },
    {
      "cell_type": "code",
      "source": [
        "# # Use one-hot vectors for one option\n",
        "# X_train_onehot = tokenizer.sequences_to_matrix(X_train_seq, mode='binary')\n",
        "# X_test_onehot = tokenizer.sequences_to_matrix(X_test_seq, mode='binary')\n",
        "\n",
        "# Use GloVe embeddings for another option\n",
        "glove_embeddings_index = {}\n",
        "with open('glove.6B.200d.txt') as f:\n",
        "    for line in f:\n",
        "        values = line.split()\n",
        "        word = values[0]\n",
        "        coefs = np.asarray(values[1:], dtype='float32')\n",
        "        glove_embeddings_index[word] = coefs\n",
        "embedding_dim = 200\n",
        "glove_embedding_matrix = np.zeros((vocab_size, embedding_dim))\n",
        "for word, i in tokenizer.word_index.items():\n",
        "    if i >= vocab_size:\n",
        "        break\n",
        "    embedding_vector = glove_embeddings_index.get(word)\n",
        "    if embedding_vector is not None:\n",
        "        glove_embedding_matrix[i] = embedding_vector\n"
      ],
      "metadata": {
        "id": "H7g5llbf6MSY"
      },
      "execution_count": 20,
      "outputs": []
    },
    {
      "cell_type": "code",
      "source": [
        "from keras.callbacks import ModelCheckpoint\n",
        "from keras.layers import CuDNNLSTM, Dropout,SimpleRNN\n",
        "\n",
        "filepath = 'my_best_model.hdf5'\n",
        "\n",
        "callback = tf.keras.callbacks.EarlyStopping(monitor=\"val_loss\",patience=5,restore_best_weights=True)\n",
        "checkpoint = ModelCheckpoint(filepath=filepath, \n",
        "                             monitor='val_loss',\n",
        "                             verbose=1, \n",
        "                             save_best_only=True,\n",
        "                             mode='min')\n",
        "opt = tf.keras.optimizers.Adam(learning_rate=0.01)\n",
        "\n",
        "\n",
        "RNN_glove = Sequential()\n",
        "RNN_glove.add(Embedding(vocab_size, embedding_dim, input_length=max_length, weights=[glove_embedding_matrix], trainable=False))\n",
        "RNN_glove.add(SimpleRNN(128))\n",
        "RNN_glove.add(Dropout(0.2))\n",
        "RNN_glove.add(Dense(2, activation='softmax'))\n",
        "RNN_glove.compile(loss='categorical_crossentropy', optimizer=opt, metrics=['accuracy'])\n",
        "\n",
        "\n",
        "hist = RNN_glove.fit(X_train_pad, y_train, epochs=100, batch_size=256, validation_split=0.2, callbacks=[checkpoint,callback])\n"
      ],
      "metadata": {
        "id": "qWVr4ep6-Y4z",
        "outputId": "7f2a116e-abea-4274-e907-7b69feb39a81",
        "colab": {
          "base_uri": "https://localhost:8080/"
        }
      },
      "execution_count": 21,
      "outputs": [
        {
          "output_type": "stream",
          "name": "stdout",
          "text": [
            "Epoch 1/100\n",
            "100/100 [==============================] - ETA: 0s - loss: 0.7273 - accuracy: 0.5539\n",
            "Epoch 1: val_loss improved from inf to 0.66080, saving model to my_best_model.hdf5\n",
            "100/100 [==============================] - 27s 206ms/step - loss: 0.7273 - accuracy: 0.5539 - val_loss: 0.6608 - val_accuracy: 0.6002\n",
            "Epoch 2/100\n",
            "100/100 [==============================] - ETA: 0s - loss: 0.6336 - accuracy: 0.6455\n",
            "Epoch 2: val_loss improved from 0.66080 to 0.60904, saving model to my_best_model.hdf5\n",
            "100/100 [==============================] - 12s 120ms/step - loss: 0.6336 - accuracy: 0.6455 - val_loss: 0.6090 - val_accuracy: 0.6647\n",
            "Epoch 3/100\n",
            "100/100 [==============================] - ETA: 0s - loss: 0.6121 - accuracy: 0.6687\n",
            "Epoch 3: val_loss improved from 0.60904 to 0.58431, saving model to my_best_model.hdf5\n",
            "100/100 [==============================] - 7s 73ms/step - loss: 0.6121 - accuracy: 0.6687 - val_loss: 0.5843 - val_accuracy: 0.6966\n",
            "Epoch 4/100\n",
            "100/100 [==============================] - ETA: 0s - loss: 0.5944 - accuracy: 0.6870\n",
            "Epoch 4: val_loss did not improve from 0.58431\n",
            "100/100 [==============================] - 9s 93ms/step - loss: 0.5944 - accuracy: 0.6870 - val_loss: 0.6051 - val_accuracy: 0.6667\n",
            "Epoch 5/100\n",
            "100/100 [==============================] - ETA: 0s - loss: 0.5777 - accuracy: 0.7041\n",
            "Epoch 5: val_loss did not improve from 0.58431\n",
            "100/100 [==============================] - 7s 73ms/step - loss: 0.5777 - accuracy: 0.7041 - val_loss: 0.5860 - val_accuracy: 0.7042\n",
            "Epoch 6/100\n",
            "100/100 [==============================] - ETA: 0s - loss: 0.5668 - accuracy: 0.7131\n",
            "Epoch 6: val_loss improved from 0.58431 to 0.56757, saving model to my_best_model.hdf5\n",
            "100/100 [==============================] - 9s 89ms/step - loss: 0.5668 - accuracy: 0.7131 - val_loss: 0.5676 - val_accuracy: 0.7109\n",
            "Epoch 7/100\n",
            "100/100 [==============================] - ETA: 0s - loss: 0.5512 - accuracy: 0.7250\n",
            "Epoch 7: val_loss did not improve from 0.56757\n",
            "100/100 [==============================] - 9s 93ms/step - loss: 0.5512 - accuracy: 0.7250 - val_loss: 0.6051 - val_accuracy: 0.6933\n",
            "Epoch 8/100\n",
            "100/100 [==============================] - ETA: 0s - loss: 0.5613 - accuracy: 0.7136\n",
            "Epoch 8: val_loss did not improve from 0.56757\n",
            "100/100 [==============================] - 7s 70ms/step - loss: 0.5613 - accuracy: 0.7136 - val_loss: 0.6092 - val_accuracy: 0.6645\n",
            "Epoch 9/100\n",
            "100/100 [==============================] - ETA: 0s - loss: 0.5604 - accuracy: 0.7171\n",
            "Epoch 9: val_loss did not improve from 0.56757\n",
            "100/100 [==============================] - 10s 105ms/step - loss: 0.5604 - accuracy: 0.7171 - val_loss: 0.5954 - val_accuracy: 0.6936\n",
            "Epoch 10/100\n",
            "100/100 [==============================] - ETA: 0s - loss: 0.5420 - accuracy: 0.7286\n",
            "Epoch 10: val_loss improved from 0.56757 to 0.56005, saving model to my_best_model.hdf5\n",
            "100/100 [==============================] - 8s 84ms/step - loss: 0.5420 - accuracy: 0.7286 - val_loss: 0.5601 - val_accuracy: 0.7141\n",
            "Epoch 11/100\n",
            "100/100 [==============================] - ETA: 0s - loss: 0.5506 - accuracy: 0.7250\n",
            "Epoch 11: val_loss did not improve from 0.56005\n",
            "100/100 [==============================] - 8s 76ms/step - loss: 0.5506 - accuracy: 0.7250 - val_loss: 0.5778 - val_accuracy: 0.7120\n",
            "Epoch 12/100\n",
            "100/100 [==============================] - ETA: 0s - loss: 0.5422 - accuracy: 0.7328\n",
            "Epoch 12: val_loss did not improve from 0.56005\n",
            "100/100 [==============================] - 9s 89ms/step - loss: 0.5422 - accuracy: 0.7328 - val_loss: 0.5747 - val_accuracy: 0.7105\n",
            "Epoch 13/100\n",
            "100/100 [==============================] - ETA: 0s - loss: 0.5345 - accuracy: 0.7369\n",
            "Epoch 13: val_loss did not improve from 0.56005\n",
            "100/100 [==============================] - 7s 70ms/step - loss: 0.5345 - accuracy: 0.7369 - val_loss: 0.5649 - val_accuracy: 0.7144\n",
            "Epoch 14/100\n",
            "100/100 [==============================] - ETA: 0s - loss: 0.5480 - accuracy: 0.7261\n",
            "Epoch 14: val_loss improved from 0.56005 to 0.55479, saving model to my_best_model.hdf5\n",
            "100/100 [==============================] - 9s 94ms/step - loss: 0.5480 - accuracy: 0.7261 - val_loss: 0.5548 - val_accuracy: 0.7167\n",
            "Epoch 15/100\n",
            "100/100 [==============================] - ETA: 0s - loss: 0.5203 - accuracy: 0.7481\n",
            "Epoch 15: val_loss did not improve from 0.55479\n",
            "100/100 [==============================] - 9s 93ms/step - loss: 0.5203 - accuracy: 0.7481 - val_loss: 0.5671 - val_accuracy: 0.7189\n",
            "Epoch 16/100\n",
            "100/100 [==============================] - ETA: 0s - loss: 0.5210 - accuracy: 0.7425\n",
            "Epoch 16: val_loss did not improve from 0.55479\n",
            "100/100 [==============================] - 7s 74ms/step - loss: 0.5210 - accuracy: 0.7425 - val_loss: 0.5699 - val_accuracy: 0.7125\n",
            "Epoch 17/100\n",
            "100/100 [==============================] - ETA: 0s - loss: 0.5258 - accuracy: 0.7420\n",
            "Epoch 17: val_loss did not improve from 0.55479\n",
            "100/100 [==============================] - 9s 90ms/step - loss: 0.5258 - accuracy: 0.7420 - val_loss: 0.5632 - val_accuracy: 0.7205\n",
            "Epoch 18/100\n",
            "100/100 [==============================] - ETA: 0s - loss: 0.5186 - accuracy: 0.7457\n",
            "Epoch 18: val_loss did not improve from 0.55479\n",
            "100/100 [==============================] - 8s 76ms/step - loss: 0.5186 - accuracy: 0.7457 - val_loss: 0.5704 - val_accuracy: 0.7170\n",
            "Epoch 19/100\n",
            "100/100 [==============================] - ETA: 0s - loss: 0.5061 - accuracy: 0.7572\n",
            "Epoch 19: val_loss improved from 0.55479 to 0.55225, saving model to my_best_model.hdf5\n",
            "100/100 [==============================] - 9s 85ms/step - loss: 0.5061 - accuracy: 0.7572 - val_loss: 0.5523 - val_accuracy: 0.7242\n",
            "Epoch 20/100\n",
            "100/100 [==============================] - ETA: 0s - loss: 0.5181 - accuracy: 0.7475\n",
            "Epoch 20: val_loss did not improve from 0.55225\n",
            "100/100 [==============================] - 9s 92ms/step - loss: 0.5181 - accuracy: 0.7475 - val_loss: 0.5537 - val_accuracy: 0.7211\n",
            "Epoch 21/100\n",
            "100/100 [==============================] - ETA: 0s - loss: 0.5105 - accuracy: 0.7543\n",
            "Epoch 21: val_loss did not improve from 0.55225\n",
            "100/100 [==============================] - 7s 72ms/step - loss: 0.5105 - accuracy: 0.7543 - val_loss: 0.5760 - val_accuracy: 0.7155\n",
            "Epoch 22/100\n",
            "100/100 [==============================] - ETA: 0s - loss: 0.5189 - accuracy: 0.7498\n",
            "Epoch 22: val_loss did not improve from 0.55225\n",
            "100/100 [==============================] - 9s 91ms/step - loss: 0.5189 - accuracy: 0.7498 - val_loss: 0.5657 - val_accuracy: 0.7269\n",
            "Epoch 23/100\n",
            "100/100 [==============================] - ETA: 0s - loss: 0.6357 - accuracy: 0.6544\n",
            "Epoch 23: val_loss did not improve from 0.55225\n",
            "100/100 [==============================] - 8s 85ms/step - loss: 0.6357 - accuracy: 0.6544 - val_loss: 0.6641 - val_accuracy: 0.5881\n",
            "Epoch 24/100\n",
            "100/100 [==============================] - ETA: 0s - loss: 0.6546 - accuracy: 0.6093\n",
            "Epoch 24: val_loss did not improve from 0.55225\n",
            "100/100 [==============================] - 8s 80ms/step - loss: 0.6546 - accuracy: 0.6093 - val_loss: 0.6263 - val_accuracy: 0.6486\n"
          ]
        }
      ]
    },
    {
      "cell_type": "markdown",
      "source": [
        "## Results"
      ],
      "metadata": {
        "id": "XA43rbnBTwaW"
      }
    },
    {
      "cell_type": "code",
      "source": [
        "y_pred = RNN_glove.predict(X_test_pad)"
      ],
      "metadata": {
        "id": "8kDS-oQkpWnp",
        "outputId": "11d9c1b9-9813-4008-9a6f-17c75effa01d",
        "colab": {
          "base_uri": "https://localhost:8080/"
        }
      },
      "execution_count": 22,
      "outputs": [
        {
          "output_type": "stream",
          "name": "stdout",
          "text": [
            "250/250 [==============================] - 4s 15ms/step\n"
          ]
        }
      ]
    },
    {
      "cell_type": "code",
      "source": [
        "from sklearn.metrics import confusion_matrix, ConfusionMatrixDisplay\n",
        "import matplotlib.pyplot as plt\n",
        "\n",
        "\n",
        "\n",
        "y_pred_classes = np.argmax(y_pred, axis=1)\n",
        "y_true_classes = np.argmax(y_test, axis=1)\n",
        "conf_mat = confusion_matrix(y_true_classes, y_pred_classes)\n",
        "disp = ConfusionMatrixDisplay(conf_mat, display_labels=['Negative', 'Positive'])\n",
        "disp.plot()\n",
        "plt.show()\n"
      ],
      "metadata": {
        "id": "jhdpH5mAp7mN",
        "outputId": "2a228fd8-9bb3-4e6c-8dee-3fd586c7ce7e",
        "colab": {
          "base_uri": "https://localhost:8080/",
          "height": 449
        }
      },
      "execution_count": 23,
      "outputs": [
        {
          "output_type": "display_data",
          "data": {
            "text/plain": [
              "<Figure size 640x480 with 2 Axes>"
            ],
            "image/png": "[encoded data removed]"
          },
          "metadata": {}
        }
      ]
    },
    {
      "cell_type": "code",
      "source": [
        "from sklearn.metrics import classification_report\n",
        "target_names = [\"Negative\",\"Positive\"]\n",
        "print(classification_report(y_true_classes, y_pred_classes, target_names=target_names))\n"
      ],
      "metadata": {
        "id": "dojnIvNCrPhG",
        "outputId": "1ea9e6c6-a4bb-4270-d85f-49bd5f22aeff",
        "colab": {
          "base_uri": "https://localhost:8080/"
        }
      },
      "execution_count": 24,
      "outputs": [
        {
          "output_type": "stream",
          "name": "stdout",
          "text": [
            "              precision    recall  f1-score   support\n",
            "\n",
            "    Negative       0.74      0.71      0.72      4027\n",
            "    Positive       0.72      0.75      0.73      3973\n",
            "\n",
            "    accuracy                           0.73      8000\n",
            "   macro avg       0.73      0.73      0.73      8000\n",
            "weighted avg       0.73      0.73      0.73      8000\n",
            "\n"
          ]
        }
      ]
    },
    {
      "cell_type": "markdown",
      "source": [
        "# Word2Vec RNN"
      ],
      "metadata": {
        "id": "32W-iBeMAJTn"
      }
    },
    {
      "cell_type": "markdown",
      "source": [
        "## Process and Train"
      ],
      "metadata": {
        "id": "yVocKf1sTr6n"
      }
    },
    {
      "cell_type": "code",
      "source": [
        "tqdm.pandas()\n",
        "dataset[\"tokenized\"] = dataset[\"tweet\"].progress_apply(word_tokenize)"
      ],
      "metadata": {
        "id": "otj-XhfY3mCe",
        "outputId": "44a41e07-8f7e-4b09-bec9-9a6941838c44",
        "colab": {
          "base_uri": "https://localhost:8080/"
        }
      },
      "execution_count": 25,
      "outputs": [
        {
          "output_type": "stream",
          "name": "stderr",
          "text": [
            "100%|██████████| 40000/40000 [00:03<00:00, 12250.46it/s]\n"
          ]
        }
      ]
    },
    {
      "cell_type": "code",
      "source": [
        "dataset[\"tokenized\"]"
      ],
      "metadata": {
        "id": "emOZhFK2_dj_",
        "outputId": "9aa16939-b175-470d-d6bc-77ebe995b69d",
        "colab": {
          "base_uri": "https://localhost:8080/"
        }
      },
      "execution_count": 26,
      "outputs": [
        {
          "output_type": "execute_result",
          "data": {
            "text/plain": [
              "0                                [come, back, douch, lmao]\n",
              "1        [come, friday, game, alway, send, preorder, ga...\n",
              "2               [hahah, aww, suck, seem, like, someth, id]\n",
              "3         [teacher, appreci, quotgradegrubbingquot, teach]\n",
              "4              [drama, coursework, revis, n, school, suck]\n",
              "                               ...                        \n",
              "39995              [anyon, els, go, loservil, music, aaah]\n",
              "39996                                         [that, fair]\n",
              "39997    [lie, dr, paul, ekman, text, relat, facial, ex...\n",
              "39998    [noi, think, would, think, crazi, polit, tell,...\n",
              "39999                                         [hi, ghosti]\n",
              "Name: tokenized, Length: 40000, dtype: object"
            ]
          },
          "metadata": {},
          "execution_count": 26
        }
      ]
    },
    {
      "cell_type": "code",
      "source": [
        "import gensim\n",
        "from gensim.models import Word2Vec\n",
        "\n",
        "\n",
        "w2v_model = Word2Vec(dataset[\"tokenized\"].to_numpy(), vector_size=embedding_dim, window=5, min_count=1, workers=4)\n"
      ],
      "metadata": {
        "id": "Kj3nFlNR_Sng"
      },
      "execution_count": 27,
      "outputs": []
    },
    {
      "cell_type": "code",
      "source": [
        "w2v_embedding_matrix = np.zeros((vocab_size, embedding_dim))\n",
        "for word, i in tokenizer.word_index.items():\n",
        "    if i >= vocab_size:\n",
        "        break\n",
        "    try: \n",
        "        embedding_vector = w2v_model.wv.get_vector(word)\n",
        "    except KeyError:\n",
        "        print(f\"the word {word} is not available\")\n",
        "    if embedding_vector is not None:\n",
        "        w2v_embedding_matrix[i] = embedding_vector\n"
      ],
      "metadata": {
        "id": "6RFQltnPBcw1",
        "outputId": "89e04db7-2766-43b1-e625-33e65644bea9",
        "colab": {
          "base_uri": "https://localhost:8080/"
        }
      },
      "execution_count": 28,
      "outputs": [
        {
          "output_type": "stream",
          "name": "stdout",
          "text": [
            "the word not is not available\n",
            "the word o is not available\n",
            "the word t is not available\n",
            "the word has is not available\n",
            "the word allru is not available\n",
            "the word sela is not available\n",
            "the word roxy is not available\n",
            "the word peacock is not available\n",
            "the word tvd is not available\n",
            "the word the is not available\n",
            "the word wockeez is not available\n",
            "the word titch is not available\n",
            "the word aier is not available\n",
            "the word brokenanvil is not available\n",
            "the word twittercomtmac is not available\n"
          ]
        }
      ]
    },
    {
      "cell_type": "code",
      "source": [],
      "metadata": {
        "id": "fx84gUrMHqNK"
      },
      "execution_count": 28,
      "outputs": []
    },
    {
      "cell_type": "code",
      "source": [
        "filepath = 'my_best_model.hdf5'\n",
        "\n",
        "callback = tf.keras.callbacks.EarlyStopping(monitor=\"val_loss\",patience=5,restore_best_weights=True)\n",
        "checkpoint = ModelCheckpoint(filepath=filepath, \n",
        "                             monitor='val_loss',\n",
        "                             verbose=1, \n",
        "                             save_best_only=True,\n",
        "                             mode='min')\n",
        "opt = tf.keras.optimizers.Adam(learning_rate=0.01)\n",
        "\n",
        "\n",
        "RNN_w2v = Sequential()\n",
        "RNN_w2v.add(Embedding(vocab_size, embedding_dim, input_length=max_length, weights=[w2v_embedding_matrix], trainable=False))\n",
        "RNN_w2v.add(SimpleRNN(128))\n",
        "RNN_w2v.add(Dropout(0.2))\n",
        "RNN_w2v.add(Dense(2, activation='softmax'))\n",
        "RNN_w2v.compile(loss='categorical_crossentropy', optimizer=opt, metrics=['accuracy'])\n",
        "\n",
        "\n",
        "hist = RNN_w2v.fit(X_train_pad, y_train, epochs=100, batch_size=256, validation_split=0.2, callbacks=[checkpoint,callback])\n"
      ],
      "metadata": {
        "id": "3qlBKa-xBnqc",
        "outputId": "aebbbae3-d1a6-4fda-ef2e-b619e67f46e3",
        "colab": {
          "base_uri": "https://localhost:8080/"
        }
      },
      "execution_count": 29,
      "outputs": [
        {
          "output_type": "stream",
          "name": "stdout",
          "text": [
            "Epoch 1/100\n",
            "100/100 [==============================] - ETA: 0s - loss: 0.7813 - accuracy: 0.5258\n",
            "Epoch 1: val_loss improved from inf to 0.66606, saving model to my_best_model.hdf5\n",
            "100/100 [==============================] - 11s 95ms/step - loss: 0.7813 - accuracy: 0.5258 - val_loss: 0.6661 - val_accuracy: 0.5911\n",
            "Epoch 2/100\n",
            "100/100 [==============================] - ETA: 0s - loss: 0.6676 - accuracy: 0.5976\n",
            "Epoch 2: val_loss improved from 0.66606 to 0.64518, saving model to my_best_model.hdf5\n",
            "100/100 [==============================] - 8s 85ms/step - loss: 0.6676 - accuracy: 0.5976 - val_loss: 0.6452 - val_accuracy: 0.6228\n",
            "Epoch 3/100\n",
            "100/100 [==============================] - ETA: 0s - loss: 0.6527 - accuracy: 0.6136\n",
            "Epoch 3: val_loss improved from 0.64518 to 0.63636, saving model to my_best_model.hdf5\n",
            "100/100 [==============================] - 8s 79ms/step - loss: 0.6527 - accuracy: 0.6136 - val_loss: 0.6364 - val_accuracy: 0.6348\n",
            "Epoch 4/100\n",
            "100/100 [==============================] - ETA: 0s - loss: 0.6511 - accuracy: 0.6122\n",
            "Epoch 4: val_loss did not improve from 0.63636\n",
            "100/100 [==============================] - 9s 91ms/step - loss: 0.6511 - accuracy: 0.6122 - val_loss: 0.6584 - val_accuracy: 0.6044\n",
            "Epoch 5/100\n",
            "100/100 [==============================] - ETA: 0s - loss: 0.6478 - accuracy: 0.6242\n",
            "Epoch 5: val_loss did not improve from 0.63636\n",
            "100/100 [==============================] - 7s 73ms/step - loss: 0.6478 - accuracy: 0.6242 - val_loss: 0.6403 - val_accuracy: 0.6359\n",
            "Epoch 6/100\n",
            "100/100 [==============================] - ETA: 0s - loss: 0.6577 - accuracy: 0.6147\n",
            "Epoch 6: val_loss did not improve from 0.63636\n",
            "100/100 [==============================] - 9s 92ms/step - loss: 0.6577 - accuracy: 0.6147 - val_loss: 0.7234 - val_accuracy: 0.5617\n",
            "Epoch 7/100\n",
            "100/100 [==============================] - ETA: 0s - loss: 0.6412 - accuracy: 0.6262\n",
            "Epoch 7: val_loss improved from 0.63636 to 0.63399, saving model to my_best_model.hdf5\n",
            "100/100 [==============================] - 9s 92ms/step - loss: 0.6412 - accuracy: 0.6262 - val_loss: 0.6340 - val_accuracy: 0.6270\n",
            "Epoch 8/100\n",
            "100/100 [==============================] - ETA: 0s - loss: 0.6406 - accuracy: 0.6300\n",
            "Epoch 8: val_loss did not improve from 0.63399\n",
            "100/100 [==============================] - 7s 73ms/step - loss: 0.6406 - accuracy: 0.6300 - val_loss: 0.6723 - val_accuracy: 0.5987\n",
            "Epoch 9/100\n",
            "100/100 [==============================] - ETA: 0s - loss: 0.6374 - accuracy: 0.6321\n",
            "Epoch 9: val_loss improved from 0.63399 to 0.62444, saving model to my_best_model.hdf5\n",
            "100/100 [==============================] - 9s 94ms/step - loss: 0.6374 - accuracy: 0.6321 - val_loss: 0.6244 - val_accuracy: 0.6448\n",
            "Epoch 10/100\n",
            "100/100 [==============================] - ETA: 0s - loss: 0.6400 - accuracy: 0.6272\n",
            "Epoch 10: val_loss did not improve from 0.62444\n",
            "100/100 [==============================] - 8s 81ms/step - loss: 0.6400 - accuracy: 0.6272 - val_loss: 0.6436 - val_accuracy: 0.6275\n",
            "Epoch 11/100\n",
            "100/100 [==============================] - ETA: 0s - loss: 0.6394 - accuracy: 0.6264\n",
            "Epoch 11: val_loss did not improve from 0.62444\n",
            "100/100 [==============================] - 8s 82ms/step - loss: 0.6394 - accuracy: 0.6264 - val_loss: 0.6580 - val_accuracy: 0.6070\n",
            "Epoch 12/100\n",
            "100/100 [==============================] - ETA: 0s - loss: 0.6404 - accuracy: 0.6310\n",
            "Epoch 12: val_loss did not improve from 0.62444\n",
            "100/100 [==============================] - 9s 90ms/step - loss: 0.6404 - accuracy: 0.6310 - val_loss: 0.6336 - val_accuracy: 0.6388\n",
            "Epoch 13/100\n",
            "100/100 [==============================] - ETA: 0s - loss: 0.6295 - accuracy: 0.6388\n",
            "Epoch 13: val_loss did not improve from 0.62444\n",
            "100/100 [==============================] - 7s 74ms/step - loss: 0.6295 - accuracy: 0.6388 - val_loss: 0.6698 - val_accuracy: 0.6127\n",
            "Epoch 14/100\n",
            "100/100 [==============================] - ETA: 0s - loss: 0.6360 - accuracy: 0.6305\n",
            "Epoch 14: val_loss improved from 0.62444 to 0.62117, saving model to my_best_model.hdf5\n",
            "100/100 [==============================] - 9s 92ms/step - loss: 0.6360 - accuracy: 0.6305 - val_loss: 0.6212 - val_accuracy: 0.6461\n",
            "Epoch 15/100\n",
            "100/100 [==============================] - ETA: 0s - loss: 0.6278 - accuracy: 0.6401\n",
            "Epoch 15: val_loss improved from 0.62117 to 0.61088, saving model to my_best_model.hdf5\n",
            "100/100 [==============================] - 9s 89ms/step - loss: 0.6278 - accuracy: 0.6401 - val_loss: 0.6109 - val_accuracy: 0.6641\n",
            "Epoch 16/100\n",
            "100/100 [==============================] - ETA: 0s - loss: 0.6340 - accuracy: 0.6357\n",
            "Epoch 16: val_loss improved from 0.61088 to 0.60938, saving model to my_best_model.hdf5\n",
            "100/100 [==============================] - 8s 77ms/step - loss: 0.6340 - accuracy: 0.6357 - val_loss: 0.6094 - val_accuracy: 0.6591\n",
            "Epoch 17/100\n",
            "100/100 [==============================] - ETA: 0s - loss: 0.6363 - accuracy: 0.6322\n",
            "Epoch 17: val_loss did not improve from 0.60938\n",
            "100/100 [==============================] - 9s 93ms/step - loss: 0.6363 - accuracy: 0.6322 - val_loss: 0.6351 - val_accuracy: 0.6269\n",
            "Epoch 18/100\n",
            "100/100 [==============================] - ETA: 0s - loss: 0.6270 - accuracy: 0.6423\n",
            "Epoch 18: val_loss did not improve from 0.60938\n",
            "100/100 [==============================] - 9s 86ms/step - loss: 0.6270 - accuracy: 0.6423 - val_loss: 0.6164 - val_accuracy: 0.6553\n",
            "Epoch 19/100\n",
            "100/100 [==============================] - ETA: 0s - loss: 0.6383 - accuracy: 0.6320\n",
            "Epoch 19: val_loss did not improve from 0.60938\n",
            "100/100 [==============================] - 8s 76ms/step - loss: 0.6383 - accuracy: 0.6320 - val_loss: 0.6219 - val_accuracy: 0.6430\n",
            "Epoch 20/100\n",
            "100/100 [==============================] - ETA: 0s - loss: 0.6295 - accuracy: 0.6397\n",
            "Epoch 20: val_loss did not improve from 0.60938\n",
            "100/100 [==============================] - 9s 90ms/step - loss: 0.6295 - accuracy: 0.6397 - val_loss: 0.6316 - val_accuracy: 0.6353\n",
            "Epoch 21/100\n",
            "100/100 [==============================] - ETA: 0s - loss: 0.6268 - accuracy: 0.6424\n",
            "Epoch 21: val_loss did not improve from 0.60938\n",
            "100/100 [==============================] - 7s 72ms/step - loss: 0.6268 - accuracy: 0.6424 - val_loss: 0.6105 - val_accuracy: 0.6562\n"
          ]
        }
      ]
    },
    {
      "cell_type": "code",
      "source": [
        "y_pred = RNN_w2v.predict(X_test_pad)"
      ],
      "metadata": {
        "id": "h1OWi4qMIP8X",
        "outputId": "79890e39-5815-4bf4-be5e-241eaed4f776",
        "colab": {
          "base_uri": "https://localhost:8080/"
        }
      },
      "execution_count": 30,
      "outputs": [
        {
          "output_type": "stream",
          "name": "stdout",
          "text": [
            "250/250 [==============================] - 8s 33ms/step\n"
          ]
        }
      ]
    },
    {
      "cell_type": "markdown",
      "source": [
        "## Results"
      ],
      "metadata": {
        "id": "6ls4J6RkTl8d"
      }
    },
    {
      "cell_type": "code",
      "source": [
        "from sklearn.metrics import confusion_matrix, ConfusionMatrixDisplay\n",
        "import matplotlib.pyplot as plt\n",
        "\n",
        "\n",
        "\n",
        "y_pred_classes = np.argmax(y_pred, axis=1)\n",
        "y_true_classes = np.argmax(y_test, axis=1)\n",
        "conf_mat = confusion_matrix(y_true_classes, y_pred_classes)\n",
        "disp = ConfusionMatrixDisplay(conf_mat, display_labels=['Negative', 'Positive'])\n",
        "disp.plot()\n",
        "plt.show()\n"
      ],
      "metadata": {
        "id": "qKFpu32dISS5",
        "outputId": "147501bd-cbee-4df5-e63b-70b968bafa22",
        "colab": {
          "base_uri": "https://localhost:8080/",
          "height": 449
        }
      },
      "execution_count": 31,
      "outputs": [
        {
          "output_type": "display_data",
          "data": {
            "text/plain": [
              "<Figure size 640x480 with 2 Axes>"
            ],
            "image/png": "[encoded data removed]"
          },
          "metadata": {}
        }
      ]
    },
    {
      "cell_type": "code",
      "source": [
        "from sklearn.metrics import classification_report\n",
        "target_names = [\"Negative\",\"Positive\"]\n",
        "print(classification_report(y_true_classes, y_pred_classes, target_names=target_names))\n"
      ],
      "metadata": {
        "id": "rqRTUJJNIVXj",
        "outputId": "fe483909-c8a7-43a3-a733-d1ed1867a5ea",
        "colab": {
          "base_uri": "https://localhost:8080/"
        }
      },
      "execution_count": 32,
      "outputs": [
        {
          "output_type": "stream",
          "name": "stdout",
          "text": [
            "              precision    recall  f1-score   support\n",
            "\n",
            "    Negative       0.65      0.68      0.67      4027\n",
            "    Positive       0.66      0.63      0.65      3973\n",
            "\n",
            "    accuracy                           0.66      8000\n",
            "   macro avg       0.66      0.66      0.66      8000\n",
            "weighted avg       0.66      0.66      0.66      8000\n",
            "\n"
          ]
        }
      ]
    },
    {
      "cell_type": "markdown",
      "source": [
        "#One-Hot RNN"
      ],
      "metadata": {
        "id": "DpOi0BtBSA9M"
      }
    },
    {
      "cell_type": "markdown",
      "source": [
        "## Process and Train"
      ],
      "metadata": {
        "id": "vPsN6e7hT7QP"
      }
    },
    {
      "cell_type": "code",
      "source": [
        "from sklearn.feature_extraction.text import CountVectorizer\n",
        "\n",
        "# Define a sample text data\n",
        "\n",
        "# Initialize the CountVectorizer\n",
        "vectorizer = CountVectorizer(binary=True, max_features=5000 )\n",
        "\n",
        "# Fit the vectorizer to the text data\n",
        "vectorizer.fit(X_train)\n",
        "\n",
        "# # Transform the text data into a one-hot encoded matrix\n",
        "X_train_onehot = vectorizer.transform(X_train).toarray()\n",
        "X_test_onehot = vectorizer.transform(X_test).toarray()\n",
        "\n",
        "# Print the one-hot encoded data\n",
        "# type(X_train_onehot)"
      ],
      "metadata": {
        "id": "Sbhsxu5gSUew"
      },
      "execution_count": 34,
      "outputs": []
    },
    {
      "cell_type": "code",
      "source": [
        "from keras.callbacks import ModelCheckpoint\n",
        "from keras.layers import CuDNNLSTM, Dropout,SimpleRNN,Reshape\n",
        "import tensorflow as tf\n",
        "\n",
        "filepath = 'my_best_model.hdf5'\n",
        "\n",
        "callback = tf.keras.callbacks.EarlyStopping(monitor=\"val_loss\",patience=5,restore_best_weights=True)\n",
        "checkpoint = ModelCheckpoint(filepath=filepath, \n",
        "                             monitor='val_loss',\n",
        "                             verbose=1, \n",
        "                             save_best_only=True,\n",
        "                             mode='min')\n",
        "opt = tf.keras.optimizers.Adam(learning_rate=0.01)\n",
        "timesteps = 1\n",
        "vocab_size = 5000\n",
        "input_shape = (vocab_size,)\n",
        "\n",
        "RNN_onehot = Sequential()\n",
        "RNN_onehot.add(Dense(units=150, activation='relu', input_shape=input_shape))\n",
        "RNN_onehot.add(Reshape((1, 150)))\n",
        "RNN_onehot.add(SimpleRNN(150))\n",
        "RNN_onehot.add(Dropout(0.2))\n",
        "RNN_onehot.add(Dense(2, activation='softmax'))\n",
        "RNN_onehot.compile(loss='categorical_crossentropy', optimizer=opt, metrics=['accuracy'])\n",
        "\n",
        "\n",
        "# X_train = X_train.to_numpy().reshape((X_train.shape[0], timesteps, vocab_size))\n",
        "hist = RNN_onehot.fit(X_train_onehot, y_train, epochs=100, batch_size=32, validation_split=0.2, callbacks=[checkpoint,callback])\n"
      ],
      "metadata": {
        "id": "5Yyd5mCXt4Q5",
        "outputId": "7c853a8d-e8c0-4886-a73c-679ebaef9051",
        "colab": {
          "base_uri": "https://localhost:8080/"
        }
      },
      "execution_count": 35,
      "outputs": [
        {
          "output_type": "stream",
          "name": "stdout",
          "text": [
            "Epoch 1/100\n",
            "799/800 [============================>.] - ETA: 0s - loss: 0.5847 - accuracy: 0.7046\n",
            "Epoch 1: val_loss improved from inf to 0.57873, saving model to my_best_model.hdf5\n",
            "800/800 [==============================] - 8s 6ms/step - loss: 0.5847 - accuracy: 0.7046 - val_loss: 0.5787 - val_accuracy: 0.7222\n",
            "Epoch 2/100\n",
            "791/800 [============================>.] - ETA: 0s - loss: 0.4492 - accuracy: 0.7999\n",
            "Epoch 2: val_loss improved from 0.57873 to 0.57492, saving model to my_best_model.hdf5\n",
            "800/800 [==============================] - 4s 5ms/step - loss: 0.4497 - accuracy: 0.7998 - val_loss: 0.5749 - val_accuracy: 0.7398\n",
            "Epoch 3/100\n",
            "797/800 [============================>.] - ETA: 0s - loss: 0.2890 - accuracy: 0.8816\n",
            "Epoch 3: val_loss did not improve from 0.57492\n",
            "800/800 [==============================] - 6s 7ms/step - loss: 0.2890 - accuracy: 0.8816 - val_loss: 0.7593 - val_accuracy: 0.7294\n",
            "Epoch 4/100\n",
            "795/800 [============================>.] - ETA: 0s - loss: 0.1545 - accuracy: 0.9391\n",
            "Epoch 4: val_loss did not improve from 0.57492\n",
            "800/800 [==============================] - 4s 5ms/step - loss: 0.1544 - accuracy: 0.9391 - val_loss: 1.1118 - val_accuracy: 0.7183\n",
            "Epoch 5/100\n",
            "791/800 [============================>.] - ETA: 0s - loss: 0.0948 - accuracy: 0.9611\n",
            "Epoch 5: val_loss did not improve from 0.57492\n",
            "800/800 [==============================] - 4s 5ms/step - loss: 0.0950 - accuracy: 0.9612 - val_loss: 1.2230 - val_accuracy: 0.7080\n",
            "Epoch 6/100\n",
            "796/800 [============================>.] - ETA: 0s - loss: 0.0658 - accuracy: 0.9731\n",
            "Epoch 6: val_loss did not improve from 0.57492\n",
            "800/800 [==============================] - 5s 6ms/step - loss: 0.0656 - accuracy: 0.9732 - val_loss: 1.4134 - val_accuracy: 0.7159\n",
            "Epoch 7/100\n",
            "792/800 [============================>.] - ETA: 0s - loss: 0.0528 - accuracy: 0.9777\n",
            "Epoch 7: val_loss did not improve from 0.57492\n",
            "800/800 [==============================] - 4s 5ms/step - loss: 0.0528 - accuracy: 0.9778 - val_loss: 1.3080 - val_accuracy: 0.7144\n"
          ]
        }
      ]
    },
    {
      "cell_type": "code",
      "source": [
        "y_pred = RNN_onehot.predict(X_test_onehot)\n",
        "     \n",
        "\n",
        "from sklearn.metrics import confusion_matrix, ConfusionMatrixDisplay\n",
        "import matplotlib.pyplot as plt\n",
        "\n",
        "\n",
        "\n",
        "y_pred_classes = np.argmax(y_pred, axis=1)\n",
        "y_true_classes = np.argmax(y_test, axis=1)\n",
        "conf_mat = confusion_matrix(y_true_classes, y_pred_classes)\n",
        "disp = ConfusionMatrixDisplay(conf_mat, display_labels=['Negative', 'Positive'])\n",
        "disp.plot()\n",
        "plt.show()\n",
        "\n",
        "     \n",
        "\n",
        "from sklearn.metrics import classification_report\n",
        "target_names = [\"Negative\",\"Positive\"]\n",
        "print(classification_report(y_true_classes, y_pred_classes, target_names=target_names))\n",
        "\n"
      ],
      "metadata": {
        "id": "KLoqsYBKt6fg",
        "outputId": "b19f1724-38d3-43e3-c6ec-9c4d3f5c4e2a",
        "colab": {
          "base_uri": "https://localhost:8080/",
          "height": 623
        }
      },
      "execution_count": 36,
      "outputs": [
        {
          "output_type": "stream",
          "name": "stdout",
          "text": [
            "250/250 [==============================] - 1s 4ms/step\n"
          ]
        },
        {
          "output_type": "display_data",
          "data": {
            "text/plain": [
              "<Figure size 640x480 with 2 Axes>"
            ],
            "image/png": "[encoded data removed]"
          },
          "metadata": {}
        },
        {
          "output_type": "stream",
          "name": "stdout",
          "text": [
            "              precision    recall  f1-score   support\n",
            "\n",
            "    Negative       0.74      0.73      0.73      4027\n",
            "    Positive       0.73      0.73      0.73      3973\n",
            "\n",
            "    accuracy                           0.73      8000\n",
            "   macro avg       0.73      0.73      0.73      8000\n",
            "weighted avg       0.73      0.73      0.73      8000\n",
            "\n"
          ]
        }
      ]
    }
  ]
}