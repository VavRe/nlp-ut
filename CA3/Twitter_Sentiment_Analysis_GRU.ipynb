{
  "cells": [
    {
      "cell_type": "markdown",
      "metadata": {
        "id": "view-in-github",
        "colab_type": "text"
      },
      "source": [
        "<a href=\"https://colab.research.google.com/github/VavRe/nlp-ut/blob/main/CA3/Twitter_Sentiment_Analysis_GRU.ipynb\" target=\"_parent\"><img src=\"https://colab.research.google.com/assets/colab-badge.svg\" alt=\"Open In Colab\"/></a>"
      ]
    },
    {
      "cell_type": "code",
      "execution_count": 1,
      "metadata": {
        "colab": {
          "base_uri": "https://localhost:8080/"
        },
        "id": "fI1zESTpRII0",
        "outputId": "8c5ae31f-fcb4-4419-b59b-8d4009f06f22"
      },
      "outputs": [
        {
          "output_type": "stream",
          "name": "stdout",
          "text": [
            "--2023-05-14 19:43:39--  http://cs.stanford.edu/people/alecmgo/trainingandtestdata.zip\n",
            "Resolving cs.stanford.edu (cs.stanford.edu)... 171.64.64.64\n",
            "Connecting to cs.stanford.edu (cs.stanford.edu)|171.64.64.64|:80... connected.\n",
            "HTTP request sent, awaiting response... 301 Moved Permanently\n",
            "Location: https://cs.stanford.edu/people/alecmgo/trainingandtestdata.zip [following]\n",
            "--2023-05-14 19:43:39--  https://cs.stanford.edu/people/alecmgo/trainingandtestdata.zip\n",
            "Connecting to cs.stanford.edu (cs.stanford.edu)|171.64.64.64|:443... connected.\n",
            "HTTP request sent, awaiting response... 200 OK\n",
            "Length: 81363704 (78M) [application/zip]\n",
            "Saving to: ‘trainingandtestdata.zip’\n",
            "\n",
            "trainingandtestdata 100%[===================>]  77.59M  18.7MB/s    in 5.1s    \n",
            "\n",
            "2023-05-14 19:43:45 (15.1 MB/s) - ‘trainingandtestdata.zip’ saved [81363704/81363704]\n",
            "\n",
            "Archive:  trainingandtestdata.zip\n",
            "  inflating: testdata.manual.2009.06.14.csv  \n",
            "  inflating: training.1600000.processed.noemoticon.csv  \n"
          ]
        }
      ],
      "source": [
        "!wget http://cs.stanford.edu/people/alecmgo/trainingandtestdata.zip\n",
        "!unzip trainingandtestdata.zip"
      ]
    },
    {
      "cell_type": "code",
      "execution_count": 2,
      "metadata": {
        "colab": {
          "base_uri": "https://localhost:8080/"
        },
        "id": "vHUJw6dwfe1e",
        "outputId": "b80161b1-c53c-4df8-afd5-3969b9795f0e"
      },
      "outputs": [
        {
          "output_type": "stream",
          "name": "stdout",
          "text": [
            "Mounted at /content/drive\n"
          ]
        }
      ],
      "source": [
        "from google.colab import drive\n",
        "drive.mount('/content/drive')"
      ]
    },
    {
      "cell_type": "code",
      "execution_count": 3,
      "metadata": {
        "id": "OpbvbzUCWEiT"
      },
      "outputs": [],
      "source": [
        "import pandas as pd\n",
        "import numpy as np\n",
        "import tensorflow as tf\n",
        "from keras.preprocessing.text import Tokenizer\n",
        "from keras.utils import pad_sequences\n",
        "from keras.layers import Embedding, LSTM, Dense, Dropout, RNN\n",
        "from keras.models import Sequential\n"
      ]
    },
    {
      "cell_type": "markdown",
      "metadata": {
        "id": "6BT7iIi9S3_w"
      },
      "source": [
        "#Preprocessing"
      ]
    },
    {
      "cell_type": "code",
      "execution_count": 4,
      "metadata": {
        "id": "DTEMjI9bV3WR"
      },
      "outputs": [],
      "source": [
        "columns = [\"sentiment\",\"id\",\"datetime\",\"query\",\"user\",\"tweet\"]\n",
        "df = pd.read_csv(\"/content/training.1600000.processed.noemoticon.csv\", encoding=\"latin-1\", names=columns)"
      ]
    },
    {
      "cell_type": "code",
      "execution_count": 5,
      "metadata": {
        "colab": {
          "base_uri": "https://localhost:8080/"
        },
        "id": "Sjx0Ut-RX1qg",
        "outputId": "660b7375-6854-4294-ac0e-049c5cda9812"
      },
      "outputs": [
        {
          "output_type": "execute_result",
          "data": {
            "text/plain": [
              "0    800000\n",
              "4    800000\n",
              "Name: sentiment, dtype: int64"
            ]
          },
          "metadata": {},
          "execution_count": 5
        }
      ],
      "source": [
        "df[\"sentiment\"].value_counts()"
      ]
    },
    {
      "cell_type": "code",
      "execution_count": 6,
      "metadata": {
        "colab": {
          "base_uri": "https://localhost:8080/",
          "height": 424
        },
        "id": "R8dNu3B4eJiy",
        "outputId": "557d5e48-2fc2-44d7-a059-c21d1705dc8d"
      },
      "outputs": [
        {
          "output_type": "execute_result",
          "data": {
            "text/plain": [
              "         sentiment                                              tweet\n",
              "0                0  @switchfoot http://twitpic.com/2y1zl - Awww, t...\n",
              "1                0  is upset that he can't update his Facebook by ...\n",
              "2                0  @Kenichan I dived many times for the ball. Man...\n",
              "3                0    my whole body feels itchy and like its on fire \n",
              "4                0  @nationwideclass no, it's not behaving at all....\n",
              "...            ...                                                ...\n",
              "1599995          4  Just woke up. Having no school is the best fee...\n",
              "1599996          4  TheWDB.com - Very cool to hear old Walt interv...\n",
              "1599997          4  Are you ready for your MoJo Makeover? Ask me f...\n",
              "1599998          4  Happy 38th Birthday to my boo of alll time!!! ...\n",
              "1599999          4  happy #charitytuesday @theNSPCC @SparksCharity...\n",
              "\n",
              "[1600000 rows x 2 columns]"
            ],
            "text/html": [
              "\n",
              "  <div id=\"df-dac8dd2b-e6b7-4a73-bdd8-fe5ca22386ee\">\n",
              "    <div class=\"colab-df-container\">\n",
              "      <div>\n",
              "<style scoped>\n",
              "    .dataframe tbody tr th:only-of-type {\n",
              "        vertical-align: middle;\n",
              "    }\n",
              "\n",
              "    .dataframe tbody tr th {\n",
              "        vertical-align: top;\n",
              "    }\n",
              "\n",
              "    .dataframe thead th {\n",
              "        text-align: right;\n",
              "    }\n",
              "</style>\n",
              "<table border=\"1\" class=\"dataframe\">\n",
              "  <thead>\n",
              "    <tr style=\"text-align: right;\">\n",
              "      <th></th>\n",
              "      <th>sentiment</th>\n",
              "      <th>tweet</th>\n",
              "    </tr>\n",
              "  </thead>\n",
              "  <tbody>\n",
              "    <tr>\n",
              "      <th>0</th>\n",
              "      <td>0</td>\n",
              "      <td>@switchfoot http://twitpic.com/2y1zl - Awww, t...</td>\n",
              "    </tr>\n",
              "    <tr>\n",
              "      <th>1</th>\n",
              "      <td>0</td>\n",
              "      <td>is upset that he can't update his Facebook by ...</td>\n",
              "    </tr>\n",
              "    <tr>\n",
              "      <th>2</th>\n",
              "      <td>0</td>\n",
              "      <td>@Kenichan I dived many times for the ball. Man...</td>\n",
              "    </tr>\n",
              "    <tr>\n",
              "      <th>3</th>\n",
              "      <td>0</td>\n",
              "      <td>my whole body feels itchy and like its on fire</td>\n",
              "    </tr>\n",
              "    <tr>\n",
              "      <th>4</th>\n",
              "      <td>0</td>\n",
              "      <td>@nationwideclass no, it's not behaving at all....</td>\n",
              "    </tr>\n",
              "    <tr>\n",
              "      <th>...</th>\n",
              "      <td>...</td>\n",
              "      <td>...</td>\n",
              "    </tr>\n",
              "    <tr>\n",
              "      <th>1599995</th>\n",
              "      <td>4</td>\n",
              "      <td>Just woke up. Having no school is the best fee...</td>\n",
              "    </tr>\n",
              "    <tr>\n",
              "      <th>1599996</th>\n",
              "      <td>4</td>\n",
              "      <td>TheWDB.com - Very cool to hear old Walt interv...</td>\n",
              "    </tr>\n",
              "    <tr>\n",
              "      <th>1599997</th>\n",
              "      <td>4</td>\n",
              "      <td>Are you ready for your MoJo Makeover? Ask me f...</td>\n",
              "    </tr>\n",
              "    <tr>\n",
              "      <th>1599998</th>\n",
              "      <td>4</td>\n",
              "      <td>Happy 38th Birthday to my boo of alll time!!! ...</td>\n",
              "    </tr>\n",
              "    <tr>\n",
              "      <th>1599999</th>\n",
              "      <td>4</td>\n",
              "      <td>happy #charitytuesday @theNSPCC @SparksCharity...</td>\n",
              "    </tr>\n",
              "  </tbody>\n",
              "</table>\n",
              "<p>1600000 rows × 2 columns</p>\n",
              "</div>\n",
              "      <button class=\"colab-df-convert\" onclick=\"convertToInteractive('df-dac8dd2b-e6b7-4a73-bdd8-fe5ca22386ee')\"\n",
              "              title=\"Convert this dataframe to an interactive table.\"\n",
              "              style=\"display:none;\">\n",
              "        \n",
              "  <svg xmlns=\"http://www.w3.org/2000/svg\" height=\"24px\"viewBox=\"0 0 24 24\"\n",
              "       width=\"24px\">\n",
              "    <path d=\"M0 0h24v24H0V0z\" fill=\"none\"/>\n",
              "    <path d=\"M18.56 5.44l.94 2.06.94-2.06 2.06-.94-2.06-.94-.94-2.06-.94 2.06-2.06.94zm-11 1L8.5 8.5l.94-2.06 2.06-.94-2.06-.94L8.5 2.5l-.94 2.06-2.06.94zm10 10l.94 2.06.94-2.06 2.06-.94-2.06-.94-.94-2.06-.94 2.06-2.06.94z\"/><path d=\"M17.41 7.96l-1.37-1.37c-.4-.4-.92-.59-1.43-.59-.52 0-1.04.2-1.43.59L10.3 9.45l-7.72 7.72c-.78.78-.78 2.05 0 2.83L4 21.41c.39.39.9.59 1.41.59.51 0 1.02-.2 1.41-.59l7.78-7.78 2.81-2.81c.8-.78.8-2.07 0-2.86zM5.41 20L4 18.59l7.72-7.72 1.47 1.35L5.41 20z\"/>\n",
              "  </svg>\n",
              "      </button>\n",
              "      \n",
              "  <style>\n",
              "    .colab-df-container {\n",
              "      display:flex;\n",
              "      flex-wrap:wrap;\n",
              "      gap: 12px;\n",
              "    }\n",
              "\n",
              "    .colab-df-convert {\n",
              "      background-color: #E8F0FE;\n",
              "      border: none;\n",
              "      border-radius: 50%;\n",
              "      cursor: pointer;\n",
              "      display: none;\n",
              "      fill: #1967D2;\n",
              "      height: 32px;\n",
              "      padding: 0 0 0 0;\n",
              "      width: 32px;\n",
              "    }\n",
              "\n",
              "    .colab-df-convert:hover {\n",
              "      background-color: #E2EBFA;\n",
              "      box-shadow: 0px 1px 2px rgba(60, 64, 67, 0.3), 0px 1px 3px 1px rgba(60, 64, 67, 0.15);\n",
              "      fill: #174EA6;\n",
              "    }\n",
              "\n",
              "    [theme=dark] .colab-df-convert {\n",
              "      background-color: #3B4455;\n",
              "      fill: #D2E3FC;\n",
              "    }\n",
              "\n",
              "    [theme=dark] .colab-df-convert:hover {\n",
              "      background-color: #434B5C;\n",
              "      box-shadow: 0px 1px 3px 1px rgba(0, 0, 0, 0.15);\n",
              "      filter: drop-shadow(0px 1px 2px rgba(0, 0, 0, 0.3));\n",
              "      fill: #FFFFFF;\n",
              "    }\n",
              "  </style>\n",
              "\n",
              "      <script>\n",
              "        const buttonEl =\n",
              "          document.querySelector('#df-dac8dd2b-e6b7-4a73-bdd8-fe5ca22386ee button.colab-df-convert');\n",
              "        buttonEl.style.display =\n",
              "          google.colab.kernel.accessAllowed ? 'block' : 'none';\n",
              "\n",
              "        async function convertToInteractive(key) {\n",
              "          const element = document.querySelector('#df-dac8dd2b-e6b7-4a73-bdd8-fe5ca22386ee');\n",
              "          const dataTable =\n",
              "            await google.colab.kernel.invokeFunction('convertToInteractive',\n",
              "                                                     [key], {});\n",
              "          if (!dataTable) return;\n",
              "\n",
              "          const docLinkHtml = 'Like what you see? Visit the ' +\n",
              "            '<a target=\"_blank\" href=https://colab.research.google.com/notebooks/data_table.ipynb>data table notebook</a>'\n",
              "            + ' to learn more about interactive tables.';\n",
              "          element.innerHTML = '';\n",
              "          dataTable['output_type'] = 'display_data';\n",
              "          await google.colab.output.renderOutput(dataTable, element);\n",
              "          const docLink = document.createElement('div');\n",
              "          docLink.innerHTML = docLinkHtml;\n",
              "          element.appendChild(docLink);\n",
              "        }\n",
              "      </script>\n",
              "    </div>\n",
              "  </div>\n",
              "  "
            ]
          },
          "metadata": {},
          "execution_count": 6
        }
      ],
      "source": [
        "df = df.loc[:,[\"sentiment\",\"tweet\"]]\n",
        "df"
      ]
    },
    {
      "cell_type": "code",
      "execution_count": 7,
      "metadata": {
        "id": "yiqqBRMLZlS-"
      },
      "outputs": [],
      "source": [
        "from sklearn.model_selection import train_test_split\n",
        "\n",
        "samples_fraction = 0.08\n",
        "stratify_on = \"sentiment\"\n",
        "\n",
        "_, dataset = train_test_split(df, stratify=df[stratify_on], \n",
        "                                 test_size=samples_fraction,\n",
        "                                 random_state=76)\n",
        "\n",
        "# Reset the index of the sampled DataFrame\n",
        "dataset.reset_index(drop=True, inplace=True)\n"
      ]
    },
    {
      "cell_type": "code",
      "execution_count": 8,
      "metadata": {
        "colab": {
          "base_uri": "https://localhost:8080/"
        },
        "id": "Gmz4HeOLdsBK",
        "outputId": "8d5c115e-f713-41f6-9645-f4813036350a"
      },
      "outputs": [
        {
          "output_type": "execute_result",
          "data": {
            "text/plain": [
              "0    64000\n",
              "4    64000\n",
              "Name: sentiment, dtype: int64"
            ]
          },
          "metadata": {},
          "execution_count": 8
        }
      ],
      "source": [
        "dataset[\"sentiment\"].value_counts()"
      ]
    },
    {
      "cell_type": "code",
      "execution_count": 9,
      "metadata": {
        "colab": {
          "base_uri": "https://localhost:8080/"
        },
        "id": "HbpGmQs3sluy",
        "outputId": "af736757-bd5c-48a2-f7f9-9fde27ac8679"
      },
      "outputs": [
        {
          "output_type": "stream",
          "name": "stderr",
          "text": [
            "[nltk_data] Downloading package punkt to /root/nltk_data...\n",
            "[nltk_data]   Unzipping tokenizers/punkt.zip.\n",
            "[nltk_data] Downloading package wordnet to /root/nltk_data...\n",
            "[nltk_data] Downloading package stopwords to /root/nltk_data...\n",
            "[nltk_data]   Unzipping corpora/stopwords.zip.\n"
          ]
        }
      ],
      "source": [
        "import re\n",
        "import nltk\n",
        "from nltk.stem import PorterStemmer\n",
        "from nltk.corpus import stopwords\n",
        "from nltk.tokenize import word_tokenize\n",
        "\n",
        "nltk.download('punkt')\n",
        "nltk.download('wordnet')\n",
        "nltk.download('stopwords')\n",
        "\n",
        "stop_words = stopwords.words('english')\n",
        "\n",
        "def preprocess_tweet(tweet, remove_stopwords=True, stem_words=True, handle_negation=True):\n",
        "    # Convert to lowercase\n",
        "    tweet = tweet.lower()\n",
        "    \n",
        "    # Remove URLs, mentions, and hashtags\n",
        "    tweet = re.sub(r\"http\\S+|www\\S+|https\\S+|\\@\\w+|\\#\\w+\", \"\", tweet)\n",
        "    \n",
        "    # Remove punctuation\n",
        "    tweet = re.sub(r'[^\\w\\s]', '', tweet)\n",
        "    \n",
        "    # Remove numbers\n",
        "    tweet = re.sub(r'\\d+', '', tweet)\n",
        "    \n",
        "    # Remove stopwords \n",
        "    if remove_stopwords:\n",
        "        tweet_tokens = tweet.split()\n",
        "        tweet = \" \".join([word for word in tweet_tokens if word not in stop_words])\n",
        "    \n",
        "    # Stem words \n",
        "    if stem_words:\n",
        "        stemmer = PorterStemmer()\n",
        "        tweet_tokens = tweet.split()\n",
        "        tweet = \" \".join([stemmer.stem(word) for word in tweet_tokens])\n",
        "        \n",
        "    # Handle negation \n",
        "    if handle_negation:\n",
        "        tweet_tokens = word_tokenize(tweet)\n",
        "        negation_flag = False\n",
        "        negated_tokens = []\n",
        "        for i, token in enumerate(tweet_tokens):\n",
        "            if token in [\"not\", \"n't\", \"no\"]:\n",
        "                negation_flag = True\n",
        "            elif negation_flag:\n",
        "                negated_tokens.append(\"not_\" + token)\n",
        "                negation_flag = False\n",
        "            else:\n",
        "                negated_tokens.append(token)\n",
        "        tweet = \" \".join(negated_tokens)\n",
        "    \n",
        "    return tweet\n"
      ]
    },
    {
      "cell_type": "code",
      "execution_count": 10,
      "metadata": {
        "colab": {
          "base_uri": "https://localhost:8080/"
        },
        "id": "o55eEstft44G",
        "outputId": "b01bff89-ac04-455e-e05f-c4bbd0f42402"
      },
      "outputs": [
        {
          "output_type": "stream",
          "name": "stderr",
          "text": [
            "100%|██████████| 128000/128000 [00:39<00:00, 3249.46it/s]\n"
          ]
        }
      ],
      "source": [
        "from tqdm import tqdm\n",
        "tqdm.pandas()\n",
        "\n",
        "\n",
        "dataset[\"tweet\"] = dataset[\"tweet\"].progress_apply(preprocess_tweet)"
      ]
    },
    {
      "cell_type": "code",
      "execution_count": 11,
      "metadata": {
        "id": "b1bs0urOkyfX"
      },
      "outputs": [],
      "source": [
        "from keras.utils import to_categorical\n",
        "X = dataset[\"tweet\"]\n",
        "y = dataset[\"sentiment\"]"
      ]
    },
    {
      "cell_type": "code",
      "execution_count": 12,
      "metadata": {
        "id": "5oOVFfxJWkkV"
      },
      "outputs": [],
      "source": [
        "y = y.replace(4,1)\n",
        "y = y.replace(4,1)"
      ]
    },
    {
      "cell_type": "code",
      "execution_count": 13,
      "metadata": {
        "colab": {
          "base_uri": "https://localhost:8080/"
        },
        "id": "_SGNl2V2fGGv",
        "outputId": "581614e4-bbe6-495c-e406-998552a83db6"
      },
      "outputs": [
        {
          "output_type": "execute_result",
          "data": {
            "text/plain": [
              "0"
            ]
          },
          "metadata": {},
          "execution_count": 13
        }
      ],
      "source": [
        "import gc\n",
        "\n",
        "del df\n",
        "gc.collect() # collect garbage "
      ]
    },
    {
      "cell_type": "code",
      "execution_count": 14,
      "metadata": {
        "id": "JrQsMehAfdrS"
      },
      "outputs": [],
      "source": [
        "X_train, X_test, y_train, y_test = train_test_split(X, y, test_size=0.2, random_state=76)\n",
        "\n",
        "y_train = to_categorical(y_train, num_classes=2)\n",
        "y_test = to_categorical(y_test, num_classes=2)\n"
      ]
    },
    {
      "cell_type": "code",
      "execution_count": 15,
      "metadata": {
        "id": "QUQNR7itm6Oc"
      },
      "outputs": [],
      "source": [
        "vocab_size = 15000\n",
        "tokenizer = Tokenizer(num_words=vocab_size)\n",
        "tokenizer.fit_on_texts(X_train)"
      ]
    },
    {
      "cell_type": "code",
      "execution_count": 16,
      "metadata": {
        "id": "j2BDoz4M6j3g"
      },
      "outputs": [],
      "source": [
        "X_train_seq = tokenizer.texts_to_sequences(X_train)\n",
        "X_test_seq = tokenizer.texts_to_sequences(X_test)"
      ]
    },
    {
      "cell_type": "code",
      "execution_count": 17,
      "metadata": {
        "id": "PKLPxVF17AP4"
      },
      "outputs": [],
      "source": [
        "# Pad the sequences to a fixed length\n",
        "max_length = 150\n",
        "X_train_pad = pad_sequences(X_train_seq, maxlen=max_length)\n",
        "X_test_pad = pad_sequences(X_test_seq, maxlen=max_length)\n"
      ]
    },
    {
      "cell_type": "markdown",
      "metadata": {
        "id": "m1v5XpXUStEz"
      },
      "source": [
        "# GloVe GRU"
      ]
    },
    {
      "cell_type": "markdown",
      "metadata": {
        "id": "rTs3GS0UTz6e"
      },
      "source": [
        "## Process and Train"
      ]
    },
    {
      "cell_type": "code",
      "execution_count": 18,
      "metadata": {
        "colab": {
          "base_uri": "https://localhost:8080/"
        },
        "id": "GJjBfkDE9NZv",
        "outputId": "65d8062d-eeb9-4f7c-fc2e-c7b2861eddc4"
      },
      "outputs": [
        {
          "output_type": "stream",
          "name": "stdout",
          "text": [
            "Looking in indexes: https://pypi.org/simple, https://us-python.pkg.dev/colab-wheels/public/simple/\n",
            "Requirement already satisfied: kaggle in /usr/local/lib/python3.10/dist-packages (1.5.13)\n",
            "Requirement already satisfied: six>=1.10 in /usr/local/lib/python3.10/dist-packages (from kaggle) (1.16.0)\n",
            "Requirement already satisfied: certifi in /usr/local/lib/python3.10/dist-packages (from kaggle) (2022.12.7)\n",
            "Requirement already satisfied: python-dateutil in /usr/local/lib/python3.10/dist-packages (from kaggle) (2.8.2)\n",
            "Requirement already satisfied: requests in /usr/local/lib/python3.10/dist-packages (from kaggle) (2.27.1)\n",
            "Requirement already satisfied: tqdm in /usr/local/lib/python3.10/dist-packages (from kaggle) (4.65.0)\n",
            "Requirement already satisfied: python-slugify in /usr/local/lib/python3.10/dist-packages (from kaggle) (8.0.1)\n",
            "Requirement already satisfied: urllib3 in /usr/local/lib/python3.10/dist-packages (from kaggle) (1.26.15)\n",
            "Requirement already satisfied: text-unidecode>=1.3 in /usr/local/lib/python3.10/dist-packages (from python-slugify->kaggle) (1.3)\n",
            "Requirement already satisfied: charset-normalizer~=2.0.0 in /usr/local/lib/python3.10/dist-packages (from requests->kaggle) (2.0.12)\n",
            "Requirement already satisfied: idna<4,>=2.5 in /usr/local/lib/python3.10/dist-packages (from requests->kaggle) (3.4)\n",
            "Downloading glove-global-vectors-for-word-representation.zip to /content\n",
            "100% 457M/458M [00:14<00:00, 39.3MB/s]\n",
            "100% 458M/458M [00:14<00:00, 34.0MB/s]\n",
            "Archive:  /content/glove-global-vectors-for-word-representation.zip\n",
            "  inflating: glove.6B.100d.txt       \n",
            "  inflating: glove.6B.200d.txt       \n",
            "  inflating: glove.6B.50d.txt        \n"
          ]
        }
      ],
      "source": [
        "!pip install kaggle ;\n",
        "!mkdir ~/.kaggle/ ;\n",
        "!cp /content/drive/MyDrive/kaggle.json ~/.kaggle/ ;\n",
        "!chmod 600 ~/.kaggle/kaggle.json ;\n",
        "!kaggle datasets download -d rtatman/glove-global-vectors-for-word-representation\n",
        "!unzip  /content/glove-global-vectors-for-word-representation.zip"
      ]
    },
    {
      "cell_type": "code",
      "execution_count": 19,
      "metadata": {
        "id": "H7g5llbf6MSY"
      },
      "outputs": [],
      "source": [
        "# # Use one-hot vectors for one option\n",
        "# X_train_onehot = tokenizer.sequences_to_matrix(X_train_seq, mode='binary')\n",
        "# X_test_onehot = tokenizer.sequences_to_matrix(X_test_seq, mode='binary')\n",
        "\n",
        "# Use GloVe embeddings for another option\n",
        "glove_embeddings_index = {}\n",
        "with open('glove.6B.200d.txt') as f:\n",
        "    for line in f:\n",
        "        values = line.split()\n",
        "        word = values[0]\n",
        "        coefs = np.asarray(values[1:], dtype='float32')\n",
        "        glove_embeddings_index[word] = coefs\n",
        "embedding_dim = 200\n",
        "glove_embedding_matrix = np.zeros((vocab_size, embedding_dim))\n",
        "for word, i in tokenizer.word_index.items():\n",
        "    if i >= vocab_size:\n",
        "        break\n",
        "    embedding_vector = glove_embeddings_index.get(word)\n",
        "    if embedding_vector is not None:\n",
        "        glove_embedding_matrix[i] = embedding_vector\n"
      ]
    },
    {
      "cell_type": "code",
      "execution_count": 20,
      "metadata": {
        "colab": {
          "base_uri": "https://localhost:8080/"
        },
        "id": "qWVr4ep6-Y4z",
        "outputId": "a285ad70-46b4-4728-c3d2-30fb567b9753"
      },
      "outputs": [
        {
          "output_type": "stream",
          "name": "stdout",
          "text": [
            "Epoch 1/100\n",
            "319/320 [============================>.] - ETA: 0s - loss: 0.5576 - accuracy: 0.7139\n",
            "Epoch 1: val_loss improved from inf to 0.53139, saving model to my_best_model.hdf5\n",
            "320/320 [==============================] - 14s 23ms/step - loss: 0.5575 - accuracy: 0.7139 - val_loss: 0.5314 - val_accuracy: 0.7319\n",
            "Epoch 2/100\n",
            "319/320 [============================>.] - ETA: 0s - loss: 0.5141 - accuracy: 0.7451\n",
            "Epoch 2: val_loss improved from 0.53139 to 0.52490, saving model to my_best_model.hdf5\n",
            "320/320 [==============================] - 7s 22ms/step - loss: 0.5140 - accuracy: 0.7452 - val_loss: 0.5249 - val_accuracy: 0.7359\n",
            "Epoch 3/100\n",
            "318/320 [============================>.] - ETA: 0s - loss: 0.4945 - accuracy: 0.7583\n",
            "Epoch 3: val_loss did not improve from 0.52490\n",
            "320/320 [==============================] - 7s 21ms/step - loss: 0.4947 - accuracy: 0.7580 - val_loss: 0.5261 - val_accuracy: 0.7388\n",
            "Epoch 4/100\n",
            "319/320 [============================>.] - ETA: 0s - loss: 0.4805 - accuracy: 0.7674\n",
            "Epoch 4: val_loss did not improve from 0.52490\n",
            "320/320 [==============================] - 7s 22ms/step - loss: 0.4806 - accuracy: 0.7674 - val_loss: 0.5268 - val_accuracy: 0.7321\n",
            "Epoch 5/100\n",
            "319/320 [============================>.] - ETA: 0s - loss: 0.4683 - accuracy: 0.7748\n",
            "Epoch 5: val_loss did not improve from 0.52490\n",
            "320/320 [==============================] - 7s 21ms/step - loss: 0.4684 - accuracy: 0.7747 - val_loss: 0.5326 - val_accuracy: 0.7339\n",
            "Epoch 6/100\n",
            "319/320 [============================>.] - ETA: 0s - loss: 0.4620 - accuracy: 0.7793\n",
            "Epoch 6: val_loss did not improve from 0.52490\n",
            "320/320 [==============================] - 7s 22ms/step - loss: 0.4622 - accuracy: 0.7792 - val_loss: 0.5356 - val_accuracy: 0.7365\n",
            "Epoch 7/100\n",
            "319/320 [============================>.] - ETA: 0s - loss: 0.4538 - accuracy: 0.7838\n",
            "Epoch 7: val_loss did not improve from 0.52490\n",
            "320/320 [==============================] - 7s 21ms/step - loss: 0.4539 - accuracy: 0.7838 - val_loss: 0.5420 - val_accuracy: 0.7319\n"
          ]
        }
      ],
      "source": [
        "from keras.callbacks import ModelCheckpoint\n",
        "from keras.layers import CuDNNLSTM, Dropout,SimpleRNN, GRU\n",
        "\n",
        "filepath = 'my_best_model.hdf5'\n",
        "\n",
        "callback = tf.keras.callbacks.EarlyStopping(monitor=\"val_loss\",patience=5,restore_best_weights=True)\n",
        "checkpoint = ModelCheckpoint(filepath=filepath, \n",
        "                             monitor='val_loss',\n",
        "                             verbose=1, \n",
        "                             save_best_only=True,\n",
        "                             mode='min')\n",
        "opt = tf.keras.optimizers.Adam(learning_rate=0.01)\n",
        "\n",
        "\n",
        "GRU_glove = Sequential()\n",
        "GRU_glove.add(Embedding(vocab_size, embedding_dim, input_length=max_length, weights=[glove_embedding_matrix], trainable=False))\n",
        "GRU_glove.add(GRU(150))\n",
        "GRU_glove.add(Dropout(0.2))\n",
        "GRU_glove.add(Dense(2, activation='softmax'))\n",
        "GRU_glove.compile(loss='categorical_crossentropy', optimizer=opt, metrics=['accuracy'])\n",
        "\n",
        "\n",
        "hist = GRU_glove.fit(X_train_pad, y_train, epochs=100, batch_size=256, validation_split=0.2, callbacks=[checkpoint,callback])\n"
      ]
    },
    {
      "cell_type": "markdown",
      "metadata": {
        "id": "XA43rbnBTwaW"
      },
      "source": [
        "## Results"
      ]
    },
    {
      "cell_type": "code",
      "execution_count": 21,
      "metadata": {
        "id": "8kDS-oQkpWnp",
        "colab": {
          "base_uri": "https://localhost:8080/"
        },
        "outputId": "44a070fc-408e-42b6-ea9c-07b312a3e740"
      },
      "outputs": [
        {
          "output_type": "stream",
          "name": "stdout",
          "text": [
            "800/800 [==============================] - 3s 4ms/step\n"
          ]
        }
      ],
      "source": [
        "y_pred = GRU_glove.predict(X_test_pad)"
      ]
    },
    {
      "cell_type": "code",
      "execution_count": 22,
      "metadata": {
        "id": "jhdpH5mAp7mN",
        "colab": {
          "base_uri": "https://localhost:8080/",
          "height": 449
        },
        "outputId": "55d3a1ca-c9be-44c1-e747-9899fa98509c"
      },
      "outputs": [
        {
          "output_type": "display_data",
          "data": {
            "text/plain": [
              "<Figure size 640x480 with 2 Axes>"
            ],
            "image/png": "[encoded data removed]"
          },
          "metadata": {}
        }
      ],
      "source": [
        "from sklearn.metrics import confusion_matrix, ConfusionMatrixDisplay\n",
        "import matplotlib.pyplot as plt\n",
        "\n",
        "\n",
        "\n",
        "y_pred_classes = np.argmax(y_pred, axis=1)\n",
        "y_true_classes = np.argmax(y_test, axis=1)\n",
        "conf_mat = confusion_matrix(y_true_classes, y_pred_classes)\n",
        "disp = ConfusionMatrixDisplay(conf_mat, display_labels=['Negative', 'Positive'])\n",
        "disp.plot()\n",
        "plt.show()\n"
      ]
    },
    {
      "cell_type": "code",
      "execution_count": 23,
      "metadata": {
        "id": "dojnIvNCrPhG",
        "colab": {
          "base_uri": "https://localhost:8080/"
        },
        "outputId": "1122475e-0ef0-481b-fbdb-7b676c61952c"
      },
      "outputs": [
        {
          "output_type": "stream",
          "name": "stdout",
          "text": [
            "              precision    recall  f1-score   support\n",
            "\n",
            "    Negative       0.76      0.70      0.73     12851\n",
            "    Positive       0.72      0.78      0.75     12749\n",
            "\n",
            "    accuracy                           0.74     25600\n",
            "   macro avg       0.74      0.74      0.74     25600\n",
            "weighted avg       0.74      0.74      0.74     25600\n",
            "\n"
          ]
        }
      ],
      "source": [
        "from sklearn.metrics import classification_report\n",
        "target_names = [\"Negative\",\"Positive\"]\n",
        "print(classification_report(y_true_classes, y_pred_classes, target_names=target_names))\n"
      ]
    },
    {
      "cell_type": "markdown",
      "metadata": {
        "id": "32W-iBeMAJTn"
      },
      "source": [
        "# Word2Vec GRU"
      ]
    },
    {
      "cell_type": "markdown",
      "metadata": {
        "id": "yVocKf1sTr6n"
      },
      "source": [
        "## Process and Train"
      ]
    },
    {
      "cell_type": "code",
      "execution_count": 24,
      "metadata": {
        "id": "otj-XhfY3mCe",
        "colab": {
          "base_uri": "https://localhost:8080/"
        },
        "outputId": "d40e5319-7ec4-46a9-b8d9-4d75b0bbba3c"
      },
      "outputs": [
        {
          "output_type": "stream",
          "name": "stderr",
          "text": [
            "100%|██████████| 128000/128000 [00:13<00:00, 9204.21it/s] \n"
          ]
        }
      ],
      "source": [
        "tqdm.pandas()\n",
        "dataset[\"tokenized\"] = dataset[\"tweet\"].progress_apply(word_tokenize)"
      ]
    },
    {
      "cell_type": "code",
      "execution_count": 25,
      "metadata": {
        "id": "emOZhFK2_dj_",
        "colab": {
          "base_uri": "https://localhost:8080/"
        },
        "outputId": "69de1c72-f441-4dbf-8c1c-9003d741c868"
      },
      "outputs": [
        {
          "output_type": "execute_result",
          "data": {
            "text/plain": [
              "0                                              [woke, work]\n",
              "1           [feel, like, im, person, world, work, saturday]\n",
              "2         [ill, call, u, want, tell, twitter, mi, biz, lol]\n",
              "3         [need, get, comic, final, get, back, printer, ...\n",
              "4         [think, coz, ask, late, lol, like, fair, argum...\n",
              "                                ...                        \n",
              "127995    [omg, slip, stair, hous, hurt, im, even, drunk...\n",
              "127996    [someon, pleas, open, decent, cafe, trawalla, ...\n",
              "127997                              [comput, problem, byte]\n",
              "127998    [surround, shiraz, univers, took, student, kno...\n",
              "127999    [lot, agenda, today, studi, blog, updat, featu...\n",
              "Name: tokenized, Length: 128000, dtype: object"
            ]
          },
          "metadata": {},
          "execution_count": 25
        }
      ],
      "source": [
        "dataset[\"tokenized\"]"
      ]
    },
    {
      "cell_type": "code",
      "execution_count": 26,
      "metadata": {
        "id": "Kj3nFlNR_Sng"
      },
      "outputs": [],
      "source": [
        "import gensim\n",
        "from gensim.models import Word2Vec\n",
        "\n",
        "\n",
        "w2v_model = Word2Vec(dataset[\"tokenized\"].to_numpy(), vector_size=embedding_dim, window=5, min_count=1, workers=4)\n"
      ]
    },
    {
      "cell_type": "code",
      "execution_count": 27,
      "metadata": {
        "id": "6RFQltnPBcw1",
        "colab": {
          "base_uri": "https://localhost:8080/"
        },
        "outputId": "91b4aa8a-2f75-43d9-def2-14d4ea9df5dd"
      },
      "outputs": [
        {
          "output_type": "stream",
          "name": "stdout",
          "text": [
            "the word not is not available\n",
            "the word o is not available\n",
            "the word t is not available\n",
            "the word the is not available\n",
            "the word s is not available\n"
          ]
        }
      ],
      "source": [
        "w2v_embedding_matrix = np.zeros((vocab_size, embedding_dim))\n",
        "for word, i in tokenizer.word_index.items():\n",
        "    if i >= vocab_size:\n",
        "        break\n",
        "    try: \n",
        "        embedding_vector = w2v_model.wv.get_vector(word)\n",
        "    except KeyError:\n",
        "        print(f\"the word {word} is not available\")\n",
        "    if embedding_vector is not None:\n",
        "        w2v_embedding_matrix[i] = embedding_vector\n"
      ]
    },
    {
      "cell_type": "code",
      "execution_count": 28,
      "metadata": {
        "id": "3qlBKa-xBnqc",
        "colab": {
          "base_uri": "https://localhost:8080/"
        },
        "outputId": "fa706909-47a3-4cfc-b4e7-25f4264eeac6"
      },
      "outputs": [
        {
          "output_type": "stream",
          "name": "stdout",
          "text": [
            "Epoch 1/100\n",
            "319/320 [============================>.] - ETA: 0s - loss: 0.5624 - accuracy: 0.7164\n",
            "Epoch 1: val_loss improved from inf to 0.52118, saving model to my_best_model.hdf5\n",
            "320/320 [==============================] - 10s 24ms/step - loss: 0.5623 - accuracy: 0.7166 - val_loss: 0.5212 - val_accuracy: 0.7376\n",
            "Epoch 2/100\n",
            "319/320 [============================>.] - ETA: 0s - loss: 0.5291 - accuracy: 0.7351\n",
            "Epoch 2: val_loss improved from 0.52118 to 0.51509, saving model to my_best_model.hdf5\n",
            "320/320 [==============================] - 7s 22ms/step - loss: 0.5291 - accuracy: 0.7352 - val_loss: 0.5151 - val_accuracy: 0.7427\n",
            "Epoch 3/100\n",
            "319/320 [============================>.] - ETA: 0s - loss: 0.5258 - accuracy: 0.7377\n",
            "Epoch 3: val_loss improved from 0.51509 to 0.51466, saving model to my_best_model.hdf5\n",
            "320/320 [==============================] - 7s 22ms/step - loss: 0.5256 - accuracy: 0.7377 - val_loss: 0.5147 - val_accuracy: 0.7432\n",
            "Epoch 4/100\n",
            "319/320 [============================>.] - ETA: 0s - loss: 0.5223 - accuracy: 0.7414\n",
            "Epoch 4: val_loss improved from 0.51466 to 0.51257, saving model to my_best_model.hdf5\n",
            "320/320 [==============================] - 7s 22ms/step - loss: 0.5225 - accuracy: 0.7413 - val_loss: 0.5126 - val_accuracy: 0.7417\n",
            "Epoch 5/100\n",
            "319/320 [============================>.] - ETA: 0s - loss: 0.5208 - accuracy: 0.7402\n",
            "Epoch 5: val_loss improved from 0.51257 to 0.51104, saving model to my_best_model.hdf5\n",
            "320/320 [==============================] - 7s 22ms/step - loss: 0.5211 - accuracy: 0.7400 - val_loss: 0.5110 - val_accuracy: 0.7444\n",
            "Epoch 6/100\n",
            "318/320 [============================>.] - ETA: 0s - loss: 0.5185 - accuracy: 0.7445\n",
            "Epoch 6: val_loss improved from 0.51104 to 0.50920, saving model to my_best_model.hdf5\n",
            "320/320 [==============================] - 7s 22ms/step - loss: 0.5185 - accuracy: 0.7445 - val_loss: 0.5092 - val_accuracy: 0.7482\n",
            "Epoch 7/100\n",
            "319/320 [============================>.] - ETA: 0s - loss: 0.5184 - accuracy: 0.7424\n",
            "Epoch 7: val_loss did not improve from 0.50920\n",
            "320/320 [==============================] - 7s 22ms/step - loss: 0.5184 - accuracy: 0.7424 - val_loss: 0.5153 - val_accuracy: 0.7469\n",
            "Epoch 8/100\n",
            "319/320 [============================>.] - ETA: 0s - loss: 0.5188 - accuracy: 0.7418\n",
            "Epoch 8: val_loss improved from 0.50920 to 0.50596, saving model to my_best_model.hdf5\n",
            "320/320 [==============================] - 7s 22ms/step - loss: 0.5188 - accuracy: 0.7418 - val_loss: 0.5060 - val_accuracy: 0.7481\n",
            "Epoch 9/100\n",
            "319/320 [============================>.] - ETA: 0s - loss: 0.5139 - accuracy: 0.7466\n",
            "Epoch 9: val_loss did not improve from 0.50596\n",
            "320/320 [==============================] - 8s 24ms/step - loss: 0.5138 - accuracy: 0.7467 - val_loss: 0.5068 - val_accuracy: 0.7480\n",
            "Epoch 10/100\n",
            "319/320 [============================>.] - ETA: 0s - loss: 0.5170 - accuracy: 0.7443\n",
            "Epoch 10: val_loss did not improve from 0.50596\n",
            "320/320 [==============================] - 7s 22ms/step - loss: 0.5170 - accuracy: 0.7443 - val_loss: 0.5094 - val_accuracy: 0.7473\n",
            "Epoch 11/100\n",
            "318/320 [============================>.] - ETA: 0s - loss: 0.5154 - accuracy: 0.7468\n",
            "Epoch 11: val_loss did not improve from 0.50596\n",
            "320/320 [==============================] - 7s 22ms/step - loss: 0.5154 - accuracy: 0.7469 - val_loss: 0.5071 - val_accuracy: 0.7447\n",
            "Epoch 12/100\n",
            "319/320 [============================>.] - ETA: 0s - loss: 0.5184 - accuracy: 0.7441\n",
            "Epoch 12: val_loss did not improve from 0.50596\n",
            "320/320 [==============================] - 7s 22ms/step - loss: 0.5184 - accuracy: 0.7442 - val_loss: 0.5075 - val_accuracy: 0.7472\n",
            "Epoch 13/100\n",
            "319/320 [============================>.] - ETA: 0s - loss: 0.5160 - accuracy: 0.7453\n",
            "Epoch 13: val_loss did not improve from 0.50596\n",
            "320/320 [==============================] - 8s 24ms/step - loss: 0.5160 - accuracy: 0.7453 - val_loss: 0.5108 - val_accuracy: 0.7467\n"
          ]
        }
      ],
      "source": [
        "filepath = 'my_best_model.hdf5'\n",
        "\n",
        "callback = tf.keras.callbacks.EarlyStopping(monitor=\"val_loss\",patience=5,restore_best_weights=True)\n",
        "checkpoint = ModelCheckpoint(filepath=filepath, \n",
        "                             monitor='val_loss',\n",
        "                             verbose=1, \n",
        "                             save_best_only=True,\n",
        "                             mode='min')\n",
        "opt = tf.keras.optimizers.Adam(learning_rate=0.01)\n",
        "\n",
        "\n",
        "GRU_w2v = Sequential()\n",
        "GRU_w2v.add(Embedding(vocab_size, embedding_dim, input_length=max_length, weights=[w2v_embedding_matrix], trainable=False))\n",
        "GRU_w2v.add(GRU(150))\n",
        "GRU_w2v.add(Dropout(0.4))\n",
        "GRU_w2v.add(Dense(2, activation='softmax'))\n",
        "GRU_w2v.compile(loss='categorical_crossentropy', optimizer=opt, metrics=['accuracy'])\n",
        "\n",
        "\n",
        "hist = GRU_w2v.fit(X_train_pad, y_train, epochs=100, batch_size=256, validation_split=0.2, callbacks=[checkpoint,callback])\n"
      ]
    },
    {
      "cell_type": "code",
      "execution_count": 29,
      "metadata": {
        "id": "h1OWi4qMIP8X",
        "colab": {
          "base_uri": "https://localhost:8080/"
        },
        "outputId": "bfede623-3762-487b-b1b3-386f391b2eb9"
      },
      "outputs": [
        {
          "output_type": "stream",
          "name": "stdout",
          "text": [
            "800/800 [==============================] - 3s 3ms/step\n"
          ]
        }
      ],
      "source": [
        "y_pred = GRU_w2v.predict(X_test_pad)"
      ]
    },
    {
      "cell_type": "markdown",
      "metadata": {
        "id": "6ls4J6RkTl8d"
      },
      "source": [
        "## Results"
      ]
    },
    {
      "cell_type": "code",
      "execution_count": 30,
      "metadata": {
        "id": "qKFpu32dISS5",
        "colab": {
          "base_uri": "https://localhost:8080/",
          "height": 449
        },
        "outputId": "1c4b7f28-2e95-4201-b401-2a6cb9bbbeee"
      },
      "outputs": [
        {
          "output_type": "display_data",
          "data": {
            "text/plain": [
              "<Figure size 640x480 with 2 Axes>"
            ],
            "image/png": "[encoded data removed]"
          },
          "metadata": {}
        }
      ],
      "source": [
        "from sklearn.metrics import confusion_matrix, ConfusionMatrixDisplay\n",
        "import matplotlib.pyplot as plt\n",
        "\n",
        "\n",
        "\n",
        "y_pred_classes = np.argmax(y_pred, axis=1)\n",
        "y_true_classes = np.argmax(y_test, axis=1)\n",
        "conf_mat = confusion_matrix(y_true_classes, y_pred_classes)\n",
        "disp = ConfusionMatrixDisplay(conf_mat, display_labels=['Negative', 'Positive'])\n",
        "disp.plot()\n",
        "plt.show()\n"
      ]
    },
    {
      "cell_type": "code",
      "execution_count": 31,
      "metadata": {
        "id": "rqRTUJJNIVXj",
        "colab": {
          "base_uri": "https://localhost:8080/"
        },
        "outputId": "0075ea4b-2746-468f-d658-b3d7482e0cf9"
      },
      "outputs": [
        {
          "output_type": "stream",
          "name": "stdout",
          "text": [
            "              precision    recall  f1-score   support\n",
            "\n",
            "    Negative       0.76      0.74      0.75     12851\n",
            "    Positive       0.74      0.77      0.76     12749\n",
            "\n",
            "    accuracy                           0.75     25600\n",
            "   macro avg       0.75      0.75      0.75     25600\n",
            "weighted avg       0.75      0.75      0.75     25600\n",
            "\n"
          ]
        }
      ],
      "source": [
        "from sklearn.metrics import classification_report\n",
        "target_names = [\"Negative\",\"Positive\"]\n",
        "print(classification_report(y_true_classes, y_pred_classes, target_names=target_names))\n"
      ]
    },
    {
      "cell_type": "markdown",
      "metadata": {
        "id": "DpOi0BtBSA9M"
      },
      "source": [
        "#One-Hot GRU"
      ]
    },
    {
      "cell_type": "markdown",
      "metadata": {
        "id": "vPsN6e7hT7QP"
      },
      "source": [
        "## Process and Train"
      ]
    },
    {
      "cell_type": "code",
      "execution_count": 32,
      "metadata": {
        "id": "Sbhsxu5gSUew"
      },
      "outputs": [],
      "source": [
        "from sklearn.feature_extraction.text import CountVectorizer\n",
        "\n",
        "# Define a sample text data\n",
        "\n",
        "# Initialize the CountVectorizer\n",
        "vectorizer = CountVectorizer(binary=True, max_features=5000 )\n",
        "\n",
        "# Fit the vectorizer to the text data\n",
        "vectorizer.fit(X_train)\n",
        "\n",
        "# # Transform the text data into a one-hot encoded matrix\n",
        "X_train_onehot = vectorizer.transform(X_train).toarray()\n",
        "X_test_onehot = vectorizer.transform(X_test).toarray()\n",
        "\n",
        "# Print the one-hot encoded data\n",
        "# type(X_train_onehot)"
      ]
    },
    {
      "cell_type": "code",
      "execution_count": 33,
      "metadata": {
        "id": "5Yyd5mCXt4Q5",
        "colab": {
          "base_uri": "https://localhost:8080/"
        },
        "outputId": "d2584cdc-8f16-4cd8-e6c2-d7e7b05a539b"
      },
      "outputs": [
        {
          "output_type": "stream",
          "name": "stdout",
          "text": [
            "Epoch 1/100\n",
            "2556/2560 [============================>.] - ETA: 0s - loss: 0.5290 - accuracy: 0.7382\n",
            "Epoch 1: val_loss improved from inf to 0.50462, saving model to my_best_model.hdf5\n",
            "2560/2560 [==============================] - 19s 7ms/step - loss: 0.5289 - accuracy: 0.7383 - val_loss: 0.5046 - val_accuracy: 0.7534\n",
            "Epoch 2/100\n",
            "2560/2560 [==============================] - ETA: 0s - loss: 0.4425 - accuracy: 0.7922\n",
            "Epoch 2: val_loss did not improve from 0.50462\n",
            "2560/2560 [==============================] - 16s 6ms/step - loss: 0.4425 - accuracy: 0.7922 - val_loss: 0.5215 - val_accuracy: 0.7549\n",
            "Epoch 3/100\n",
            "2554/2560 [============================>.] - ETA: 0s - loss: 0.3407 - accuracy: 0.8461\n",
            "Epoch 3: val_loss did not improve from 0.50462\n",
            "2560/2560 [==============================] - 16s 6ms/step - loss: 0.3407 - accuracy: 0.8461 - val_loss: 0.5821 - val_accuracy: 0.7475\n",
            "Epoch 4/100\n",
            "2550/2560 [============================>.] - ETA: 0s - loss: 0.2334 - accuracy: 0.8993\n",
            "Epoch 4: val_loss did not improve from 0.50462\n",
            "2560/2560 [==============================] - 16s 6ms/step - loss: 0.2336 - accuracy: 0.8992 - val_loss: 0.7327 - val_accuracy: 0.7382\n",
            "Epoch 5/100\n",
            "2558/2560 [============================>.] - ETA: 0s - loss: 0.1571 - accuracy: 0.9336\n",
            "Epoch 5: val_loss did not improve from 0.50462\n",
            "2560/2560 [==============================] - 15s 6ms/step - loss: 0.1571 - accuracy: 0.9336 - val_loss: 0.8937 - val_accuracy: 0.7321\n",
            "Epoch 6/100\n",
            "2550/2560 [============================>.] - ETA: 0s - loss: 0.1123 - accuracy: 0.9532\n",
            "Epoch 6: val_loss did not improve from 0.50462\n",
            "2560/2560 [==============================] - 15s 6ms/step - loss: 0.1122 - accuracy: 0.9532 - val_loss: 1.1369 - val_accuracy: 0.7257\n"
          ]
        }
      ],
      "source": [
        "from keras.callbacks import ModelCheckpoint\n",
        "from keras.layers import CuDNNLSTM, Dropout,SimpleRNN,Reshape\n",
        "import tensorflow as tf\n",
        "\n",
        "filepath = 'my_best_model.hdf5'\n",
        "\n",
        "callback = tf.keras.callbacks.EarlyStopping(monitor=\"val_loss\",patience=5,restore_best_weights=True)\n",
        "checkpoint = ModelCheckpoint(filepath=filepath, \n",
        "                             monitor='val_loss',\n",
        "                             verbose=1, \n",
        "                             save_best_only=True,\n",
        "                             mode='min')\n",
        "opt = tf.keras.optimizers.Adam(learning_rate=0.01)\n",
        "timesteps = 1\n",
        "vocab_size = 5000\n",
        "input_shape = (vocab_size,)\n",
        "\n",
        "GRU_onehot = Sequential()\n",
        "GRU_onehot.add(Dense(units=150, activation='relu', input_shape=input_shape))\n",
        "GRU_onehot.add(Reshape((1, 150)))\n",
        "GRU_onehot.add(GRU(150))\n",
        "GRU_onehot.add(Dropout(0.2))\n",
        "GRU_onehot.add(Dense(2, activation='softmax'))\n",
        "GRU_onehot.compile(loss='categorical_crossentropy', optimizer=opt, metrics=['accuracy'])\n",
        "\n",
        "\n",
        "hist = GRU_onehot.fit(X_train_onehot, y_train, epochs=100, batch_size=32, validation_split=0.2, callbacks=[checkpoint,callback])\n"
      ]
    },
    {
      "cell_type": "markdown",
      "source": [
        "## Results"
      ],
      "metadata": {
        "id": "9uY2J8funu72"
      }
    },
    {
      "cell_type": "code",
      "execution_count": 34,
      "metadata": {
        "id": "6Vs21PQDJHEu",
        "colab": {
          "base_uri": "https://localhost:8080/"
        },
        "outputId": "5b846c82-7202-459e-a0f6-a4522ee9e2bf"
      },
      "outputs": [
        {
          "output_type": "stream",
          "name": "stdout",
          "text": [
            "800/800 [==============================] - 3s 3ms/step\n"
          ]
        }
      ],
      "source": [
        "y_pred = GRU_onehot.predict(X_test_onehot)\n"
      ]
    },
    {
      "cell_type": "code",
      "execution_count": 35,
      "metadata": {
        "id": "KLoqsYBKt6fg",
        "colab": {
          "base_uri": "https://localhost:8080/",
          "height": 449
        },
        "outputId": "8682f5cb-c60b-42b8-dcf7-f3bb26158553"
      },
      "outputs": [
        {
          "output_type": "display_data",
          "data": {
            "text/plain": [
              "<Figure size 640x480 with 2 Axes>"
            ],
            "image/png": "[encoded data removed]"
          },
          "metadata": {}
        }
      ],
      "source": [
        "from sklearn.metrics import confusion_matrix, ConfusionMatrixDisplay\n",
        "import matplotlib.pyplot as plt\n",
        "\n",
        "\n",
        "\n",
        "y_pred_classes = np.argmax(y_pred, axis=1)\n",
        "y_true_classes = np.argmax(y_test, axis=1)\n",
        "conf_mat = confusion_matrix(y_true_classes, y_pred_classes)\n",
        "disp = ConfusionMatrixDisplay(conf_mat, display_labels=['Negative', 'Positive'])\n",
        "disp.plot()\n",
        "plt.show()\n"
      ]
    },
    {
      "cell_type": "code",
      "execution_count": 36,
      "metadata": {
        "id": "Qf7hZuE7JE7o",
        "colab": {
          "base_uri": "https://localhost:8080/"
        },
        "outputId": "a4dbd115-2846-49b3-9101-a9a1e83e0e10"
      },
      "outputs": [
        {
          "output_type": "stream",
          "name": "stdout",
          "text": [
            "              precision    recall  f1-score   support\n",
            "\n",
            "    Negative       0.75      0.77      0.76     12851\n",
            "    Positive       0.76      0.74      0.75     12749\n",
            "\n",
            "    accuracy                           0.76     25600\n",
            "   macro avg       0.76      0.76      0.76     25600\n",
            "weighted avg       0.76      0.76      0.76     25600\n",
            "\n"
          ]
        }
      ],
      "source": [
        "from sklearn.metrics import classification_report\n",
        "target_names = [\"Negative\",\"Positive\"]\n",
        "print(classification_report(y_true_classes, y_pred_classes, target_names=target_names))\n",
        "\n"
      ]
    }
  ],
  "metadata": {
    "accelerator": "GPU",
    "colab": {
      "provenance": [],
      "gpuType": "T4",
      "include_colab_link": true
    },
    "gpuClass": "standard",
    "kernelspec": {
      "display_name": "Python 3",
      "name": "python3"
    },
    "language_info": {
      "name": "python"
    }
  },
  "nbformat": 4,
  "nbformat_minor": 0
}