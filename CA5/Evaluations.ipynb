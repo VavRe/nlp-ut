{
 "cells": [
  {
   "cell_type": "code",
   "execution_count": 2,
   "metadata": {},
   "outputs": [],
   "source": [
    "%load_ext tensorboard"
   ]
  },
  {
   "attachments": {},
   "cell_type": "markdown",
   "metadata": {},
   "source": [
    "## TensorBoard"
   ]
  },
  {
   "cell_type": "code",
   "execution_count": 15,
   "metadata": {},
   "outputs": [
    {
     "data": {
      "text/html": [
       "\n",
       "      <iframe id=\"tensorboard-frame-91b5c7481d40cb1d\" width=\"100%\" height=\"800\" frameborder=\"0\">\n",
       "      </iframe>\n",
       "      <script>\n",
       "        (function() {\n",
       "          const frame = document.getElementById(\"tensorboard-frame-91b5c7481d40cb1d\");\n",
       "          const url = new URL(\"/\", window.location);\n",
       "          const port = 6017;\n",
       "          if (port) {\n",
       "            url.port = port;\n",
       "          }\n",
       "          frame.src = url;\n",
       "        })();\n",
       "      </script>\n",
       "    "
      ],
      "text/plain": [
       "<IPython.core.display.HTML object>"
      ]
     },
     "metadata": {},
     "output_type": "display_data"
    }
   ],
   "source": [
    "%tensorboard --logdir=./tensorboard_logs/ --port=6017"
   ]
  },
  {
   "attachments": {},
   "cell_type": "markdown",
   "metadata": {},
   "source": [
    "## BLUE for Generations"
   ]
  },
  {
   "cell_type": "code",
   "execution_count": 7,
   "metadata": {},
   "outputs": [],
   "source": [
    "with open('./evals/raw_eval.txt',\"r\") as f:\n",
    "    raw = f.readlines()\n",
    "\n",
    "with open('./evals/bpe_eval.txt',\"r\") as f:\n",
    "    bpe = f.readlines()\n",
    "\n",
    "with open('./evals/mbert_eval.txt',\"r\") as f:\n",
    "    mbert = f.readlines()\n",
    "\n",
    "with open('./evals/mbert_frozen_eval.txt',\"r\") as f:\n",
    "    mbert_frozen = f.readlines()\n"
   ]
  },
  {
   "cell_type": "code",
   "execution_count": 10,
   "metadata": {},
   "outputs": [
    {
     "name": "stdout",
     "output_type": "stream",
     "text": [
      "\n",
      "Raw Evaluation: Generate test with beam=5: BLEU4 = 23.38, 56.8/30.1/17.1/10.2 (BP=1.000, ratio=1.114, syslen=100944, reflen=90650)\n",
      " \n",
      "BPE Evaluation: Generate test with beam=5: BLEU4 = 26.40, 58.5/32.8/20.3/13.0 (BP=0.991, ratio=0.991, syslen=109445, reflen=110471)\n",
      " \n",
      "mBERT Frozen Evaluation: Generate test with beam=5: BLEU4 = 25.89, 55.3/33.2/19.7/12.4 (BP=1.000, ratio=1.021, syslen=160926, reflen=157543)\n",
      " \n",
      "mBERT Evaluation: Generate test with beam=5: BLEU4 = 37.28, 65.7/44.5/30.5/21.7 (BP=1.000, ratio=1.009, syslen=158943, reflen=157543)\n",
      " \n",
      "\n"
     ]
    }
   ],
   "source": [
    "print(f\"\"\"\n",
    "Raw Evaluation: {raw[-1]} \n",
    "BPE Evaluation: {bpe[-1]} \n",
    "mBERT Frozen Evaluation: {mbert_frozen[-1]} \n",
    "mBERT Evaluation: {mbert[-1]} \n",
    "\"\"\")"
   ]
  }
 ],
 "metadata": {
  "kernelspec": {
   "display_name": "venv",
   "language": "python",
   "name": "python3"
  },
  "language_info": {
   "codemirror_mode": {
    "name": "ipython",
    "version": 3
   },
   "file_extension": ".py",
   "mimetype": "text/x-python",
   "name": "python",
   "nbconvert_exporter": "python",
   "pygments_lexer": "ipython3",
   "version": "3.10.6"
  },
  "orig_nbformat": 4
 },
 "nbformat": 4,
 "nbformat_minor": 2
}
