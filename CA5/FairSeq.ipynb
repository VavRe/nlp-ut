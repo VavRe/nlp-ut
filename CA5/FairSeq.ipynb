{
 "cells": [
  {
   "cell_type": "code",
   "execution_count": 6,
   "metadata": {},
   "outputs": [],
   "source": [
    "import sentencepiece as spm\n",
    "import os"
   ]
  },
  {
   "cell_type": "code",
   "execution_count": 8,
   "metadata": {},
   "outputs": [
    {
     "name": "stdout",
     "output_type": "stream",
     "text": [
      "670000 ./raw_data/train.fa\n"
     ]
    },
    {
     "name": "stdout",
     "output_type": "stream",
     "text": [
      "670000 ./raw_data/train.en\n",
      "4000 ./raw_data/valid.fa\n",
      "4000 ./raw_data/valid.en\n",
      "10000 ./raw_data/test.fa\n",
      "10000 ./raw_data/test.fa\n"
     ]
    }
   ],
   "source": [
    "## Here, you can see how many lines each file has\n",
    "\n",
    "!wc -l ./raw_data/train.fa\n",
    "!wc -l ./raw_data/train.en\n",
    "!wc -l ./raw_data/valid.fa\n",
    "!wc -l ./raw_data/valid.en\n",
    "!wc -l ./raw_data/test.fa\n",
    "!wc -l ./raw_data/test.fa"
   ]
  },
  {
   "cell_type": "code",
   "execution_count": 9,
   "metadata": {},
   "outputs": [
    {
     "name": "stdout",
     "output_type": "stream",
     "text": [
      "مرگ 50 ستیزه جوی دیگر در عملیات وزیرستان شمالی\n",
      "پیشاور - به گزارش جیو نیوز , عملیات ادامه دار ارتش در وزیرستان شمالیمنجر به مرگ دست کم 50 ستیزه جوی مظنون دیگر در روز 17 ژوئن شد .\n",
      "به گزارش رسانه‌ها , نیروی هوایی پاکستان حملات هوایی را علیه مخفیگاه های ستیزه جویی در میرعلی و نواحی دیگر منطقه انجام داد و دست کم هشت مخفیگاه را ویران کرد .\n",
      "North Waziristan operation kills 50 more militants\n",
      "PESHAWAR - The on - goingmilitary operation in North Waziristankilled at least 50 more suspected militants June 17 , Geo News reported .\n",
      "The Pakistani Air Force conducted airstrikes against militant hideouts in Mir Ali and other areas of the agency , destroying at least eight , media reported .\n"
     ]
    }
   ],
   "source": [
    "!head ./raw_data/train.fa -n 3\n",
    "!head ./raw_data/train.en -n 3"
   ]
  },
  {
   "cell_type": "code",
   "execution_count": 7,
   "metadata": {},
   "outputs": [
    {
     "name": "stdout",
     "output_type": "stream",
     "text": [
      "the model already exists\n"
     ]
    }
   ],
   "source": [
    "# Do this only if  m_fa is not created in ./tokenizer\n",
    "\n",
    "if not os.path.exists('./tokenizer/m_fa.model'):\n",
    "    print(\"not exists\")\n",
    "    spm.SentencePieceTrainer.train(input='./raw_data/train.fa', model_prefix='tokenizer/m_fa', vocab_size=10000, character_coverage=1.0, model_type='bpe')\n",
    "else:\n",
    "    print(\"the model already exists\")"
   ]
  },
  {
   "cell_type": "code",
   "execution_count": 8,
   "metadata": {},
   "outputs": [
    {
     "name": "stdout",
     "output_type": "stream",
     "text": [
      "the model already exists\n"
     ]
    }
   ],
   "source": [
    "if not os.path.exists('./tokenizer/m_fa.model'):\n",
    "    print(\"not exists\")\n",
    "    spm.SentencePieceTrainer.train(input='./raw_data/train.en', model_prefix='tokenizer/m_en', vocab_size=10000, character_coverage=1.0, model_type='bpe')\n",
    "else:\n",
    "    print(\"the model already exists\")"
   ]
  },
  {
   "cell_type": "code",
   "execution_count": 1,
   "metadata": {},
   "outputs": [
    {
     "name": "stdout",
     "output_type": "stream",
     "text": [
      "the length of train_fa is 670000 and the length of train_en is 670000\n"
     ]
    }
   ],
   "source": [
    "# Read all raw files as lists of strings by line break\n",
    "with open('./raw_data/train.fa', 'r') as f:\n",
    "    train_fa = f.read().splitlines()\n",
    "with open('./raw_data/train.en', 'r') as f:\n",
    "    train_en = f.read().splitlines()\n",
    "with open('./raw_data/valid.fa', 'r') as f:\n",
    "    valid_fa = f.read().splitlines()\n",
    "with open('./raw_data/valid.en', 'r') as f:\n",
    "    valid_en = f.read().splitlines()\n",
    "with open('./raw_data/test.fa', 'r') as f:\n",
    "    test_fa = f.read().splitlines()\n",
    "with open('./raw_data/test.en', 'r') as f:\n",
    "    test_en = f.read().splitlines()\n",
    "\n",
    "print(f\"the length of train_fa is {len(train_fa)} and the length of train_en is {len(train_en)}\")\n"
   ]
  },
  {
   "cell_type": "code",
   "execution_count": 2,
   "metadata": {},
   "outputs": [
    {
     "data": {
      "text/plain": [
       "'مرگ 50 ستیزه جوی دیگر در عملیات وزیرستان شمالی'"
      ]
     },
     "execution_count": 2,
     "metadata": {},
     "output_type": "execute_result"
    }
   ],
   "source": [
    "train_fa[0]"
   ]
  },
  {
   "cell_type": "code",
   "execution_count": 3,
   "metadata": {},
   "outputs": [
    {
     "data": {
      "text/plain": [
       "'North Waziristan operation kills 50 more militants'"
      ]
     },
     "execution_count": 3,
     "metadata": {},
     "output_type": "execute_result"
    }
   ],
   "source": [
    "train_en[0]"
   ]
  },
  {
   "cell_type": "code",
   "execution_count": 9,
   "metadata": {},
   "outputs": [],
   "source": [
    "sp_fa = spm.SentencePieceProcessor(model_file='./tokenizer/m_fa.model')\n",
    "sp_en = spm.SentencePieceProcessor(model_file='./tokenizer/m_en.model')"
   ]
  },
  {
   "cell_type": "code",
   "execution_count": 10,
   "metadata": {},
   "outputs": [
    {
     "ename": "NameError",
     "evalue": "name 'encoded_fa' is not defined",
     "output_type": "error",
     "traceback": [
      "\u001b[0;31m---------------------------------------------------------------------------\u001b[0m",
      "\u001b[0;31mNameError\u001b[0m                                 Traceback (most recent call last)",
      "Cell \u001b[0;32mIn[10], line 8\u001b[0m\n\u001b[1;32m      5\u001b[0m encoded_test_fa \u001b[39m=\u001b[39m sp_fa\u001b[39m.\u001b[39mencode(test_fa, out_type\u001b[39m=\u001b[39m\u001b[39mstr\u001b[39m)\n\u001b[1;32m      6\u001b[0m encoded_test_en \u001b[39m=\u001b[39m sp_en\u001b[39m.\u001b[39mencode(test_en, out_type\u001b[39m=\u001b[39m\u001b[39mstr\u001b[39m)\n\u001b[0;32m----> 8\u001b[0m encoded_fa[\u001b[39m0\u001b[39m]\n",
      "\u001b[0;31mNameError\u001b[0m: name 'encoded_fa' is not defined"
     ]
    }
   ],
   "source": [
    "encoded_train_fa = sp_fa.encode(train_fa, out_type=str)\n",
    "encoded_train_en = sp_en.encode(train_en, out_type=str)\n",
    "encoded_valid_fa = sp_fa.encode(valid_fa, out_type=str)\n",
    "encoded_valid_en = sp_en.encode(valid_en, out_type=str)\n",
    "encoded_test_fa = sp_fa.encode(test_fa, out_type=str)\n",
    "encoded_test_en = sp_en.encode(test_en, out_type=str)\n",
    "\n",
    "encoded_train_fa[0]\n"
   ]
  },
  {
   "cell_type": "code",
   "execution_count": 11,
   "metadata": {},
   "outputs": [
    {
     "data": {
      "text/plain": [
       "['▁مرگ',\n",
       " '▁50',\n",
       " '▁ستیزه',\n",
       " '▁جوی',\n",
       " '▁دیگر',\n",
       " '▁در',\n",
       " '▁عملیات',\n",
       " '▁وزیرستان',\n",
       " '▁شمالی']"
      ]
     },
     "execution_count": 11,
     "metadata": {},
     "output_type": "execute_result"
    }
   ],
   "source": [
    "encoded_train_fa[0]\n"
   ]
  },
  {
   "cell_type": "code",
   "execution_count": 12,
   "metadata": {},
   "outputs": [
    {
     "data": {
      "text/plain": [
       "'▁مرگ ▁50 ▁ستیزه ▁جوی ▁دیگر ▁در ▁عملیات ▁وزیرستان ▁شمالی'"
      ]
     },
     "execution_count": 12,
     "metadata": {},
     "output_type": "execute_result"
    }
   ],
   "source": [
    "# turn each list of strings into a single string with space as the delimiter\n",
    "encoded_train_fa_str = [' '.join(sent) for sent in encoded_train_fa]\n",
    "encoded_train_en_str = [' '.join(sent) for sent in encoded_train_en]\n",
    "encoded_valid_fa_str = [' '.join(sent) for sent in encoded_valid_fa]\n",
    "encoded_valid_en_str = [' '.join(sent) for sent in encoded_valid_en]\n",
    "encoded_test_fa_str = [' '.join(sent) for sent in encoded_test_fa]\n",
    "encoded_test_en_str = [' '.join(sent) for sent in encoded_test_en]\n",
    "\n",
    "encoded_train_fa_str[0]"
   ]
  },
  {
   "cell_type": "code",
   "execution_count": 14,
   "metadata": {},
   "outputs": [],
   "source": [
    "# write all arrays of last cell to files in ./tokenized_data\n",
    "with open('./tokenized_data/train.fa', 'w') as f:\n",
    "    f.write('\\n'.join(encoded_train_fa_str))\n",
    "with open('./tokenized_data/train.en', 'w') as f:\n",
    "    f.write('\\n'.join(encoded_train_en_str))\n",
    "with open('./tokenized_data/valid.fa', 'w') as f:\n",
    "    f.write('\\n'.join(encoded_valid_fa_str))\n",
    "with open('./tokenized_data/valid.en', 'w') as f:\n",
    "    f.write('\\n'.join(encoded_valid_en_str))\n",
    "with open('./tokenized_data/test.fa', 'w') as f:\n",
    "    f.write('\\n'.join(encoded_test_fa_str))\n",
    "with open('./tokenized_data/test.en', 'w') as f:\n",
    "    f.write('\\n'.join(encoded_test_en_str))\n"
   ]
  },
  {
   "cell_type": "code",
   "execution_count": 15,
   "metadata": {},
   "outputs": [
    {
     "name": "stdout",
     "output_type": "stream",
     "text": [
      "▁North ▁Waziristan ▁operation ▁kills ▁50 ▁more ▁militants\n",
      "▁PESHAWAR ▁- ▁The ▁on ▁- ▁going m ilitary ▁operation ▁in ▁North ▁Waziristan k illed ▁at ▁least ▁50 ▁more ▁suspected ▁militants ▁June ▁17 ▁, ▁Geo ▁News ▁reported ▁.\n",
      "▁The ▁Pakistani ▁Air ▁Force ▁conducted ▁air st rik es ▁against ▁militant ▁hideouts ▁in ▁Mir ▁Ali ▁and ▁other ▁areas ▁of ▁the ▁agency ▁, ▁destroying ▁at ▁least ▁eight ▁, ▁media ▁reported ▁.\n",
      "▁A ▁day ▁earlier ▁, ▁at ▁least ▁27 ▁militants ▁were ▁reported ▁dead ▁after ▁j ets ▁p ounded ▁militant ▁hideouts ▁in ▁Sh aw al ▁.\n",
      "▁Meanwhile ▁, ▁a ▁roadside ▁blast ▁on ▁Bang id ar ▁road ▁in ▁the ▁Gh ul lam ▁Khan ▁area ▁June ▁16 ▁killed ▁six ▁security ▁personnel ▁and ▁wounded ▁three ▁others ▁, ▁according ▁to ▁officials ▁.\n",
      "▁مرگ ▁50 ▁ستیزه ▁جوی ▁دیگر ▁در ▁عملیات ▁وزیرستان ▁شمالی\n",
      "▁پیشاور ▁- ▁به ▁گزارش ▁جیو ▁نیوز ▁, ▁عملیات ▁ادامه ▁دار ▁ارتش ▁در ▁وزیرستان ▁شمال یمن جر ▁به ▁مرگ ▁دست ▁کم ▁50 ▁ستیزه ▁جوی ▁مظنون ▁دیگر ▁در ▁روز ▁17 ▁ژوئن ▁شد ▁.\n",
      "▁به ▁گزارش ▁رسانه ▁ها ▁, ▁نیروی ▁هوایی ▁پاکستان ▁حملات ▁هوایی ▁را ▁علیه ▁مخفیگاه ▁های ▁ستیزه ▁جویی ▁در ▁میر علی ▁و ▁نواحی ▁دیگر ▁منطقه ▁انجام ▁داد ▁و ▁دست ▁کم ▁هشت ▁مخفیگاه ▁را ▁ویران ▁کرد ▁.\n",
      "▁یک ▁روز ▁پیشتر ▁گزارش ▁شده ▁بود ▁که ▁دست ▁کم ▁27 ▁ستیزه ▁جو ▁در ▁پی ▁بمباران ▁مخفیگاه ▁های ▁ستیزه ▁جویان ▁در ▁شو ال ▁توسط ▁جت ▁های ▁بمب ▁اف کن ▁, ▁کشته ▁شدند ▁.\n",
      "▁در ▁ضمن ▁, ▁مسئولان ▁گفتند ▁که ▁یک ▁انفجار ▁کنارجاده ▁ای ▁در ▁روز ▁16 ▁ژوئن ▁در ▁خیابان ▁بنگ ید ار ▁ناحیه ▁غلام ▁خان ▁جان ▁شش ▁پرسنل ▁امنیتی ▁را ▁گرفت ▁و ▁سه ▁تن ▁دیگر ▁را ▁زخمی ▁کرد ▁.\n"
     ]
    }
   ],
   "source": [
    "!head ./tokenized_data/train.en -n 5\n",
    "!head ./tokenized_data/train.fa -n 5"
   ]
  },
  {
   "cell_type": "code",
   "execution_count": null,
   "metadata": {},
   "outputs": [],
   "source": []
  }
 ],
 "metadata": {
  "kernelspec": {
   "display_name": "venv",
   "language": "python",
   "name": "python3"
  },
  "language_info": {
   "codemirror_mode": {
    "name": "ipython",
    "version": 3
   },
   "file_extension": ".py",
   "mimetype": "text/x-python",
   "name": "python",
   "nbconvert_exporter": "python",
   "pygments_lexer": "ipython3",
   "version": "3.10.6"
  },
  "orig_nbformat": 4
 },
 "nbformat": 4,
 "nbformat_minor": 2
}
