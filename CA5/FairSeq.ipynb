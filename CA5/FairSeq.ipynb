{
 "cells": [
  {
   "cell_type": "code",
   "execution_count": 8,
   "metadata": {},
   "outputs": [
    {
     "name": "stdout",
     "output_type": "stream",
     "text": [
      "670000 ./raw_data/train.fa\n"
     ]
    },
    {
     "name": "stdout",
     "output_type": "stream",
     "text": [
      "670000 ./raw_data/train.en\n",
      "4000 ./raw_data/valid.fa\n",
      "4000 ./raw_data/valid.en\n",
      "10000 ./raw_data/test.fa\n",
      "10000 ./raw_data/test.fa\n"
     ]
    }
   ],
   "source": [
    "## Here, you can see how many lines each file has\n",
    "\n",
    "!wc -l ./raw_data/train.fa\n",
    "!wc -l ./raw_data/train.en\n",
    "!wc -l ./raw_data/valid.fa\n",
    "!wc -l ./raw_data/valid.en\n",
    "!wc -l ./raw_data/test.fa\n",
    "!wc -l ./raw_data/test.fa"
   ]
  },
  {
   "cell_type": "code",
   "execution_count": 9,
   "metadata": {},
   "outputs": [
    {
     "name": "stdout",
     "output_type": "stream",
     "text": [
      "مرگ 50 ستیزه جوی دیگر در عملیات وزیرستان شمالی\n",
      "پیشاور - به گزارش جیو نیوز , عملیات ادامه دار ارتش در وزیرستان شمالیمنجر به مرگ دست کم 50 ستیزه جوی مظنون دیگر در روز 17 ژوئن شد .\n",
      "به گزارش رسانه‌ها , نیروی هوایی پاکستان حملات هوایی را علیه مخفیگاه های ستیزه جویی در میرعلی و نواحی دیگر منطقه انجام داد و دست کم هشت مخفیگاه را ویران کرد .\n",
      "North Waziristan operation kills 50 more militants\n",
      "PESHAWAR - The on - goingmilitary operation in North Waziristankilled at least 50 more suspected militants June 17 , Geo News reported .\n",
      "The Pakistani Air Force conducted airstrikes against militant hideouts in Mir Ali and other areas of the agency , destroying at least eight , media reported .\n"
     ]
    }
   ],
   "source": [
    "!head ./raw_data/train.fa -n 3\n",
    "!head ./raw_data/train.en -n 3"
   ]
  },
  {
   "cell_type": "code",
   "execution_count": 10,
   "metadata": {},
   "outputs": [],
   "source": [
    "import sentencepiece as spm\n",
    "\n",
    "spm.SentencePieceTrainer.train(input='./raw_data/train.fa', model_prefix='tokenizer/m_fa', vocab_size=10000, character_coverage=1.0, model_type='bpe')"
   ]
  },
  {
   "cell_type": "code",
   "execution_count": 11,
   "metadata": {},
   "outputs": [],
   "source": [
    "spm.SentencePieceTrainer.train(input=\"./raw_data/train.en\", model_prefix=\"./tokenizer/m_en\", vocab_size=10000, character_coverage=1.0, model_type='bpe')"
   ]
  },
  {
   "cell_type": "code",
   "execution_count": 14,
   "metadata": {},
   "outputs": [
    {
     "name": "stdout",
     "output_type": "stream",
     "text": [
      "the length of train_fa is 670000 and the length of train_en is 670000\n"
     ]
    }
   ],
   "source": [
    "# Read raw_data/train.fa and raw_data/train.en as lists of strings by line break\n",
    "with open('./raw_data/train.fa', 'r') as f:\n",
    "    train_fa = f.read().splitlines()\n",
    "with open('./raw_data/train.en', 'r') as f:\n",
    "    train_en = f.read().splitlines()\n",
    "\n",
    "print(f\"the length of train_fa is {len(train_fa)} and the length of train_en is {len(train_en)}\")\n"
   ]
  },
  {
   "cell_type": "code",
   "execution_count": 15,
   "metadata": {},
   "outputs": [
    {
     "data": {
      "text/plain": [
       "'مرگ 50 ستیزه جوی دیگر در عملیات وزیرستان شمالی'"
      ]
     },
     "execution_count": 15,
     "metadata": {},
     "output_type": "execute_result"
    }
   ],
   "source": [
    "train_fa[0]"
   ]
  },
  {
   "cell_type": "code",
   "execution_count": 16,
   "metadata": {},
   "outputs": [
    {
     "data": {
      "text/plain": [
       "'North Waziristan operation kills 50 more militants'"
      ]
     },
     "execution_count": 16,
     "metadata": {},
     "output_type": "execute_result"
    }
   ],
   "source": [
    "train_en[0]"
   ]
  },
  {
   "cell_type": "code",
   "execution_count": 17,
   "metadata": {},
   "outputs": [],
   "source": [
    "sp_fa = spm.SentencePieceProcessor(model_file='./tokenizer/m_fa.model')\n",
    "sp_en = spm.SentencePieceProcessor(model_file='./tokenizer/m_en.model')"
   ]
  },
  {
   "cell_type": "code",
   "execution_count": null,
   "metadata": {},
   "outputs": [],
   "source": []
  }
 ],
 "metadata": {
  "kernelspec": {
   "display_name": "venv",
   "language": "python",
   "name": "python3"
  },
  "language_info": {
   "codemirror_mode": {
    "name": "ipython",
    "version": 3
   },
   "file_extension": ".py",
   "mimetype": "text/x-python",
   "name": "python",
   "nbconvert_exporter": "python",
   "pygments_lexer": "ipython3",
   "version": "3.10.6"
  },
  "orig_nbformat": 4
 },
 "nbformat": 4,
 "nbformat_minor": 2
}
